{
 "cells": [
  {
   "cell_type": "markdown",
   "metadata": {},
   "source": [
    "### Function to print all numbers divisible by 6 and not a factor of  100 in a given range(lb,ub) inclusive\n",
    "- for\n",
    "- while\n",
    "\n",
    "[101,210]\n",
    "for i in range(101,210+1)         here lb-starting number(inclusive) up-ending number +1(Exclusive) for range\n",
    "\n",
    "o/p:\n",
    "101\n",
    "102\n",
    ".\n",
    ".\n",
    ".\n",
    "210"
   ]
  },
  {
   "cell_type": "code",
   "execution_count": 50,
   "metadata": {},
   "outputs": [
    {
     "name": "stdout",
     "output_type": "stream",
     "text": [
      "90 96 102 108 114 120 126 132 138 144 150 156 162 168 174 180 186 192 198 204 210 216 222 228 234 240 246 252 258 264 270 276 282 288 294 306 312 318 324 330 336 342 348 354 360 366 372 378 384 390 396 402 408 414 420 426 432 438 444 450 456 462 468 474 480 486 492 498 504 510 516 522 528 534 540 546 552 558 564 570 576 582 588 594 606 612 618 624 630 636 642 648 654 660 666 672 678 684 690 696 "
     ]
    }
   ],
   "source": [
    "def divisibleby6(lnumber,unumber):\n",
    "    for i in range(lnumber,unumber):\n",
    "        if i%6==0 and i%100!=0:\n",
    "            print(i,end=' ')\n",
    "    return\n",
    "divisibleby6(90,700)\n"
   ]
  },
  {
   "cell_type": "markdown",
   "metadata": {},
   "source": [
    "# Function to find the average of cubes of all even numbers in a given range(lb,ub) inclusive"
   ]
  },
  {
   "cell_type": "code",
   "execution_count": 54,
   "metadata": {},
   "outputs": [
    {
     "data": {
      "text/plain": [
       "8.0"
      ]
     },
     "execution_count": 54,
     "metadata": {},
     "output_type": "execute_result"
    }
   ],
   "source": [
    "def avgCubesallEvenNo(lb,ub):\n",
    "    cube=0\n",
    "    sum=0\n",
    "    count=0\n",
    "    for i in range(lb,ub+1):\n",
    "        if i%2==0:\n",
    "            cube=i**3\n",
    "            sum=sum+cube\n",
    "            count=count+1\n",
    "    return sum/count\n",
    "avgCubesallEvenNo(1,3)\n",
    "    "
   ]
  },
  {
   "cell_type": "markdown",
   "metadata": {},
   "source": [
    "# Function to generate the list of factors for a given number\n",
    "- i/p:factores(12)\n",
    "- o/p:1 2 3 4 6 12"
   ]
  },
  {
   "cell_type": "code",
   "execution_count": 59,
   "metadata": {},
   "outputs": [
    {
     "name": "stdout",
     "output_type": "stream",
     "text": [
      "1 2 3 4 6 12 "
     ]
    }
   ],
   "source": [
    "def factores(num):\n",
    "    for i in range(1,num+1):\n",
    "        if num%i==0:\n",
    "            print(i,end=' ')\n",
    "    return \n",
    "factores(12)\n",
    "        "
   ]
  },
  {
   "cell_type": "markdown",
   "metadata": {},
   "source": [
    "# Function to calculate factorial of a given number\n",
    "- i/p:factorial(5)\n",
    "- o/p:120"
   ]
  },
  {
   "cell_type": "code",
   "execution_count": 75,
   "metadata": {},
   "outputs": [
    {
     "name": "stdout",
     "output_type": "stream",
     "text": [
      "1 2 6 24 120 120\n"
     ]
    }
   ],
   "source": [
    "def factorial(num):\n",
    "    fact=1\n",
    "    sum=0\n",
    "    for i in range(1,num+1):\n",
    "        fact=fact*i\n",
    "        print(fact,end=\" \")\n",
    "    sum=sum+fact\n",
    "    print(sum)\n",
    "factorial(5)    "
   ]
  },
  {
   "cell_type": "code",
   "execution_count": 78,
   "metadata": {},
   "outputs": [
    {
     "data": {
      "text/plain": [
       "6"
      ]
     },
     "execution_count": 78,
     "metadata": {},
     "output_type": "execute_result"
    }
   ],
   "source": [
    "def fact(n):\n",
    "    if n==1:\n",
    "        return n\n",
    "    else:\n",
    "        return n*fact(n-1)\n",
    "fact(3)"
   ]
  },
  {
   "cell_type": "markdown",
   "metadata": {},
   "source": [
    "# Function to check if a given number is prime\n",
    "- i/p:isprime(n)\n",
    "- o/p:True/False"
   ]
  },
  {
   "cell_type": "code",
   "execution_count": 27,
   "metadata": {},
   "outputs": [
    {
     "data": {
      "text/plain": [
       "False"
      ]
     },
     "execution_count": 27,
     "metadata": {},
     "output_type": "execute_result"
    }
   ],
   "source": [
    "def isPrime1(num):\n",
    "    flag=True\n",
    "    for i in range(2,num//2+1):\n",
    "        if num%i==0:\n",
    "            flag=False\n",
    "        return flag\n",
    "    return flag\n",
    "isPrime(16)"
   ]
  },
  {
   "cell_type": "code",
   "execution_count": 124,
   "metadata": {},
   "outputs": [
    {
     "data": {
      "text/plain": [
       "False"
      ]
     },
     "execution_count": 124,
     "metadata": {},
     "output_type": "execute_result"
    }
   ],
   "source": [
    "def isPrime2(num):\n",
    "    if num==2 or num%2!=0 and num%num==0 and num%1==0 and num%3!=0:\n",
    "        return True\n",
    "    else:\n",
    "        return False\n",
    "isPrime(9)"
   ]
  },
  {
   "cell_type": "markdown",
   "metadata": {},
   "source": [
    "# Function to calculate the average first N prime numbers\n",
    "- avgFirstNPrime(10)\n",
    "- 12.9\n"
   ]
  },
  {
   "cell_type": "code",
   "execution_count": 53,
   "metadata": {},
   "outputs": [
    {
     "name": "stdout",
     "output_type": "stream",
     "text": [
      "1 2 3 5 7 9 11 13 15 17 19 21 23 25 27 29 31 33 35 37 39 41 43 45 47 49 51 53 55 57 59 61 63 65 67 69 71 73 75 77 79 81 83 85 87 89 91 93 95 97 99 101 103 105 107 109 111 113 115 117 119 121 123 125 127 129 131 133 135 137 139 141 143 145 147 149 151 153 155 157 159 161 163 165 167 169 171 173 175 177 179 181 183 185 187 189 191 193 195 197 "
     ]
    }
   ],
   "source": [
    "def avgFirstNPrime(num):\n",
    "    count=0\n",
    "    for i in range(1,10000):\n",
    "        if isPrime1(i):\n",
    "            print(i,end=' ')\n",
    "            count=count+1\n",
    "            if count==num:\n",
    "                return\n",
    "avgFirstNPrime(100)           "
   ]
  },
  {
   "cell_type": "markdown",
   "metadata": {},
   "source": [
    "# Function to generate all perfect numbers in a given range"
   ]
  },
  {
   "cell_type": "code",
   "execution_count": null,
   "metadata": {},
   "outputs": [],
   "source": [
    "def perfectnumber(lb,ub):\n",
    "    sum=0\n",
    "    for i in range(lb,ub+1):\n",
    "        if i%2==0:\n",
    "            print(i)\n",
    "            sum=sum+i\n",
    "        if sum==\n",
    "        \n",
    "    "
   ]
  },
  {
   "cell_type": "markdown",
   "metadata": {},
   "source": [
    "# function to print the alternate values in a range in the same line\n",
    "### in mathemetical [500,550] meanes inclusive i.e 500,502,504.....550. that is start to end\n",
    "### in mathemetical (500,550) meanes exclusive i.e 501,503,505.....549. that is start+1 to end-1\n",
    "### when you give range(500,550)means 500,501,502......549\n",
    "#i/p:[500,550] (inclusive set)\n",
    "#o/p:[500,502,504,506......5]\n"
   ]
  },
  {
   "cell_type": "code",
   "execution_count": 25,
   "metadata": {},
   "outputs": [
    {
     "name": "stdout",
     "output_type": "stream",
     "text": [
      "500 502 504 506 508 510 512 514 516 518 520 522 524 526 528 530 532 534 536 538 540 542 544 546 548 550 "
     ]
    }
   ],
   "source": [
    "def altenateValues(start,end):\n",
    "    for i in range(start,end+1,2):#start:inclusive end:exlusive so we take end+1,and third parameter how much to increment bydefault it is 1\n",
    "        print(i,end=' ')\n",
    "    return\n",
    "altenateValues(500,550)\n"
   ]
  },
  {
   "cell_type": "markdown",
   "metadata": {},
   "source": [
    "### Function to print reverse of given range in the same line"
   ]
  },
  {
   "cell_type": "code",
   "execution_count": 7,
   "metadata": {},
   "outputs": [
    {
     "name": "stdout",
     "output_type": "stream",
     "text": [
      "550 549 548 547 546 545 544 543 542 541 540 539 538 537 536 535 534 533 532 531 530 529 528 527 526 525 524 523 522 521 520 519 518 517 516 515 514 513 512 511 510 509 508 507 506 505 504 503 502 501 500 "
     ]
    }
   ],
   "source": [
    "def reverseRange(start,end):\n",
    "    for i in range(end,start-1,-1):#becase start-1 is inclusive\n",
    "        print(i,end=' ')\n",
    "    return\n",
    "reverseRange(500,550)"
   ]
  },
  {
   "cell_type": "markdown",
   "metadata": {},
   "source": [
    "# Function to print odd numbers to the reverse order in a range"
   ]
  },
  {
   "cell_type": "code",
   "execution_count": 19,
   "metadata": {},
   "outputs": [
    {
     "name": "stdout",
     "output_type": "stream",
     "text": [
      "99 97 95 93 91 89 87 85 83 81 79 77 75 73 71 69 67 65 63 61 59 57 55 53 51 49 47 45 43 41 39 37 35 33 31 29 27 25 23 21 19 17 15 13 11 9 7 5 3 1 "
     ]
    }
   ],
   "source": [
    "def oddReverseRange(start,end):\n",
    "    for i  in range(end,start-1,-1):\n",
    "        if  i%2!=0:\n",
    "            print(i,end=\" \")\n",
    "    return\n",
    "oddReverseRange(1,100)"
   ]
  },
  {
   "cell_type": "code",
   "execution_count": 17,
   "metadata": {},
   "outputs": [
    {
     "name": "stdout",
     "output_type": "stream",
     "text": [
      "99 97 95 93 91 89 87 85 83 81 79 77 75 73 71 69 67 65 63 61 59 57 55 53 51 49 47 45 43 41 39 37 35 33 31 29 27 25 23 21 19 17 15 13 11 9 7 5 3 1 "
     ]
    }
   ],
   "source": [
    "def oddReverseRange(start,end):\n",
    "    for i  in range(end-1,start-1,-2):\n",
    "        print(i,end=\" \")\n",
    "    return\n",
    "oddReverseRange(0,100)"
   ]
  },
  {
   "cell_type": "markdown",
   "metadata": {},
   "source": [
    "# function to calculate the sum of numbers in a range"
   ]
  },
  {
   "cell_type": "code",
   "execution_count": 24,
   "metadata": {},
   "outputs": [
    {
     "data": {
      "text/plain": [
       "15150"
      ]
     },
     "execution_count": 24,
     "metadata": {},
     "output_type": "execute_result"
    }
   ],
   "source": [
    "def sumofnumbersRange(start,end):\n",
    "    sum=0;\n",
    "    for i in range(start,end+1):\n",
    "        sum=sum+i\n",
    "    return sum\n",
    "sumofnumbersRange(100,200)\n",
    "    "
   ]
  },
  {
   "cell_type": "markdown",
   "metadata": {},
   "source": [
    "### function to calculate the average of a given range\n",
    "- (1,5)->3"
   ]
  },
  {
   "cell_type": "code",
   "execution_count": 1,
   "metadata": {},
   "outputs": [
    {
     "data": {
      "text/plain": [
       "3.0"
      ]
     },
     "execution_count": 1,
     "metadata": {},
     "output_type": "execute_result"
    }
   ],
   "source": [
    "def sumofnumbersRange(start,end):\n",
    "    sum=0;\n",
    "    count=0\n",
    "    avg=0\n",
    "    for i in range(start,end+1):\n",
    "        sum=sum+i\n",
    "        #count=count+1\n",
    "    #avg=sum/count\n",
    "    return sum/(end-start+1)\n",
    "sumofnumbersRange(1,5)"
   ]
  },
  {
   "cell_type": "markdown",
   "metadata": {},
   "source": [
    "# Function to generate all leap years in a given time period\n",
    "- i/p:(2002,2020)\n",
    "- o/p:2000 2004 2008 2012 2016 2020"
   ]
  },
  {
   "cell_type": "code",
   "execution_count": 5,
   "metadata": {},
   "outputs": [
    {
     "name": "stdout",
     "output_type": "stream",
     "text": [
      "2000 2004 2008 2012 2016 2020 "
     ]
    }
   ],
   "source": [
    "#Function to generate all leap years in a given time period\n",
    "#i/p:(2002,2020)\n",
    "#o/p:2000 2004 2008 2012 2016 2020\n",
    "def isLeapYear(year):\n",
    "    if (year % 400 == 0) or (year % 4 == 0) and (year % 100 != 0):\n",
    "        return True\n",
    "    return False\n",
    "def generateLeapYears(startyear,endyear):\n",
    "    for i in range(startyear,endyear+1):\n",
    "        if isLeapYear(i):\n",
    "            print(i,end=' ')\n",
    "    return\n",
    "\n",
    "generateLeapYears(2000,2020)  "
   ]
  },
  {
   "cell_type": "code",
   "execution_count": 11,
   "metadata": {},
   "outputs": [
    {
     "data": {
      "text/plain": [
       "365"
      ]
     },
     "execution_count": 11,
     "metadata": {},
     "output_type": "execute_result"
    }
   ],
   "source": [
    "#calculate number of days in a given time period using leapyear logic\n",
    "\n",
    "def generatenoofDays(startyear,endyear):\n",
    "    leapyearcount=0\n",
    "    sum=0\n",
    "    for i in range(startyear,endyear+1):\n",
    "        if isLeapYear(i):\n",
    "            sum=sum+366\n",
    "        else:\n",
    "            sum=sum+365\n",
    "    return sum\n",
    "generatenoofDays(2018,2018)  "
   ]
  },
  {
   "cell_type": "code",
   "execution_count": 14,
   "metadata": {},
   "outputs": [
    {
     "data": {
      "text/plain": [
       "426"
      ]
     },
     "execution_count": 14,
     "metadata": {},
     "output_type": "execute_result"
    }
   ],
   "source": [
    "#Function to calculate number of hours for a given time period using leapyear logic\n",
    "#11,1975,03,1999(start_mnt,start_year,end_mnt,end_year)\n",
    "#numberofHours(11,1975,3,1999)->204504 or 205248\n",
    "#numberofHours(5,2019,6,2019)->1464\n",
    "#1 leap year hours->8784\n",
    "#1 nonleap year hours->8760\n",
    "\n",
    "#2,2017,6,2019\n",
    "#step1: [all days from feb 2016 to dec 2016,\n",
    "#step2:all days for years between start(2016+1) and end(2019-1),\n",
    "#step3:all days from Jan to june 2019]\n",
    "#no of hours=24*No of days\n",
    "#3 steps\n",
    "    #1.start month year to end of year - calculate no of \n",
    "    #2.Calculate days for all years between start year\n",
    "       #2017,2018 -365 * no of years\n",
    "    #3.calculate days from Jan to end month year\n",
    "    \n",
    "#Exluding Feb\n",
    "#First Six months ->1,3,4,5,6,7\n",
    "                           #all odd numbers have 31 days\n",
    "                           #All even months have 30 days\n",
    "#second Six months ->8,9,10,11,12\n",
    "                           #all odd numbers have 31 days\n",
    "                           #All even months have 30 days\n",
    "#31days->(month <= 7 and month %2! =0 and month != 2)//(month !== 2)\n",
    "#      return 31\n",
    "#  else\n",
    "#      return 30\n",
    "\n",
    "\n",
    "\n",
    "\n",
    "def numberdaysMonth(month,year):\n",
    "    if month == 2:\n",
    "        if isLeapYear(year):\n",
    "            return 29\n",
    "        return 28\n",
    "    elif (month <= 7 and month % 2!=0) or (month >= 8 and month % 2==0):\n",
    "        return 31\n",
    "    else:\n",
    "        return 30\n",
    "numberdaysMonth(9,2023)\n",
    "def daysInstartYear(startmonth,startyear):\n",
    "    days=0\n",
    "    for month in range(startmonth,13):\n",
    "        days+=numberdaysMonth(month,startyear)\n",
    "    return days\n",
    "def daysInEndYear(endmonth,endyear):\n",
    "    days=0\n",
    "    for month in range(1,endmonth+1):\n",
    "        days+=numberdaysMonth(month,endyear)\n",
    "    return days    \n",
    "def numberOfHours(startmonth,startyear,endmonth,endyear):\n",
    "    days=0\n",
    "    days+=daysInstartYear(startmonth,startyear)\n",
    "    days+=daysInEndYear(endmonth,endyear)\n",
    "    if endyear-startyear==2:\n",
    "        days+=generatenoofDays(startyear+1,startyear+1)\n",
    "    elif endyear-startyear>2:\n",
    "        days+=generatenoofDays(startyear+1,endyear-1)\n",
    "    return days\n",
    "numberOfHours(11,1999,12,1999)    \n",
    "    "
   ]
  },
  {
   "cell_type": "code",
   "execution_count": 21,
   "metadata": {},
   "outputs": [
    {
     "data": {
      "text/plain": [
       "True"
      ]
     },
     "execution_count": 21,
     "metadata": {},
     "output_type": "execute_result"
    }
   ],
   "source": [
    "def isPrime(num):\n",
    "    if num==2 or num==3  or num%2!=0 and num%num==0 and num%1==0 and num%3!=0 and num:\n",
    "        return True\n",
    "    else:\n",
    "        return False\n",
    "isPrime(2)"
   ]
  },
  {
   "cell_type": "code",
   "execution_count": 38,
   "metadata": {},
   "outputs": [
    {
     "name": "stdout",
     "output_type": "stream",
     "text": [
      "Enter the Range of prime Numbers20\n",
      "2 3 5 7 9 11 13 15 17 19 21 23 25 27 29 31 33 35 37 39 41 43 45 47 49 51 53 55 57 59 61 63 65 67 69 71 73 75 77 79 81 83 85 87 89 91 93 95 97 99 "
     ]
    }
   ],
   "source": [
    "\n",
    "def firstNPrimes(n):\n",
    "    count=0\n",
    "    num=int(input(\"Enter the Range of prime Numbers\"))\n",
    "    for i in range(2,n+1):\n",
    "        if isPrime1(i)==True:\n",
    "            count=count+1\n",
    "            print(i,end=\" \")\n",
    "    if count==20:\n",
    "        return\n",
    "firstNPrimes(100)"
   ]
  },
  {
   "cell_type": "code",
   "execution_count": 1,
   "metadata": {},
   "outputs": [
    {
     "data": {
      "text/plain": [
       "[1, 2, 3, 4, 5, 6]"
      ]
     },
     "execution_count": 1,
     "metadata": {},
     "output_type": "execute_result"
    }
   ],
   "source": [
    "s=\"1 2 3 4 5 6\"\n",
    "li = s.split()\n",
    "numberlist = []\n",
    "for i in li:\n",
    "    numberlist.append(int(i))\n",
    "numberlist"
   ]
  },
  {
   "cell_type": "code",
   "execution_count": 3,
   "metadata": {},
   "outputs": [
    {
     "name": "stdout",
     "output_type": "stream",
     "text": [
      "1 2 3 4 5 6 "
     ]
    }
   ],
   "source": [
    "s1=\"1 2 3 4 5 6\"\n",
    "li=s.split()\n",
    "for i in li:\n",
    "    print(i,end=\" \")"
   ]
  },
  {
   "cell_type": "code",
   "execution_count": 8,
   "metadata": {},
   "outputs": [
    {
     "name": "stdout",
     "output_type": "stream",
     "text": [
      "3\n"
     ]
    },
    {
     "data": {
      "text/plain": [
       "14"
      ]
     },
     "execution_count": 8,
     "metadata": {},
     "output_type": "execute_result"
    }
   ],
   "source": [
    "n=int(input())\n",
    "def sumSqaresNaturalNumbers(n):\n",
    "    sum=0\n",
    "    for i in range(1,n+1):\n",
    "        sum=sum+i**2\n",
    "    return sum\n",
    "sumSqaresNaturalNumbers(n)"
   ]
  }
 ],
 "metadata": {
  "kernelspec": {
   "display_name": "Python 3",
   "language": "python",
   "name": "python3"
  },
  "language_info": {
   "codemirror_mode": {
    "name": "ipython",
    "version": 3
   },
   "file_extension": ".py",
   "mimetype": "text/x-python",
   "name": "python",
   "nbconvert_exporter": "python",
   "pygments_lexer": "ipython3",
   "version": "3.7.3"
  }
 },
 "nbformat": 4,
 "nbformat_minor": 2
}
