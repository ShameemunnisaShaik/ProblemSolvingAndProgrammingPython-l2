{
 "cells": [
  {
   "cell_type": "markdown",
   "metadata": {},
   "source": [
    "### !)You are given an integer N. You need to print the series of all prime numbers till N.\n",
    "\n",
    "Input Format\n",
    "\n",
    "The first and only line of the input contains a single integer N denoting the number till where you need to find the series of prime number.\n",
    "\n",
    "Output Format\n",
    "\n",
    "Print the desired output in single line separated by spaces.\n",
    "\n",
    "Constraints\n",
    "\n",
    "1<=N<=1000\n",
    "\n",
    "SAMPLE INPUT \n",
    "9\n",
    "SAMPLE OUTPUT \n",
    "2 3 5 7"
   ]
  },
  {
   "cell_type": "code",
   "execution_count": 1,
   "metadata": {},
   "outputs": [
    {
     "name": "stdout",
     "output_type": "stream",
     "text": [
      "100\n",
      "2 3 5 7 11 13 17 19 23 29 31 37 41 43 47 53 59 61 67 71 73 79 83 89 97 "
     ]
    }
   ],
   "source": [
    "def isprime(num):\n",
    "    for i in range(2,num):\n",
    "        if num % i == 0:\n",
    "            return False\n",
    "    return True   \n",
    "def primenumbers(r):\n",
    "    for i in range(2,r+1):\n",
    "        if isprime(i):\n",
    "            print(i,end=' ')\n",
    "r=int(input())\n",
    "primenumbers(r)\n"
   ]
  },
  {
   "cell_type": "markdown",
   "metadata": {},
   "source": [
    "### 2)You have been given 3 integers - l, r and k. Find how many numbers between l and r (both inclusive) are divisible by k. You do not need to print these numbers, you just have to find their count.\n",
    "\n",
    "Input Format\n",
    "The first and only line of input contains 3 space separated integers l, r and k.\n",
    "\n",
    "Output Format\n",
    "Print the required answer on a single line.\n",
    "\n",
    "Constraints\n",
    " \n",
    "\n",
    "SAMPLE INPUT \n",
    "1 10 1\n",
    "SAMPLE OUTPUT \n",
    "10"
   ]
  },
  {
   "cell_type": "code",
   "execution_count": 5,
   "metadata": {},
   "outputs": [
    {
     "name": "stdout",
     "output_type": "stream",
     "text": [
      "1 10 1\n",
      "10\n"
     ]
    }
   ],
   "source": [
    "def countDivisor(l,r,k):\n",
    "    count=0\n",
    "    for i in range(l,r+1):\n",
    "        if i % k == 0:\n",
    "            count+=1\n",
    "    print(count)\n",
    "    return\n",
    "s=input()\n",
    "\n",
    "s=s.split()\n",
    "\n",
    "l=int(s[0])\n",
    "\n",
    "r=int(s[1])\n",
    "\n",
    "k=int(s[2])\n",
    "countDivisor(l,r,k)\n"
   ]
  },
  {
   "cell_type": "markdown",
   "metadata": {},
   "source": [
    "### 3)You have been given a positive integer N. You need to find and print the Factorial of this number. The Factorial of a positive integer N refers to the product of all number in the range from 1 to N. You can read more about the factorial of a number here.\n",
    "\n",
    "Input Format:\n",
    "The first and only line of the input contains a single integer N denoting the number whose factorial you need to find.\n",
    "\n",
    "Output Format\n",
    "Output a single line denoting the factorial of the number N.\n",
    "\n",
    "Constraints\n",
    "\n",
    "SAMPLE INPUT \n",
    "2\n",
    "SAMPLE OUTPUT \n",
    "2"
   ]
  },
  {
   "cell_type": "code",
   "execution_count": 6,
   "metadata": {},
   "outputs": [
    {
     "name": "stdout",
     "output_type": "stream",
     "text": [
      "5\n",
      "120\n"
     ]
    }
   ],
   "source": [
    "def factorialnumber(n):\n",
    "    fact = 1\n",
    "    sum=0\n",
    "    for i in range(1,n+1):\n",
    "        fact=fact*i\n",
    "    print(fact)\n",
    "n=int(input())\n",
    "factorialnumber(n)"
   ]
  },
  {
   "cell_type": "markdown",
   "metadata": {},
   "source": [
    "### 4)You have been given a String S consisting of uppercase and lowercase English alphabets. You need to change the case of each alphabet in this String. That is, all the uppercase letters should be converted to lowercase and all the lowercase letters should be converted to uppercase. You need to then print the resultant String to output.\n",
    "\n",
    "Input Format\n",
    "The first and only line of input contains the String S\n",
    "\n",
    "Output Format\n",
    "Print the resultant String on a single line.\n",
    "\n",
    "Constraints\n",
    " where S denotes the length of string S.\n",
    "\n",
    "SAMPLE INPUT \n",
    "abcdE\n",
    "SAMPLE OUTPUT \n",
    "ABCDe"
   ]
  },
  {
   "cell_type": "code",
   "execution_count": 7,
   "metadata": {},
   "outputs": [
    {
     "name": "stdout",
     "output_type": "stream",
     "text": [
      "aDFg\n",
      "AdfG\n"
     ]
    }
   ],
   "source": [
    "s=input()\n",
    "print(s.swapcase())"
   ]
  },
  {
   "cell_type": "markdown",
   "metadata": {},
   "source": [
    "### 5)You have been given a String S. You need to find and print whether this string is a palindrome or not. If yes, print \"YES\" (without quotes), else print \"NO\" (without quotes).\n",
    "\n",
    "Input Format\n",
    "The first and only line of input contains the String S. The String shall consist of lowercase English alphabets only.\n",
    "\n",
    "Output Format\n",
    "Print the required answer on a single line.\n",
    "\n",
    "Constraints \n",
    "\n",
    "Note\n",
    "String S consists of lowercase English Alphabets only.\n",
    "\n",
    "SAMPLE INPUT \n",
    "aba\n",
    "SAMPLE OUTPUT \n",
    "YES"
   ]
  },
  {
   "cell_type": "code",
   "execution_count": 8,
   "metadata": {},
   "outputs": [
    {
     "name": "stdout",
     "output_type": "stream",
     "text": [
      "ahha\n",
      "YES\n"
     ]
    }
   ],
   "source": [
    "def palindrome(s):\n",
    "    s2=s[::-1]\n",
    "    if s==s2:\n",
    "        print(\"YES\")\n",
    "    else:\n",
    "        print(\"NO\")\n",
    "s=input()\n",
    "palindrome(s)"
   ]
  },
  {
   "cell_type": "markdown",
   "metadata": {},
   "source": [
    "### 6)Given two strings of equal length, you have to tell whether they both strings are identical.\n",
    "\n",
    "Two strings S1 and S2 are said to be identical, if any of the permutation of string S1 is equal to the string S2. See Sample explanation for more details.\n",
    "\n",
    "Input :\n",
    "\n",
    "First line, contains an intger 'T' denoting no. of test cases.\n",
    "Each test consists of a single line, containing two space separated strings S1 and S2 of equal length.\n",
    "Output:\n",
    "\n",
    "For each test case, if any of the permutation of string S1 is equal to the string S2 print YES else print NO.\n",
    "Constraints:\n",
    "\n",
    "1<= T <=100\n",
    "1<= |S1| = |S2| <= 10^5\n",
    "String is made up of lower case letters only.\n",
    "Note : Use Hashing Concept Only . Try to do it in O(string length) .\n",
    "\n",
    "SAMPLE INPUT \n",
    "3\n",
    "sumit mitsu\n",
    "ambuj jumba\n",
    "abhi hibb\n",
    "SAMPLE OUTPUT \n",
    "YES"
   ]
  },
  {
   "cell_type": "code",
   "execution_count": 10,
   "metadata": {},
   "outputs": [
    {
     "name": "stdout",
     "output_type": "stream",
     "text": [
      "2\n",
      "smith misth\n",
      "YES\n",
      "abc cba\n",
      "YES\n"
     ]
    }
   ],
   "source": [
    "def twoStrings(l1,l2):\n",
    "    l1=sorted(l1)\n",
    "    l2=sorted(l2)\n",
    "    if l1==l2:\n",
    "        print(\"YES\")\n",
    "    else:\n",
    "        print(\"NO\")\n",
    "    \n",
    "s=int(input())\n",
    "for i in range(s):\n",
    "    s1=input()\n",
    "    l=s1.split()\n",
    "    twoStrings(l[0],l[1])"
   ]
  },
  {
   "cell_type": "code",
   "execution_count": 83,
   "metadata": {},
   "outputs": [
    {
     "name": "stdout",
     "output_type": "stream",
     "text": [
      "teja taj\n",
      "NO\n"
     ]
    }
   ],
   "source": [
    "def twoStrings(list1,list2):\n",
    "    newlist=[]\n",
    "    if len(list1)==len(list2):\n",
    "        for i in list1:\n",
    "            if strings(list2,i):\n",
    "                newlist.append(i) \n",
    "        if len(newlist)==len(list1):\n",
    "            print(\"YES\")\n",
    "        else:\n",
    "            print(\"NO\")\n",
    "    else:\n",
    "        print(\"NO\")\n",
    "s=input()\n",
    "s=s.split()\n",
    "s1=s[0]\n",
    "s2=s[1]\n",
    "twoStrings(s1,s2)"
   ]
  },
  {
   "cell_type": "markdown",
   "metadata": {},
   "source": [
    "### 7) Rahul is a very busy persion he dont wan't to waste his time . He keeps account of duration of each and every work. Now he don't even get time to calculate duration of works, So your job is to count the durations for each work and give it to rahul.\n",
    "\n",
    " \n",
    "\n",
    "Input:\n",
    "\n",
    "First line will be given by N number of works\n",
    "Next N line will be given SH,SM,EH and EM  each separated by space(SH=starting hr, SM=starting min, EH=ending hr, EM=ending min)\n",
    "Output:\n",
    "\n",
    "N lines with duration HH MM(hours and minutes separated by space)\n",
    "SAMPLE INPUT \n",
    "2\n",
    "1 44 2 14\n",
    "2 42 8 23\n",
    "SAMPLE OUTPUT \n",
    "0 30\n",
    "5 41"
   ]
  },
  {
   "cell_type": "code",
   "execution_count": 11,
   "metadata": {},
   "outputs": [
    {
     "name": "stdout",
     "output_type": "stream",
     "text": [
      "2\n",
      "1 42 2 14\n",
      "0 32\n",
      "2 42 8 23\n",
      "5 41\n"
     ]
    }
   ],
   "source": [
    "def durarion(h1,m1,h2,m2):\n",
    "    m=(m2+60)-m1\n",
    "    h=(h2-h1)-1\n",
    "    if m>=60:\n",
    "        m=m-60\n",
    "        h=h+1\n",
    "    print(h,m)\n",
    "i=int(input())\n",
    "for n in range(i):\n",
    "    s1=input()\n",
    "    s1=s1.split()\n",
    "    h1 = int(s1[0])\n",
    "    m1 = int(s1[1])\n",
    "    h2 = int(s1[2])\n",
    "    m2 = int(s1[3])\n",
    "    durarion(h1,m1,h2,m2)"
   ]
  },
  {
   "cell_type": "markdown",
   "metadata": {},
   "source": [
    "### 8)Consider All lowercase Alphabets of the English language. Here we consider each alphabet from a to z to have a certain weight. The weight of the alphabet a is considered to be 1, b to be 2, c to be 3 and so on until z has a weight of 26. In short, the weight of the alphabet a is 1, and the weight of all other alphabets is the weight of its previous alphabet + 1.\n",
    "\n",
    "Now, you have been given a String S consisting of lowercase English characters. You need to find the summation of weight of each character in this String.\n",
    "\n",
    "For example, Consider the String aba\n",
    "\n",
    "Here, the first character a has a weight of 1, the second character b has 2 and the third character a again has a weight of 1. So the summation here is equal to : 1+2+1=4\n",
    "\n",
    "Input Format:\n",
    "\n",
    "The first and only line of input contains the String S.\n",
    "\n",
    "Output Format:\n",
    "\n",
    "Print the required answer on a single line\n",
    "\n",
    "Constraints:\n",
    "\n",
    "1≤|S|≤100\n",
    "\n",
    "SAMPLE INPUT \n",
    "aba\n",
    "SAMPLE OUTPUT \n",
    "4"
   ]
  },
  {
   "cell_type": "code",
   "execution_count": 12,
   "metadata": {},
   "outputs": [
    {
     "name": "stdout",
     "output_type": "stream",
     "text": [
      "abd\n",
      "7\n"
     ]
    }
   ],
   "source": [
    "def charsum(s):\n",
    "    summ = 0\n",
    "    lenth = len(s)\n",
    "    for i in range(lenth):\n",
    "        for j in range(lenth):\n",
    "            summ += ((ord(s[j])-ord('a'))+1)\n",
    "        break\n",
    "    print(summ)\n",
    "s=input()\n",
    "charsum(s)"
   ]
  },
  {
   "cell_type": "code",
   "execution_count": null,
   "metadata": {},
   "outputs": [],
   "source": []
  }
 ],
 "metadata": {
  "kernelspec": {
   "display_name": "Python 3",
   "language": "python",
   "name": "python3"
  },
  "language_info": {
   "codemirror_mode": {
    "name": "ipython",
    "version": 3
   },
   "file_extension": ".py",
   "mimetype": "text/x-python",
   "name": "python",
   "nbconvert_exporter": "python",
   "pygments_lexer": "ipython3",
   "version": "3.7.3"
  }
 },
 "nbformat": 4,
 "nbformat_minor": 2
}
