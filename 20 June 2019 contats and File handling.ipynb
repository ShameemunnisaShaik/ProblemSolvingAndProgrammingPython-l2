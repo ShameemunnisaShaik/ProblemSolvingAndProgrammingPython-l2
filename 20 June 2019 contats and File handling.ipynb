{
 "cells": [
  {
   "cell_type": "markdown",
   "metadata": {},
   "source": [
    "## Contacts application using Dictionaries"
   ]
  },
  {
   "cell_type": "markdown",
   "metadata": {},
   "source": [
    "### Validaitons"
   ]
  },
  {
   "cell_type": "code",
   "execution_count": 2,
   "metadata": {},
   "outputs": [
    {
     "data": {
      "text/plain": [
       "True"
      ]
     },
     "execution_count": 2,
     "metadata": {},
     "output_type": "execute_result"
    }
   ],
   "source": [
    "import re\n",
    "\n",
    "def phonenumbervalidater(num):\n",
    "    pattern = '^[6-9][0-9]{9}$|^[0][6-9][0-9]{9}|^[+][9][1][6-9][0-9]{9}$'\n",
    "    if re.match(pattern,str(num)):\n",
    "        return True\n",
    "    else:\n",
    "        return False\n",
    "phonenumbervalidater(8686925122)\n",
    "def emailValidater(email):\n",
    "    pattern = '^[0-9a-z][0-9a-z_.]{4,13}[0-9a-z][@][0-9a-z]{3,18}[.][a-z]{2,4}$'\n",
    "    if re.match(pattern,str(email)):\n",
    "        return True\n",
    "    else:\n",
    "        return False\n",
    "emailValidater(\"shameem@gmail.com\")   "
   ]
  },
  {
   "cell_type": "markdown",
   "metadata": {},
   "source": [
    "### addContacts"
   ]
  },
  {
   "cell_type": "code",
   "execution_count": 3,
   "metadata": {},
   "outputs": [
    {
     "name": "stdout",
     "output_type": "stream",
     "text": [
      "Added Successfully\n"
     ]
    }
   ],
   "source": [
    "contacts = {\"name\":[9876734634,'name1*domain.ext'],\"name2\":[7483948744,'shameem@gmail.com']}\n",
    "def addcontacts(name,phone,email):\n",
    "    #verify that the contact doesnot alredy exists\n",
    "    if name in contacts:\n",
    "        print(name,\"Alreay exists.\")\n",
    "    else:\n",
    "        if not phonenumbervalidater(phone):\n",
    "            print(\"Invalid phone number\")\n",
    "            return\n",
    "        if not emailValidater(email):\n",
    "            print(\"Invalid Email address\")\n",
    "            return\n",
    "        newcontacts = []\n",
    "        newcontacts.append(phone)\n",
    "        newcontacts.append(email)\n",
    "        contacts[name] =newcontacts\n",
    "        print(\"Added Successfully\")\n",
    "    return\n",
    "addcontacts(\"name3\",8747384783,\"shameem@gmail.com\")"
   ]
  },
  {
   "cell_type": "code",
   "execution_count": 4,
   "metadata": {},
   "outputs": [
    {
     "data": {
      "text/plain": [
       "{'name': [9876734634, 'name1*domain.ext'],\n",
       " 'name2': [7483948744, 'shameem@gmail.com'],\n",
       " 'name3': [8747384783, 'shameem@gmail.com']}"
      ]
     },
     "execution_count": 4,
     "metadata": {},
     "output_type": "execute_result"
    }
   ],
   "source": [
    "contacts"
   ]
  },
  {
   "cell_type": "markdown",
   "metadata": {},
   "source": [
    "### SearchContact"
   ]
  },
  {
   "cell_type": "code",
   "execution_count": null,
   "metadata": {},
   "outputs": [],
   "source": []
  },
  {
   "cell_type": "code",
   "execution_count": 5,
   "metadata": {},
   "outputs": [
    {
     "name": "stdout",
     "output_type": "stream",
     "text": [
      "name2\n",
      "Phone: 7483948744\n",
      "Email: shameem@gmail.com\n"
     ]
    }
   ],
   "source": [
    "def searchContacts(name):\n",
    "    if name in contacts:\n",
    "        print(name)\n",
    "        print(\"Phone:\",contacts[name][0])\n",
    "        print(\"Email:\",contacts[name][1])\n",
    "    else:\n",
    "        print(\"%s does not exists\"%name)\n",
    "    return\n",
    "searchContacts(\"name2\")"
   ]
  },
  {
   "cell_type": "markdown",
   "metadata": {},
   "source": [
    "### impoerContacts"
   ]
  },
  {
   "cell_type": "code",
   "execution_count": 6,
   "metadata": {},
   "outputs": [
    {
     "name": "stdout",
     "output_type": "stream",
     "text": [
      "1 contacts added successfully\n"
     ]
    },
    {
     "data": {
      "text/plain": [
       "dict_items([('name', [9876734634, 'name1*domain.ext']), ('name2', [7483948744, 'shameem@gmail.com']), ('name3', [8747384783, 'shameem@gmail.com']), ('name4', [6789543256, 'chinna@yahoo.com'])])"
      ]
     },
     "execution_count": 6,
     "metadata": {},
     "output_type": "execute_result"
    }
   ],
   "source": [
    "def importcontacts(newContacts):\n",
    "    contacts.update(newContacts)\n",
    "    print(len(newContacts.keys()),\"contacts added successfully\")\n",
    "    return\n",
    "newContacts = {\"name4\":[6789543256,\"chinna@yahoo.com\"]}\n",
    "importcontacts(newContacts)\n",
    "contacts\n",
    "contacts.items()"
   ]
  },
  {
   "cell_type": "markdown",
   "metadata": {},
   "source": [
    "### Display Contacts"
   ]
  },
  {
   "cell_type": "code",
   "execution_count": 7,
   "metadata": {},
   "outputs": [
    {
     "name": "stdout",
     "output_type": "stream",
     "text": [
      "name \n",
      " Phone: 9876734634 \n",
      " Email: name1*domain.ext\n",
      "name2 \n",
      " Phone: 7483948744 \n",
      " Email: shameem@gmail.com\n",
      "name3 \n",
      " Phone: 8747384783 \n",
      " Email: shameem@gmail.com\n",
      "name4 \n",
      " Phone: 6789543256 \n",
      " Email: chinna@yahoo.com\n"
     ]
    }
   ],
   "source": [
    "#Function to list all contacts\n",
    "\n",
    "def listallContacts():\n",
    "    for contact, info  in contacts.items():\n",
    "        print(contact,\"\\n\",\"Phone:\",info[0],\"\\n\",\"Email:\",info[1])\n",
    "    return\n",
    "\n",
    "listallContacts()       \n",
    "    "
   ]
  },
  {
   "cell_type": "markdown",
   "metadata": {},
   "source": [
    "### Update/Modify Contacts"
   ]
  },
  {
   "cell_type": "code",
   "execution_count": 8,
   "metadata": {},
   "outputs": [
    {
     "name": "stdout",
     "output_type": "stream",
     "text": [
      "Added sucessfully\n"
     ]
    }
   ],
   "source": [
    "def modifyexistingcontact(name,phone,email):\n",
    "    if name in contacts:\n",
    "        contacts[name][0]=phone\n",
    "        contacts[name][1]=email\n",
    "        print(\"Added sucessfully\")\n",
    "    else:\n",
    "        print(\"Address not found\")\n",
    "    \n",
    "modifyexistingcontact(\"name\",9848810881,\"mammymail@gmail.com\")       \n",
    "    \n",
    "\n",
    "    "
   ]
  },
  {
   "cell_type": "code",
   "execution_count": 9,
   "metadata": {},
   "outputs": [
    {
     "data": {
      "text/plain": [
       "{'name': [9848810881, 'mammymail@gmail.com'],\n",
       " 'name2': [7483948744, 'shameem@gmail.com'],\n",
       " 'name3': [8747384783, 'shameem@gmail.com'],\n",
       " 'name4': [6789543256, 'chinna@yahoo.com']}"
      ]
     },
     "execution_count": 9,
     "metadata": {},
     "output_type": "execute_result"
    }
   ],
   "source": [
    "contacts"
   ]
  },
  {
   "cell_type": "markdown",
   "metadata": {},
   "source": [
    "# File handling in Python\n",
    "\n",
    "File -Documents containing information residing\n",
    "Types - Text,PDF,CSV etc\n",
    "\n",
    "here data is permanently stored\n",
    "\n",
    "File I/O\n",
    "chanelling I/O data to files\n",
    "Default I/O channels for jupyter python is,Keyboard/Screen\n",
    "\n",
    "Change I/O channel to files for reading and writing \n",
    "\n",
    "Read a file - input (reading file from to program)\n",
    "write a file - Output to a file\n",
    "\n",
    "**Functions for read and write**\n",
    "- Read/Write file -> **open(filename,mode)**\n"
   ]
  },
  {
   "cell_type": "code",
   "execution_count": 11,
   "metadata": {},
   "outputs": [
    {
     "name": "stdout",
     "output_type": "stream",
     "text": [
      "\n",
      "Line2\n",
      "Line3\n",
      "Line2\n",
      "Line3\n"
     ]
    }
   ],
   "source": [
    "#Function to read a file\n",
    "def readFile(filename):\n",
    "    f = open(filename,'r')\n",
    "    filedata = f.read()\n",
    "    f.close()\n",
    "    return filedata\n",
    "filename = 'Datafiles/data.txt'\n",
    "for line in readFile(filename).split('\\n')  :\n",
    "    print(line)"
   ]
  },
  {
   "cell_type": "code",
   "execution_count": 12,
   "metadata": {},
   "outputs": [
    {
     "name": "stdout",
     "output_type": "stream",
     "text": [
      "\n",
      "Line2\n",
      "Line3\n",
      "Line2\n",
      "Line3"
     ]
    }
   ],
   "source": [
    "def readFile(filename):\n",
    "    f = open(filename,'r')\n",
    "    filedata = f.read()\n",
    "    f.close()\n",
    "    return filedata\n",
    "filename = 'Datafiles/data.txt'\n",
    "filedata = readFile(filename)\n",
    "#for line in filedata.split('\\n')  :\n",
    "  #  print(line)\n",
    "    \n",
    "def printFileDataLines(filename):\n",
    "    with open(filename,'r') as f:\n",
    "        for line in f:\n",
    "            print(line,end = '')\n",
    "        return\n",
    "\n",
    "printFileDataLines(filename)"
   ]
  },
  {
   "cell_type": "code",
   "execution_count": 13,
   "metadata": {},
   "outputs": [],
   "source": [
    "#Function to write data into a file\n",
    "def writeintoFile(filename,filedata):\n",
    "    with open(filename,'w') as f:\n",
    "        f.write(filedata)\n",
    "    return\n",
    "\n",
    "filename = 'Datafiles/data.txt'\n",
    "writeintoFile(filename,\"new data\")"
   ]
  },
  {
   "cell_type": "code",
   "execution_count": 15,
   "metadata": {},
   "outputs": [],
   "source": [
    "def appendDatatoFile(filename,filedata):\n",
    "    with open(filename,'a')as f:\n",
    "        f.write(filedata)\n",
    "    return\n",
    "filedata = \"Line2\\nLine3\"\n",
    "appendDatatoFile(filename,filedata)"
   ]
  },
  {
   "cell_type": "code",
   "execution_count": 16,
   "metadata": {},
   "outputs": [],
   "source": [
    "def appendDatatoFile(filename,filedata):\n",
    "    with open(filename,'a')as f:\n",
    "        for line in filedata:\n",
    "            f.write('\\n'+line)\n",
    "    return\n",
    "filedata = [\"Line2\",\"Line3\"]\n",
    "appendDatatoFile(filename,filedata)"
   ]
  }
 ],
 "metadata": {
  "kernelspec": {
   "display_name": "Python 3",
   "language": "python",
   "name": "python3"
  },
  "language_info": {
   "codemirror_mode": {
    "name": "ipython",
    "version": 3
   },
   "file_extension": ".py",
   "mimetype": "text/x-python",
   "name": "python",
   "nbconvert_exporter": "python",
   "pygments_lexer": "ipython3",
   "version": "3.7.3"
  }
 },
 "nbformat": 4,
 "nbformat_minor": 2
}
