{
 "cells": [
  {
   "cell_type": "code",
   "execution_count": 4,
   "metadata": {},
   "outputs": [
    {
     "name": "stdout",
     "output_type": "stream",
     "text": [
      "101111\n",
      "101111\n",
      "6\n"
     ]
    }
   ],
   "source": [
    "def likesdislikes(line1,line2):\n",
    "    count = 0\n",
    "    if len(line1)==len(line2):\n",
    "        for i in range(len(line1)):\n",
    "            if line1[i]== line2[i]:\n",
    "                count = count+1\n",
    "        \n",
    "    print(count)\n",
    "line1 = list(input())\n",
    "line2 = list(input())\n",
    "likesdislikes(line1,line2)"
   ]
  },
  {
   "cell_type": "markdown",
   "metadata": {},
   "source": [
    "- 1\n",
    "- 2\n",
    "- 1556"
   ]
  },
  {
   "cell_type": "code",
   "execution_count": null,
   "metadata": {},
   "outputs": [],
   "source": [
    "def checking(size,list):\n",
    "    for i in list:\n",
    "        if \n",
    "        \n",
    "size = list(input())\n",
    "list1 = input()\n",
    "checking(size,list1)"
   ]
  }
 ],
 "metadata": {
  "kernelspec": {
   "display_name": "Python 3",
   "language": "python",
   "name": "python3"
  },
  "language_info": {
   "codemirror_mode": {
    "name": "ipython",
    "version": 3
   },
   "file_extension": ".py",
   "mimetype": "text/x-python",
   "name": "python",
   "nbconvert_exporter": "python",
   "pygments_lexer": "ipython3",
   "version": "3.7.3"
  }
 },
 "nbformat": 4,
 "nbformat_minor": 2
}
