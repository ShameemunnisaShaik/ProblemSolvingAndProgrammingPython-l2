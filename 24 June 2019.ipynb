{
 "cells": [
  {
   "cell_type": "code",
   "execution_count": null,
   "metadata": {},
   "outputs": [],
   "source": [
    "#Contacts Application\n",
    "   #Add,Search,List,Modify,Delete\n",
    "    \n",
    "#Find and replace\n",
    "    # Count the total no.of occurances of a word\n",
    "    # If word is existing (yes or no)\n",
    "    # Replace all occurance of a word with another word\n",
    "    \n",
    "#Marks Analysis Application\n",
    "    #Generate marks file for n students \n",
    "    #Input : Marks text file - each line contains marks of one student\n",
    "    #Generete a report with the following information\n",
    "        # Class average\n",
    "        # % of students passed\n",
    "        # % of students failed\n",
    "        # % od students with distinction\n",
    "        \n",
    "        \n",
    "        \n",
    "    \n"
   ]
  },
  {
   "cell_type": "code",
   "execution_count": 4,
   "metadata": {},
   "outputs": [],
   "source": [
    "from random import randint\n",
    "def generateMarks(n, lb, ub):\n",
    "    with open('Datafiles/marks.txt', 'w') as f:\n",
    "        for i in range(0, n):\n",
    "            r = randint(lb, ub)\n",
    "            f.write(str(r) + '\\n')\n",
    "    return\n",
    "generateMarks(100, 0,100 )\n",
    "    \n",
    "    \n",
    "    "
   ]
  },
  {
   "cell_type": "code",
   "execution_count": null,
   "metadata": {},
   "outputs": [],
   "source": []
  }
 ],
 "metadata": {
  "kernelspec": {
   "display_name": "Python 3",
   "language": "python",
   "name": "python3"
  },
  "language_info": {
   "codemirror_mode": {
    "name": "ipython",
    "version": 3
   },
   "file_extension": ".py",
   "mimetype": "text/x-python",
   "name": "python",
   "nbconvert_exporter": "python",
   "pygments_lexer": "ipython3",
   "version": "3.7.3"
  }
 },
 "nbformat": 4,
 "nbformat_minor": 2
}
