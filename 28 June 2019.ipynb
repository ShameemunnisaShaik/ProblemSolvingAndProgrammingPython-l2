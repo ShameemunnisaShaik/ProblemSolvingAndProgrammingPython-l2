{
 "cells": [
  {
   "cell_type": "markdown",
   "metadata": {},
   "source": [
    "## 28 June 2019\n",
    "**Day Objectives**\n",
    "\n",
    "* Maps\n",
    "* Lambda\n",
    "* Filter\n",
    "* Use Cases - File / Data Encryption"
   ]
  },
  {
   "cell_type": "markdown",
   "metadata": {},
   "source": [
    "### Map"
   ]
  },
  {
   "cell_type": "markdown",
   "metadata": {},
   "source": [
    "Mapping - Entity with Function\n",
    "Map that can add the result after doing methemetical operation \n",
    "\n",
    "f : x^2\n",
    "\n",
    "x : [1,10]\n",
    "\n",
    "f(x)\n",
    "\n",
    "f(1) -> 1\n",
    "\n",
    "f(2) -> 4\n",
    "\n",
    ".... \n",
    "\n",
    "...\n",
    "\n",
    "...\n",
    "\n",
    "y =f(x)\n",
    "\n",
    "f:x^2\n",
    "\n",
    "x   y\n",
    "\n",
    "1   1\n",
    "\n",
    "2   4\n",
    "\n",
    "3   9\n",
    "\n",
    "4   16\n",
    "\n",
    "5   25\n",
    "\n",
    "6   ..\n",
    "\n",
    "7   ..\n",
    "\n",
    "map( function , Iterable )\n",
    "\n",
    "- at finally - 1 and 1 will map\n",
    "           - 2 and 4 will map\n",
    "           - 3 and 9 will map\n",
    "           - 4 and 16 will map\n",
    "           ...\n",
    "           ....\n",
    "\n",
    "\n",
    "\n",
    "\n",
    "\n",
    "\n",
    "\n",
    "\n",
    "\n",
    "\n",
    "\n",
    "\n",
    "\n",
    "\n",
    "\n",
    "\n",
    "\n",
    "\n",
    " "
   ]
  },
  {
   "cell_type": "code",
   "execution_count": 15,
   "metadata": {},
   "outputs": [
    {
     "data": {
      "text/plain": [
       "16"
      ]
     },
     "execution_count": 15,
     "metadata": {},
     "output_type": "execute_result"
    }
   ],
   "source": [
    "def powerN(a,n):\n",
    "    #return a ** n\n",
    "    r = 1\n",
    "    for i in range(0,n):\n",
    "        r *= a\n",
    "    return r\n",
    "#powerN(2,10)\n",
    "def recursionPowerN(a,n):\n",
    "    if n == 0:\n",
    "        return 1\n",
    "    else:\n",
    "        return a * recursionPowerN(a,n-1)\n",
    "recursionPowerN(2,4)\n",
    "        "
   ]
  },
  {
   "cell_type": "code",
   "execution_count": 24,
   "metadata": {},
   "outputs": [
    {
     "data": {
      "text/plain": [
       "{1, 8, 27, 64, 125, 216}"
      ]
     },
     "execution_count": 24,
     "metadata": {},
     "output_type": "execute_result"
    }
   ],
   "source": [
    "def cube(n):\n",
    "    return n ** 3\n",
    "li = [1,2,3,4,5,6]\n",
    "i = set(map(cube,li))\n",
    "i\n"
   ]
  },
  {
   "cell_type": "code",
   "execution_count": 25,
   "metadata": {},
   "outputs": [
    {
     "data": {
      "text/plain": [
       "{8, 27}"
      ]
     },
     "execution_count": 25,
     "metadata": {},
     "output_type": "execute_result"
    }
   ],
   "source": [
    "set(map(cube,{2,3}))"
   ]
  },
  {
   "cell_type": "code",
   "execution_count": 34,
   "metadata": {},
   "outputs": [
    {
     "data": {
      "text/plain": [
       "[1, 2, 3, 4]"
      ]
     },
     "execution_count": 34,
     "metadata": {},
     "output_type": "execute_result"
    }
   ],
   "source": [
    "li = ['1','2','3','4']\n",
    "li2 = list(map(int, li))\n",
    "li2"
   ]
  },
  {
   "cell_type": "code",
   "execution_count": 35,
   "metadata": {},
   "outputs": [
    {
     "data": {
      "text/plain": [
       "['1', '2', '3', '4']"
      ]
     },
     "execution_count": 35,
     "metadata": {},
     "output_type": "execute_result"
    }
   ],
   "source": [
    "li = list(map(str, li2))\n",
    "li"
   ]
  },
  {
   "cell_type": "code",
   "execution_count": 37,
   "metadata": {},
   "outputs": [
    {
     "data": {
      "text/plain": [
       "{1.0, 2.0, 3.0, 4.0}"
      ]
     },
     "execution_count": 37,
     "metadata": {},
     "output_type": "execute_result"
    }
   ],
   "source": [
    "li = set(map(float, li2))\n",
    "li"
   ]
  },
  {
   "cell_type": "code",
   "execution_count": 38,
   "metadata": {},
   "outputs": [
    {
     "data": {
      "text/plain": [
       "(1.0, 2.0, 3.0, 4.0)"
      ]
     },
     "execution_count": 38,
     "metadata": {},
     "output_type": "execute_result"
    }
   ],
   "source": [
    "li = tuple(map(float, li2))\n",
    "li"
   ]
  },
  {
   "cell_type": "code",
   "execution_count": 104,
   "metadata": {},
   "outputs": [
    {
     "name": "stdout",
     "output_type": "stream",
     "text": [
      "[1, 2, 3, 4, 5, 6, 7, 8, 9, 10, 15]\n"
     ]
    },
    {
     "data": {
      "text/plain": [
       "[1, 8, 27, 64, 125, 216, 343, 512, 729, 1000, 3375]"
      ]
     },
     "execution_count": 104,
     "metadata": {},
     "output_type": "execute_result"
    }
   ],
   "source": [
    "numbers = [int(i) for i in li]\n",
    "print(numbers)\n",
    "[cube(i) for i in numbers]"
   ]
  },
  {
   "cell_type": "code",
   "execution_count": null,
   "metadata": {},
   "outputs": [],
   "source": []
  },
  {
   "cell_type": "markdown",
   "metadata": {},
   "source": [
    "### Filter"
   ]
  },
  {
   "cell_type": "markdown",
   "metadata": {},
   "source": [
    "Used to check boolean values"
   ]
  },
  {
   "cell_type": "code",
   "execution_count": 54,
   "metadata": {},
   "outputs": [
    {
     "data": {
      "text/plain": [
       "[1, 2, 3, 4, 5, 6, 7]"
      ]
     },
     "execution_count": 54,
     "metadata": {},
     "output_type": "execute_result"
    }
   ],
   "source": [
    "li = [1,2,3,4,5,6,7,'a','b','c']\n",
    "\n",
    "def isDigit(c):\n",
    "    c= str(c)\n",
    "    if c.isdigit():\n",
    "        return 1\n",
    "    return 0\n",
    "isDigit('a')\n",
    "\n",
    "list(filter(isDigit,li))"
   ]
  },
  {
   "cell_type": "code",
   "execution_count": 55,
   "metadata": {},
   "outputs": [
    {
     "data": {
      "text/plain": [
       "['a', 'b', 'c']"
      ]
     },
     "execution_count": 55,
     "metadata": {},
     "output_type": "execute_result"
    }
   ],
   "source": [
    "li = [1,2,3,4,5,6,7,'a','b','c']\n",
    "\n",
    "def isDigit(c):\n",
    "    c= str(c)\n",
    "    if c.isdigit():\n",
    "        return 0\n",
    "    return 1\n",
    "isDigit('a')\n",
    "\n",
    "list(filter(isDigit,li))"
   ]
  },
  {
   "cell_type": "code",
   "execution_count": 56,
   "metadata": {},
   "outputs": [
    {
     "data": {
      "text/plain": [
       "[1, 2, 3, 4, 5, 6, 7, 'a', 'b', 'c']"
      ]
     },
     "execution_count": 56,
     "metadata": {},
     "output_type": "execute_result"
    }
   ],
   "source": [
    "li = [1,2,3,4,5,6,7,'a','b','c']\n",
    "\n",
    "def isDigit(c):\n",
    "    c= str(c)\n",
    "    if c.isdigit():\n",
    "        return -1\n",
    "    return 1\n",
    "isDigit('a')\n",
    "\n",
    "list(filter(isDigit,li))"
   ]
  },
  {
   "cell_type": "code",
   "execution_count": 91,
   "metadata": {},
   "outputs": [
    {
     "data": {
      "text/plain": [
       "[2, 3, 5, 7]"
      ]
     },
     "execution_count": 91,
     "metadata": {},
     "output_type": "execute_result"
    }
   ],
   "source": [
    "#To identify all primes in a range\n",
    "li = [1,2,3,4,5,6,7,8,9,10,15]\n",
    "def checkPrime(n):\n",
    "    if n < 2:\n",
    "        return False\n",
    "    for i in range(2,n//2+1):\n",
    "        if n%i == 0:\n",
    "            return False\n",
    "    return True\n",
    "checkPrime(2)\n",
    "list(filter(checkPrime,li))"
   ]
  },
  {
   "cell_type": "code",
   "execution_count": 102,
   "metadata": {},
   "outputs": [
    {
     "name": "stdout",
     "output_type": "stream",
     "text": [
      "usingfilter: [503, 509, 521, 523, 541, 547, 557, 563, 569, 571, 577, 587, 593, 599]\n",
      "using List comprehensions: [503, 509, 521, 523, 541, 547, 557, 563, 569, 571, 577, 587, 593, 599]\n"
     ]
    }
   ],
   "source": [
    "#li = [1,2,3,4,5,6,7,8,9,10,15]\n",
    "def checkPrime(n):\n",
    "    if n < 2:\n",
    "        return False\n",
    "    for i in range(2,n//2+1):\n",
    "        if n%i == 0:\n",
    "            return False\n",
    "    return True\n",
    "lb , ub = 500, 600\n",
    "\n",
    "primelist = list(filter(checkPrime,range(lb,ub)))\n",
    "print('usingfilter:',primelist)\n",
    "\n",
    "primelist2 =[i for i in range(lb,ub+1) if checkPrime(i)]\n",
    "print('using List comprehensions:',primelist)\n",
    "\n",
    "#Maps fails because it doesn't apply for checking mathemetical conditions"
   ]
  },
  {
   "cell_type": "markdown",
   "metadata": {},
   "source": [
    "### Lambda"
   ]
  },
  {
   "cell_type": "markdown",
   "metadata": {},
   "source": [
    "- **Anonymous functions** (anonymous means:function that does not have name)\n",
    "- can be embedded into into **List Comprehensions ,Maps,Filters**"
   ]
  },
  {
   "cell_type": "code",
   "execution_count": 112,
   "metadata": {},
   "outputs": [
    {
     "data": {
      "text/plain": [
       "1"
      ]
     },
     "execution_count": 112,
     "metadata": {},
     "output_type": "execute_result"
    }
   ],
   "source": [
    "a = lambda x: x % 2 \n",
    "a(5)"
   ]
  },
  {
   "cell_type": "code",
   "execution_count": 113,
   "metadata": {},
   "outputs": [
    {
     "data": {
      "text/plain": [
       "1000"
      ]
     },
     "execution_count": 113,
     "metadata": {},
     "output_type": "execute_result"
    }
   ],
   "source": [
    "b = lambda y: y ** 3\n",
    "b(10)"
   ]
  },
  {
   "cell_type": "code",
   "execution_count": 117,
   "metadata": {},
   "outputs": [
    {
     "data": {
      "text/plain": [
       "[1, 8, 27, 64, 125, 216]"
      ]
     },
     "execution_count": 117,
     "metadata": {},
     "output_type": "execute_result"
    }
   ],
   "source": [
    "list(map(lambda x: x ** 3,[1,2,3,4,5,6,]))"
   ]
  },
  {
   "cell_type": "code",
   "execution_count": 119,
   "metadata": {},
   "outputs": [
    {
     "data": {
      "text/plain": [
       "[2, 4, 6]"
      ]
     },
     "execution_count": 119,
     "metadata": {},
     "output_type": "execute_result"
    }
   ],
   "source": [
    "list(filter(lambda x: (x % 2 == 0),[1,2,3,4,5,6,7]))"
   ]
  },
  {
   "cell_type": "code",
   "execution_count": 120,
   "metadata": {},
   "outputs": [
    {
     "data": {
      "text/plain": [
       "[1, 3, 5, 7]"
      ]
     },
     "execution_count": 120,
     "metadata": {},
     "output_type": "execute_result"
    }
   ],
   "source": [
    "list(filter(lambda x: (x % 2 != 0),[1,2,3,4,5,6,7]))"
   ]
  },
  {
   "cell_type": "code",
   "execution_count": 143,
   "metadata": {},
   "outputs": [
    {
     "name": "stdout",
     "output_type": "stream",
     "text": [
      "[25, 17, 11, 20, 3, 14, 4, 2, 7, 7]\n",
      "[5, 21, 7, 23, 2, 2, 1, 18, 12, 4]\n",
      "[15, 19, 9, 21, 2, 8, 2, 10, 9, 5]\n",
      "[14, 14, 13, 17, 6, 12, 4, 11, 8, 10]\n",
      "[6, 4, 8]\n",
      "[14, 14, 13, 17, 12, 11]\n",
      "[14, 14, 13, 17, 12, 11]\n"
     ]
    }
   ],
   "source": [
    "from random import randint\n",
    "\n",
    "mark1 = [randint(1,25) for i in range(10)]\n",
    "print(mark1)\n",
    "mark2 = [randint(1,25) for i in range(10)]\n",
    "print(mark2)\n",
    "mark3 = [randint(1,25) for i in range(10)]\n",
    "\n",
    "avg1 = list(map(lambda x,y: (x+y)//2,mark1,mark2))\n",
    "print(avg1)\n",
    "avg2 = list(map(lambda x,y,z: (x+y+z)//3,mark1,mark2,mark3))\n",
    "print(avg2)\n",
    "\n",
    "failedmarks = list(filter(lambda x: x < 10, avg2))\n",
    "print(failedmarks)\n",
    "\n",
    "passmarks = list(filter(lambda x: x > 10, avg2))\n",
    "print(passmarks)\n",
    "\n",
    "passmarksinoneline = list(filter(lambda x: x>10 , list(map(lambda x, y, z : (x+y+z)//3, mark1, mark2, mark3))))\n",
    "print(passmarksinoneline)"
   ]
  },
  {
   "cell_type": "markdown",
   "metadata": {},
   "source": [
    "### Applying Functioanl Programming to the Marks Analysis Application "
   ]
  },
  {
   "cell_type": "code",
   "execution_count": 177,
   "metadata": {},
   "outputs": [],
   "source": [
    "#Generate Mark Analysis\n",
    "from random import randint\n",
    "def generatemarks(n, lb, ub):\n",
    "    filename = 'Datafiles/marks.txt'\n",
    "    with open(filename,'w') as f:\n",
    "        for i in range(n):\n",
    "            marks = randint(lb,ub)\n",
    "            f.write(str(marks)+'\\n')\n",
    "    return\n",
    "generatemarks(100,0,300)\n",
    "            \n",
    "        "
   ]
  },
  {
   "cell_type": "code",
   "execution_count": 178,
   "metadata": {},
   "outputs": [],
   "source": [
    "#Marks Analysis \n",
    "#Class Average, % Passed, Failed and Distinction\n",
    "#Frequency of highest and lowest mark"
   ]
  },
  {
   "cell_type": "code",
   "execution_count": 179,
   "metadata": {},
   "outputs": [
    {
     "data": {
      "text/plain": [
       "143"
      ]
     },
     "execution_count": 179,
     "metadata": {},
     "output_type": "execute_result"
    }
   ],
   "source": [
    "def readmarksList(filename):\n",
    "    markslist = []\n",
    "    with open(filename, 'r') as f:\n",
    "        filedata = f.read().split()\n",
    "        markslist = list(map(int,filedata))\n",
    "    return markslist\n",
    "    \n",
    "\n",
    "def classAverage(filename):\n",
    "    markslist =  readmarksList(filename)\n",
    "    avg = sum(markslist)//len(markslist)\n",
    "    return avg\n",
    "classAverage(filename)\n",
    "        "
   ]
  },
  {
   "cell_type": "code",
   "execution_count": 180,
   "metadata": {},
   "outputs": [
    {
     "data": {
      "text/plain": [
       "16.0"
      ]
     },
     "execution_count": 180,
     "metadata": {},
     "output_type": "execute_result"
    }
   ],
   "source": [
    "def percentageFailed(filename):\n",
    "    markslist = readmarksList(filename)\n",
    "    failedcount = len(list(filter(lambda mark: mark<40, markslist)))\n",
    "    return (failedcount/len(markslist)) * 100\n",
    "percentageFailed(filename)\n",
    "    "
   ]
  },
  {
   "cell_type": "code",
   "execution_count": 181,
   "metadata": {},
   "outputs": [
    {
     "data": {
      "text/plain": [
       "84.0"
      ]
     },
     "execution_count": 181,
     "metadata": {},
     "output_type": "execute_result"
    }
   ],
   "source": [
    "def percentagePassed(filename):\n",
    "    markslist = readmarksList(filename)\n",
    "   \n",
    "    return 100-percentageFailed(filename)\n",
    "percentagePassed(filename)\n",
    "    "
   ]
  },
  {
   "cell_type": "code",
   "execution_count": 182,
   "metadata": {},
   "outputs": [
    {
     "data": {
      "text/plain": [
       "70.0"
      ]
     },
     "execution_count": 182,
     "metadata": {},
     "output_type": "execute_result"
    }
   ],
   "source": [
    "def passedDistinct(filename):\n",
    "    marklist = readmarksList(filename)\n",
    "    distictcount = len(list(filter(lambda mark: mark>70, marklist)))\n",
    "    return (distictcount/len(marklist)) * 100\n",
    "passedDistinct(filename)    "
   ]
  },
  {
   "cell_type": "code",
   "execution_count": 184,
   "metadata": {},
   "outputs": [
    {
     "data": {
      "text/plain": [
       "1"
      ]
     },
     "execution_count": 184,
     "metadata": {},
     "output_type": "execute_result"
    }
   ],
   "source": [
    "def highestFrequncy(filename):\n",
    "    markslist = readmarksList(filename)\n",
    "    return markslist.count(max(markslist))\n",
    "highestFrequncy(filename)"
   ]
  },
  {
   "cell_type": "code",
   "execution_count": 187,
   "metadata": {},
   "outputs": [
    {
     "data": {
      "text/plain": [
       "1"
      ]
     },
     "execution_count": 187,
     "metadata": {},
     "output_type": "execute_result"
    }
   ],
   "source": [
    "def minimumFrequncy(filename):\n",
    "    markslist = readmarksList(filename)\n",
    "    return markslist.count(max(markslist))\n",
    "minimumFrequncy(filename)"
   ]
  },
  {
   "cell_type": "markdown",
   "metadata": {},
   "source": [
    "### Data Encryption\n",
    "key - Mapping of characters with replaced\n",
    "\n",
    "- 0 -> 4\n",
    "- 1 -> 5\n",
    "- 2 -> 6\n",
    "- 3 -> 7\n",
    "- 4 -> 8\n",
    "- 5 -> 9\n",
    "- 6 -> 0\n",
    "- 7 -> 1\n",
    "- 8 -> 2\n",
    "- 9 -> 3\n",
    "- 0 -> 4\n"
   ]
  },
  {
   "cell_type": "code",
   "execution_count": 190,
   "metadata": {},
   "outputs": [],
   "source": [
    "#Function to generate for Encryption\n",
    "keypath = 'Datafiles/key.txt'\n",
    "def genereteKey(keypath):\n",
    "    with open(keypath,'w') as f:\n",
    "        for i in range(10):\n",
    "            if i < 6:\n",
    "                f.write(str(i)+' '+ str(i+4) + '\\n')\n",
    "            else:\n",
    "                f.write(str(i)+' '+ str(i-6) + '\\n')\n",
    "genereteKey(keypath)"
   ]
  },
  {
   "cell_type": "code",
   "execution_count": 192,
   "metadata": {},
   "outputs": [
    {
     "data": {
      "text/plain": [
       "{'0': '4',\n",
       " '1': '5',\n",
       " '2': '6',\n",
       " '3': '7',\n",
       " '4': '8',\n",
       " '5': '9',\n",
       " '6': '0',\n",
       " '7': '1',\n",
       " '8': '2',\n",
       " '9': '3'}"
      ]
     },
     "execution_count": 192,
     "metadata": {},
     "output_type": "execute_result"
    }
   ],
   "source": [
    "#Function to encrypt a data file\n",
    "datafile = 'Datafiles/marks.txt'\n",
    "keyfile = 'Datafiles/key.txt'\n",
    "def dictionaryKeyFile(keyfile):\n",
    "    key = {}\n",
    "    with open(keyfile,'r') as f:\n",
    "        for line in f:\n",
    "            line = line.split()\n",
    "            key[line[0]] = line[1]\n",
    "    return key\n",
    "\n",
    "dictionaryKeyFile(keyfile)       \n",
    "# def encryptMArkData(datafile,keyfile):\n",
    "#     #Construct a dictionary for key data\n",
    "#     open with(datafile,'r') as f:\n",
    "    "
   ]
  },
  {
   "cell_type": "code",
   "execution_count": null,
   "metadata": {},
   "outputs": [],
   "source": []
  },
  {
   "cell_type": "code",
   "execution_count": null,
   "metadata": {},
   "outputs": [],
   "source": []
  },
  {
   "cell_type": "code",
   "execution_count": null,
   "metadata": {},
   "outputs": [],
   "source": []
  },
  {
   "cell_type": "code",
   "execution_count": null,
   "metadata": {},
   "outputs": [],
   "source": []
  },
  {
   "cell_type": "code",
   "execution_count": null,
   "metadata": {},
   "outputs": [],
   "source": []
  },
  {
   "cell_type": "code",
   "execution_count": null,
   "metadata": {},
   "outputs": [],
   "source": []
  }
 ],
 "metadata": {
  "kernelspec": {
   "display_name": "Python 3",
   "language": "python",
   "name": "python3"
  },
  "language_info": {
   "codemirror_mode": {
    "name": "ipython",
    "version": 3
   },
   "file_extension": ".py",
   "mimetype": "text/x-python",
   "name": "python",
   "nbconvert_exporter": "python",
   "pygments_lexer": "ipython3",
   "version": "3.7.3"
  }
 },
 "nbformat": 4,
 "nbformat_minor": 2
}
