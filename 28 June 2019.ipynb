{
 "cells": [
  {
   "cell_type": "markdown",
   "metadata": {},
   "source": [
    "## 28 June 2019\n",
    "**Day Objectives**\n",
    "\n",
    "* Maps\n",
    "* Lambda\n",
    "* Filter\n",
    "* Use Cases - File / Data Encryption"
   ]
  },
  {
   "cell_type": "markdown",
   "metadata": {},
   "source": [
    "### Map"
   ]
  },
  {
   "cell_type": "markdown",
   "metadata": {},
   "source": [
    "Mapping - Entity with Function\n",
    "Map that can add the result after doing methemetical operation \n",
    "\n",
    "f : x^2\n",
    "\n",
    "x : [1,10]\n",
    "\n",
    "f(x)\n",
    "\n",
    "f(1) -> 1\n",
    "\n",
    "f(2) -> 4\n",
    "\n",
    ".... \n",
    "\n",
    "...\n",
    "\n",
    "...\n",
    "\n",
    "y =f(x)\n",
    "\n",
    "f:x^2\n",
    "\n",
    "x   y\n",
    "\n",
    "1   1\n",
    "\n",
    "2   4\n",
    "\n",
    "3   9\n",
    "\n",
    "4   16\n",
    "\n",
    "5   25\n",
    "\n",
    "6   ..\n",
    "\n",
    "7   ..\n",
    "\n",
    "map( function , Iterable )\n",
    "\n",
    "- at finally - 1 and 1 will map\n",
    "           - 2 and 4 will map\n",
    "           - 3 and 9 will map\n",
    "           - 4 and 16 will map\n",
    "           ...\n",
    "           ....\n",
    "\n",
    "\n",
    "\n",
    "\n",
    "\n",
    "\n",
    "\n",
    "\n",
    "\n",
    "\n",
    "\n",
    "\n",
    "\n",
    "\n",
    "\n",
    "\n",
    "\n",
    "\n",
    " "
   ]
  },
  {
   "cell_type": "code",
   "execution_count": 15,
   "metadata": {},
   "outputs": [
    {
     "data": {
      "text/plain": [
       "16"
      ]
     },
     "execution_count": 15,
     "metadata": {},
     "output_type": "execute_result"
    }
   ],
   "source": [
    "def powerN(a,n):\n",
    "    #return a ** n\n",
    "    r = 1\n",
    "    for i in range(0,n):\n",
    "        r *= a\n",
    "    return r\n",
    "#powerN(2,10)\n",
    "def recursionPowerN(a,n):\n",
    "    if n == 0:\n",
    "        return 1\n",
    "    else:\n",
    "        return a * recursionPowerN(a,n-1)\n",
    "recursionPowerN(2,4)\n",
    "        "
   ]
  },
  {
   "cell_type": "code",
   "execution_count": 24,
   "metadata": {},
   "outputs": [
    {
     "data": {
      "text/plain": [
       "{1, 8, 27, 64, 125, 216}"
      ]
     },
     "execution_count": 24,
     "metadata": {},
     "output_type": "execute_result"
    }
   ],
   "source": [
    "def cube(n):\n",
    "    return n ** 3\n",
    "li = [1,2,3,4,5,6]\n",
    "i = set(map(cube,li))\n",
    "i\n"
   ]
  },
  {
   "cell_type": "code",
   "execution_count": 25,
   "metadata": {},
   "outputs": [
    {
     "data": {
      "text/plain": [
       "{8, 27}"
      ]
     },
     "execution_count": 25,
     "metadata": {},
     "output_type": "execute_result"
    }
   ],
   "source": [
    "set(map(cube,{2,3}))"
   ]
  },
  {
   "cell_type": "code",
   "execution_count": 34,
   "metadata": {},
   "outputs": [
    {
     "data": {
      "text/plain": [
       "[1, 2, 3, 4]"
      ]
     },
     "execution_count": 34,
     "metadata": {},
     "output_type": "execute_result"
    }
   ],
   "source": [
    "li = ['1','2','3','4']\n",
    "li2 = list(map(int, li))\n",
    "li2"
   ]
  },
  {
   "cell_type": "code",
   "execution_count": 35,
   "metadata": {},
   "outputs": [
    {
     "data": {
      "text/plain": [
       "['1', '2', '3', '4']"
      ]
     },
     "execution_count": 35,
     "metadata": {},
     "output_type": "execute_result"
    }
   ],
   "source": [
    "li = list(map(str, li2))\n",
    "li"
   ]
  },
  {
   "cell_type": "code",
   "execution_count": 37,
   "metadata": {},
   "outputs": [
    {
     "data": {
      "text/plain": [
       "{1.0, 2.0, 3.0, 4.0}"
      ]
     },
     "execution_count": 37,
     "metadata": {},
     "output_type": "execute_result"
    }
   ],
   "source": [
    "li = set(map(float, li2))\n",
    "li"
   ]
  },
  {
   "cell_type": "code",
   "execution_count": 38,
   "metadata": {},
   "outputs": [
    {
     "data": {
      "text/plain": [
       "(1.0, 2.0, 3.0, 4.0)"
      ]
     },
     "execution_count": 38,
     "metadata": {},
     "output_type": "execute_result"
    }
   ],
   "source": [
    "li = tuple(map(float, li2))\n",
    "li"
   ]
  },
  {
   "cell_type": "code",
   "execution_count": 104,
   "metadata": {},
   "outputs": [
    {
     "name": "stdout",
     "output_type": "stream",
     "text": [
      "[1, 2, 3, 4, 5, 6, 7, 8, 9, 10, 15]\n"
     ]
    },
    {
     "data": {
      "text/plain": [
       "[1, 8, 27, 64, 125, 216, 343, 512, 729, 1000, 3375]"
      ]
     },
     "execution_count": 104,
     "metadata": {},
     "output_type": "execute_result"
    }
   ],
   "source": [
    "numbers = [int(i) for i in li]\n",
    "print(numbers)\n",
    "[cube(i) for i in numbers]"
   ]
  },
  {
   "cell_type": "code",
   "execution_count": null,
   "metadata": {},
   "outputs": [],
   "source": []
  },
  {
   "cell_type": "markdown",
   "metadata": {},
   "source": [
    "### Filter"
   ]
  },
  {
   "cell_type": "markdown",
   "metadata": {},
   "source": [
    "Used to check boolean values"
   ]
  },
  {
   "cell_type": "code",
   "execution_count": 54,
   "metadata": {},
   "outputs": [
    {
     "data": {
      "text/plain": [
       "[1, 2, 3, 4, 5, 6, 7]"
      ]
     },
     "execution_count": 54,
     "metadata": {},
     "output_type": "execute_result"
    }
   ],
   "source": [
    "li = [1,2,3,4,5,6,7,'a','b','c']\n",
    "\n",
    "def isDigit(c):\n",
    "    c= str(c)\n",
    "    if c.isdigit():\n",
    "        return 1\n",
    "    return 0\n",
    "isDigit('a')\n",
    "\n",
    "list(filter(isDigit,li))"
   ]
  },
  {
   "cell_type": "code",
   "execution_count": 55,
   "metadata": {},
   "outputs": [
    {
     "data": {
      "text/plain": [
       "['a', 'b', 'c']"
      ]
     },
     "execution_count": 55,
     "metadata": {},
     "output_type": "execute_result"
    }
   ],
   "source": [
    "li = [1,2,3,4,5,6,7,'a','b','c']\n",
    "\n",
    "def isDigit(c):\n",
    "    c= str(c)\n",
    "    if c.isdigit():\n",
    "        return 0\n",
    "    return 1\n",
    "isDigit('a')\n",
    "\n",
    "list(filter(isDigit,li))"
   ]
  },
  {
   "cell_type": "code",
   "execution_count": 56,
   "metadata": {},
   "outputs": [
    {
     "data": {
      "text/plain": [
       "[1, 2, 3, 4, 5, 6, 7, 'a', 'b', 'c']"
      ]
     },
     "execution_count": 56,
     "metadata": {},
     "output_type": "execute_result"
    }
   ],
   "source": [
    "li = [1,2,3,4,5,6,7,'a','b','c']\n",
    "\n",
    "def isDigit(c):\n",
    "    c= str(c)\n",
    "    if c.isdigit():\n",
    "        return -1\n",
    "    return 1\n",
    "isDigit('a')\n",
    "\n",
    "list(filter(isDigit,li))"
   ]
  },
  {
   "cell_type": "code",
   "execution_count": 91,
   "metadata": {},
   "outputs": [
    {
     "data": {
      "text/plain": [
       "[2, 3, 5, 7]"
      ]
     },
     "execution_count": 91,
     "metadata": {},
     "output_type": "execute_result"
    }
   ],
   "source": [
    "#To identify all primes in a range\n",
    "li = [1,2,3,4,5,6,7,8,9,10,15]\n",
    "def checkPrime(n):\n",
    "    if n < 2:\n",
    "        return False\n",
    "    for i in range(2,n//2+1):\n",
    "        if n%i == 0:\n",
    "            return False\n",
    "    return True\n",
    "checkPrime(2)\n",
    "list(filter(checkPrime,li))"
   ]
  },
  {
   "cell_type": "code",
   "execution_count": 102,
   "metadata": {},
   "outputs": [
    {
     "name": "stdout",
     "output_type": "stream",
     "text": [
      "usingfilter: [503, 509, 521, 523, 541, 547, 557, 563, 569, 571, 577, 587, 593, 599]\n",
      "using List comprehensions: [503, 509, 521, 523, 541, 547, 557, 563, 569, 571, 577, 587, 593, 599]\n"
     ]
    }
   ],
   "source": [
    "#li = [1,2,3,4,5,6,7,8,9,10,15]\n",
    "def checkPrime(n):\n",
    "    if n < 2:\n",
    "        return False\n",
    "    for i in range(2,n//2+1):\n",
    "        if n%i == 0:\n",
    "            return False\n",
    "    return True\n",
    "lb , ub = 500, 600\n",
    "\n",
    "primelist = list(filter(checkPrime,range(lb,ub)))\n",
    "print('usingfilter:',primelist)\n",
    "\n",
    "primelist2 =[i for i in range(lb,ub+1) if checkPrime(i)]\n",
    "print('using List comprehensions:',primelist)\n",
    "\n",
    "#Maps fails because it doesn't apply for checking mathemetical conditions"
   ]
  },
  {
   "cell_type": "markdown",
   "metadata": {},
   "source": [
    "### Lambda"
   ]
  },
  {
   "cell_type": "markdown",
   "metadata": {},
   "source": [
    "- **Anonymous functions** (anonymous means:function that does not have name)\n",
    "- can be embedded into into **List Comprehensions ,Maps,Filters**"
   ]
  },
  {
   "cell_type": "code",
   "execution_count": 112,
   "metadata": {},
   "outputs": [
    {
     "data": {
      "text/plain": [
       "1"
      ]
     },
     "execution_count": 112,
     "metadata": {},
     "output_type": "execute_result"
    }
   ],
   "source": [
    "a = lambda x: x % 2 \n",
    "a(5)"
   ]
  },
  {
   "cell_type": "code",
   "execution_count": 113,
   "metadata": {},
   "outputs": [
    {
     "data": {
      "text/plain": [
       "1000"
      ]
     },
     "execution_count": 113,
     "metadata": {},
     "output_type": "execute_result"
    }
   ],
   "source": [
    "b = lambda y: y ** 3\n",
    "b(10)"
   ]
  },
  {
   "cell_type": "code",
   "execution_count": 117,
   "metadata": {},
   "outputs": [
    {
     "data": {
      "text/plain": [
       "[1, 8, 27, 64, 125, 216]"
      ]
     },
     "execution_count": 117,
     "metadata": {},
     "output_type": "execute_result"
    }
   ],
   "source": [
    "list(map(lambda x: x ** 3,[1,2,3,4,5,6,]))"
   ]
  },
  {
   "cell_type": "code",
   "execution_count": 119,
   "metadata": {},
   "outputs": [
    {
     "data": {
      "text/plain": [
       "[2, 4, 6]"
      ]
     },
     "execution_count": 119,
     "metadata": {},
     "output_type": "execute_result"
    }
   ],
   "source": [
    "list(filter(lambda x: (x % 2 == 0),[1,2,3,4,5,6,7]))"
   ]
  },
  {
   "cell_type": "code",
   "execution_count": 120,
   "metadata": {},
   "outputs": [
    {
     "data": {
      "text/plain": [
       "[1, 3, 5, 7]"
      ]
     },
     "execution_count": 120,
     "metadata": {},
     "output_type": "execute_result"
    }
   ],
   "source": [
    "list(filter(lambda x: (x % 2 != 0),[1,2,3,4,5,6,7]))"
   ]
  },
  {
   "cell_type": "code",
   "execution_count": 143,
   "metadata": {},
   "outputs": [
    {
     "name": "stdout",
     "output_type": "stream",
     "text": [
      "[25, 17, 11, 20, 3, 14, 4, 2, 7, 7]\n",
      "[5, 21, 7, 23, 2, 2, 1, 18, 12, 4]\n",
      "[15, 19, 9, 21, 2, 8, 2, 10, 9, 5]\n",
      "[14, 14, 13, 17, 6, 12, 4, 11, 8, 10]\n",
      "[6, 4, 8]\n",
      "[14, 14, 13, 17, 12, 11]\n",
      "[14, 14, 13, 17, 12, 11]\n"
     ]
    }
   ],
   "source": [
    "from random import randint\n",
    "\n",
    "mark1 = [randint(1,25) for i in range(10)]\n",
    "print(mark1)\n",
    "mark2 = [randint(1,25) for i in range(10)]\n",
    "print(mark2)\n",
    "mark3 = [randint(1,25) for i in range(10)]\n",
    "\n",
    "avg1 = list(map(lambda x,y: (x+y)//2,mark1,mark2))\n",
    "print(avg1)\n",
    "avg2 = list(map(lambda x,y,z: (x+y+z)//3,mark1,mark2,mark3))\n",
    "print(avg2)\n",
    "\n",
    "failedmarks = list(filter(lambda x: x < 10, avg2))\n",
    "print(failedmarks)\n",
    "\n",
    "passmarks = list(filter(lambda x: x > 10, avg2))\n",
    "print(passmarks)\n",
    "\n",
    "passmarksinoneline = list(filter(lambda x: x>10 , list(map(lambda x, y, z : (x+y+z)//3, mark1, mark2, mark3))))\n",
    "print(passmarksinoneline)"
   ]
  },
  {
   "cell_type": "markdown",
   "metadata": {},
   "source": [
    "### Applying Functioanl Programming to the Marks Analysis Application "
   ]
  },
  {
   "cell_type": "code",
   "execution_count": 177,
   "metadata": {},
   "outputs": [],
   "source": [
    "#Generate Mark Analysis\n",
    "from random import randint\n",
    "def generatemarks(n, lb, ub):\n",
    "    filename = 'Datafiles/marks.txt'\n",
    "    with open(filename,'w') as f:\n",
    "        for i in range(n):\n",
    "            marks = randint(lb,ub)\n",
    "            f.write(str(marks)+'\\n')\n",
    "    return\n",
    "generatemarks(100,0,300)\n",
    "            \n",
    "        "
   ]
  },
  {
   "cell_type": "code",
   "execution_count": 178,
   "metadata": {},
   "outputs": [],
   "source": [
    "#Marks Analysis \n",
    "#Class Average, % Passed, Failed and Distinction\n",
    "#Frequency of highest and lowest mark"
   ]
  },
  {
   "cell_type": "code",
   "execution_count": 179,
   "metadata": {},
   "outputs": [
    {
     "data": {
      "text/plain": [
       "143"
      ]
     },
     "execution_count": 179,
     "metadata": {},
     "output_type": "execute_result"
    }
   ],
   "source": [
    "def readmarksList(filename):\n",
    "    markslist = []\n",
    "    with open(filename, 'r') as f:\n",
    "        filedata = f.read().split()\n",
    "        markslist = list(map(int,filedata))\n",
    "    return markslist\n",
    "    \n",
    "\n",
    "def classAverage(filename):\n",
    "    markslist =  readmarksList(filename)\n",
    "    avg = sum(markslist)//len(markslist)\n",
    "    return avg\n",
    "classAverage(filename)\n",
    "        "
   ]
  },
  {
   "cell_type": "code",
   "execution_count": 180,
   "metadata": {},
   "outputs": [
    {
     "data": {
      "text/plain": [
       "16.0"
      ]
     },
     "execution_count": 180,
     "metadata": {},
     "output_type": "execute_result"
    }
   ],
   "source": [
    "def percentageFailed(filename):\n",
    "    markslist = readmarksList(filename)\n",
    "    failedcount = len(list(filter(lambda mark: mark<40, markslist)))\n",
    "    return (failedcount/len(markslist)) * 100\n",
    "percentageFailed(filename)\n",
    "    "
   ]
  },
  {
   "cell_type": "code",
   "execution_count": 181,
   "metadata": {},
   "outputs": [
    {
     "data": {
      "text/plain": [
       "84.0"
      ]
     },
     "execution_count": 181,
     "metadata": {},
     "output_type": "execute_result"
    }
   ],
   "source": [
    "def percentagePassed(filename):\n",
    "    markslist = readmarksList(filename)\n",
    "   \n",
    "    return 100-percentageFailed(filename)\n",
    "percentagePassed(filename)\n",
    "    "
   ]
  },
  {
   "cell_type": "code",
   "execution_count": 182,
   "metadata": {},
   "outputs": [
    {
     "data": {
      "text/plain": [
       "70.0"
      ]
     },
     "execution_count": 182,
     "metadata": {},
     "output_type": "execute_result"
    }
   ],
   "source": [
    "def passedDistinct(filename):\n",
    "    marklist = readmarksList(filename)\n",
    "    distictcount = len(list(filter(lambda mark: mark>70, marklist)))\n",
    "    return (distictcount/len(marklist)) * 100\n",
    "passedDistinct(filename)    "
   ]
  },
  {
   "cell_type": "code",
   "execution_count": 184,
   "metadata": {},
   "outputs": [
    {
     "data": {
      "text/plain": [
       "1"
      ]
     },
     "execution_count": 184,
     "metadata": {},
     "output_type": "execute_result"
    }
   ],
   "source": [
    "def highestFrequncy(filename):\n",
    "    markslist = readmarksList(filename)\n",
    "    return markslist.count(max(markslist))\n",
    "highestFrequncy(filename)"
   ]
  },
  {
   "cell_type": "code",
   "execution_count": 187,
   "metadata": {},
   "outputs": [
    {
     "data": {
      "text/plain": [
       "1"
      ]
     },
     "execution_count": 187,
     "metadata": {},
     "output_type": "execute_result"
    }
   ],
   "source": [
    "def minimumFrequncy(filename):\n",
    "    markslist = readmarksList(filename)\n",
    "    return markslist.count(max(markslist))\n",
    "minimumFrequncy(filename)"
   ]
  },
  {
   "cell_type": "markdown",
   "metadata": {},
   "source": [
    "### Data Encryption\n",
    "key - Mapping of characters with replaced\n",
    "\n",
    "- 0 -> 4\n",
    "- 1 -> 5\n",
    "- 2 -> 6\n",
    "- 3 -> 7\n",
    "- 4 -> 8\n",
    "- 5 -> 9\n",
    "- 6 -> 0\n",
    "- 7 -> 1\n",
    "- 8 -> 2\n",
    "- 9 -> 3\n",
    "- 0 -> 4\n"
   ]
  },
  {
   "cell_type": "code",
   "execution_count": 190,
   "metadata": {},
   "outputs": [],
   "source": [
    "#Function to generate for Encryption\n",
    "keypath = 'Datafiles/key.txt'\n",
    "def genereteKey(keypath):\n",
    "    with open(keypath,'w') as f:\n",
    "        for i in range(10):\n",
    "            if i < 6:\n",
    "                f.write(str(i)+' '+ str(i+4) + '\\n')\n",
    "            else:\n",
    "                f.write(str(i)+' '+ str(i-6) + '\\n')\n",
    "genereteKey(keypath)"
   ]
  },
  {
   "cell_type": "code",
   "execution_count": 40,
   "metadata": {},
   "outputs": [
    {
     "name": "stdout",
     "output_type": "stream",
     "text": [
      "['57', '4', '33', '50', '259', '177', '220', '140', '186', '138', '253', '25', '286', '285', '12', '298', '251', '68', '142', '265', '168', '163', '53', '26', '105', '178', '122', '57', '111', '24', '219', '3', '60', '28', '117', '173', '257', '7', '139', '165', '234', '177', '189', '201', '254', '256', '98', '189', '255', '184', '245', '272', '104', '28', '42', '48', '286', '212', '60', '103', '115', '169', '272', '44', '206', '127', '13', '42', '9', '167', '98', '84', '40', '70', '8', '210', '296', '10', '235', '104', '31', '227', '201', '81', '146', '123', '299', '88', '213', '235', '125', '294', '28', '87', '271', '133', '115', '249', '49', '262', '']\n"
     ]
    }
   ],
   "source": [
    "#Function to encrypt a data file\n",
    "datafile = 'Datafiles/marks.txt'\n",
    "keyfile = 'Datafiles/key.txt'\n",
    "def dictionaryKeyFile(keyfile):\n",
    "    key = {}\n",
    "    with open(keyfile,'r') as f:\n",
    "        for line in f:\n",
    "            line = line.split()\n",
    "            key[line[0]] = line[1]\n",
    "    return key\n",
    "\n",
    "dictionaryKeyFile(keyfile)       \n",
    "# def encryptMArkData(datafile,keyfile):\n",
    "#     #Construct a dictionary for key data\n",
    "#     open with(datafile,'r') as f:\n",
    "def encryptMarksData(datafile,keyfile):\n",
    "    key = dictionaryKeyFile(keyfile)\n",
    "    with open(datafile,'r') as f:\n",
    "        filedata = f.read().split('\\n')\n",
    "        print(filedata)\n",
    "    with open('DataFiles/encryptedMarks.txt','w') as f:\n",
    "        for mark in filedata:\n",
    "            line = ''\n",
    "            for keyn in mark:\n",
    "                line += key[keyn]\n",
    "            f.write(line+'\\n')\n",
    "    return\n",
    "encryptMarksData(datafile,keyfile)\n",
    "    "
   ]
  },
  {
   "cell_type": "markdown",
   "metadata": {},
   "source": [
    "- 0 -> 6\n",
    "- 1 -> 7\n",
    "- 2 -> 8\n",
    "- 3 -> 9\n",
    "- 4 -> 0\n",
    "- 5 -> 1\n",
    "- 6 -> 2\n",
    "- 7 -> 3\n",
    "- 8 -> 4\n",
    "- 9 -> 5"
   ]
  },
  {
   "cell_type": "code",
   "execution_count": 41,
   "metadata": {},
   "outputs": [],
   "source": [
    "#Function to generate for Decryption\n",
    "keypath = 'Datafiles/keyDe.txt'\n",
    "def genereteKey(keypath):\n",
    "    with open(keypath,'w') as f:\n",
    "        for i in range(10):\n",
    "            if i < 4:\n",
    "                f.write(str(i)+' '+ str(i+6) + '\\n')\n",
    "            else:\n",
    "                f.write(str(i)+' '+ str(i-4) + '\\n')\n",
    "genereteKey(keypath)"
   ]
  },
  {
   "cell_type": "code",
   "execution_count": 44,
   "metadata": {},
   "outputs": [
    {
     "name": "stdout",
     "output_type": "stream",
     "text": [
      "['91', '8', '77', '94', '693', '511', '664', '584', '520', '572', '697', '69', '620', '629', '56', '632', '695', '02', '586', '609', '502', '507', '97', '60', '549', '512', '566', '91', '555', '68', '653', '7', '04', '62', '551', '517', '691', '1', '573', '509', '678', '511', '523', '645', '698', '690', '32', '523', '699', '528', '689', '616', '548', '62', '86', '82', '620', '656', '04', '547', '559', '503', '616', '88', '640', '561', '57', '86', '3', '501', '32', '28', '84', '14', '2', '654', '630', '54', '679', '548', '75', '661', '645', '25', '580', '567', '633', '22', '657', '679', '569', '638', '62', '21', '615', '577', '559', '683', '83', '606', '', '']\n"
     ]
    }
   ],
   "source": [
    "#Function to encrypt a data file\n",
    "encryptfile = 'Datafiles/encryptedMarks.txt'\n",
    "keyfile = 'Datafiles/keyDe.txt'\n",
    "def dictionaryKeyFile(keyfile):\n",
    "    key = {}\n",
    "    with open(keyfile,'r') as f:\n",
    "        for line in f:\n",
    "            line = line.split()\n",
    "            key[line[0]] = line[1]\n",
    "    return key\n",
    "\n",
    "dictionaryKeyFile(keyfile)       \n",
    "# def encryptMarksData(datafile,keyfile):\n",
    "#     #Construct a dictionary for key data\n",
    "#     open with(datafile,'r') as f:\n",
    "def encryptMarksData(encryptfile,keyfile):\n",
    "    key = dictionaryKeyFile(keyfile)\n",
    "    with open(encryptfile,'r') as f:\n",
    "        filedata = f.read().split('\\n')\n",
    "        print(filedata)\n",
    "    with open('DataFiles/DecryptedMarks.txt','w') as f:\n",
    "        for mark in filedata:\n",
    "            line = ''\n",
    "            for keyn in mark:\n",
    "                line += key[keyn]\n",
    "            f.write(line+'\\n')\n",
    "    return\n",
    "encryptMarksData(encryptfile,keyfile)\n",
    "    \n",
    "    "
   ]
  },
  {
   "cell_type": "code",
   "execution_count": null,
   "metadata": {},
   "outputs": [],
   "source": [
    "keypath = 'Datafiles/key.txt'\n",
    "def generatekey(keypath):\n",
    "    with open(keypath,'w') as f:\n",
    "        for i in range(10):\n",
    "            if i<4:\n",
    "                f.write(str(i)+' '+str(i+6)+'\\n')\n",
    "            else:\n",
    "                 f.write(str(i)+' '+str(i-4)+'\\n')\n",
    "                    "
   ]
  },
  {
   "cell_type": "code",
   "execution_count": 52,
   "metadata": {},
   "outputs": [
    {
     "ename": "NameError",
     "evalue": "name 'items' is not defined",
     "output_type": "error",
     "traceback": [
      "\u001b[1;31m---------------------------------------------------------------------------\u001b[0m",
      "\u001b[1;31mNameError\u001b[0m                                 Traceback (most recent call last)",
      "\u001b[1;32m<ipython-input-52-ed26d3c9c52c>\u001b[0m in \u001b[0;36m<module>\u001b[1;34m\u001b[0m\n\u001b[0;32m      2\u001b[0m \u001b[0mkeyfile\u001b[0m \u001b[1;33m=\u001b[0m \u001b[1;34m'Datafiles/key.txt'\u001b[0m\u001b[1;33m\u001b[0m\u001b[1;33m\u001b[0m\u001b[0m\n\u001b[0;32m      3\u001b[0m \u001b[0mkey\u001b[0m \u001b[1;33m=\u001b[0m\u001b[0mdictionaryKeyFile\u001b[0m\u001b[1;33m(\u001b[0m\u001b[0mkeyfile\u001b[0m\u001b[1;33m)\u001b[0m\u001b[1;33m\u001b[0m\u001b[1;33m\u001b[0m\u001b[0m\n\u001b[1;32m----> 4\u001b[1;33m \u001b[0mevenkeys\u001b[0m \u001b[1;33m=\u001b[0m \u001b[1;33m{\u001b[0m\u001b[0mitem\u001b[0m \u001b[1;32mfor\u001b[0m \u001b[0mitem\u001b[0m \u001b[1;32min\u001b[0m \u001b[0mkey\u001b[0m\u001b[1;33m.\u001b[0m\u001b[0mitems\u001b[0m\u001b[1;33m(\u001b[0m\u001b[1;33m)\u001b[0m \u001b[1;32mif\u001b[0m \u001b[0mitems\u001b[0m\u001b[1;33m[\u001b[0m\u001b[1;36m0\u001b[0m\u001b[1;33m]\u001b[0m\u001b[1;33m%\u001b[0m\u001b[1;36m2\u001b[0m \u001b[1;33m==\u001b[0m \u001b[1;36m0\u001b[0m\u001b[1;33m}\u001b[0m\u001b[1;33m\u001b[0m\u001b[1;33m\u001b[0m\u001b[0m\n\u001b[0m\u001b[0;32m      5\u001b[0m \u001b[0mevenkeys\u001b[0m\u001b[1;33m\u001b[0m\u001b[1;33m\u001b[0m\u001b[0m\n\u001b[0;32m      6\u001b[0m \u001b[0mevenkeys\u001b[0m \u001b[1;33m=\u001b[0m \u001b[1;33m{\u001b[0m\u001b[0mitem\u001b[0m \u001b[1;32mfor\u001b[0m \u001b[0mitem\u001b[0m \u001b[1;32min\u001b[0m \u001b[0mkey\u001b[0m\u001b[1;33m}\u001b[0m\u001b[1;33m\u001b[0m\u001b[1;33m\u001b[0m\u001b[0m\n",
      "\u001b[1;32m<ipython-input-52-ed26d3c9c52c>\u001b[0m in \u001b[0;36m<setcomp>\u001b[1;34m(.0)\u001b[0m\n\u001b[0;32m      2\u001b[0m \u001b[0mkeyfile\u001b[0m \u001b[1;33m=\u001b[0m \u001b[1;34m'Datafiles/key.txt'\u001b[0m\u001b[1;33m\u001b[0m\u001b[1;33m\u001b[0m\u001b[0m\n\u001b[0;32m      3\u001b[0m \u001b[0mkey\u001b[0m \u001b[1;33m=\u001b[0m\u001b[0mdictionaryKeyFile\u001b[0m\u001b[1;33m(\u001b[0m\u001b[0mkeyfile\u001b[0m\u001b[1;33m)\u001b[0m\u001b[1;33m\u001b[0m\u001b[1;33m\u001b[0m\u001b[0m\n\u001b[1;32m----> 4\u001b[1;33m \u001b[0mevenkeys\u001b[0m \u001b[1;33m=\u001b[0m \u001b[1;33m{\u001b[0m\u001b[0mitem\u001b[0m \u001b[1;32mfor\u001b[0m \u001b[0mitem\u001b[0m \u001b[1;32min\u001b[0m \u001b[0mkey\u001b[0m\u001b[1;33m.\u001b[0m\u001b[0mitems\u001b[0m\u001b[1;33m(\u001b[0m\u001b[1;33m)\u001b[0m \u001b[1;32mif\u001b[0m \u001b[0mitems\u001b[0m\u001b[1;33m[\u001b[0m\u001b[1;36m0\u001b[0m\u001b[1;33m]\u001b[0m\u001b[1;33m%\u001b[0m\u001b[1;36m2\u001b[0m \u001b[1;33m==\u001b[0m \u001b[1;36m0\u001b[0m\u001b[1;33m}\u001b[0m\u001b[1;33m\u001b[0m\u001b[1;33m\u001b[0m\u001b[0m\n\u001b[0m\u001b[0;32m      5\u001b[0m \u001b[0mevenkeys\u001b[0m\u001b[1;33m\u001b[0m\u001b[1;33m\u001b[0m\u001b[0m\n\u001b[0;32m      6\u001b[0m \u001b[0mevenkeys\u001b[0m \u001b[1;33m=\u001b[0m \u001b[1;33m{\u001b[0m\u001b[0mitem\u001b[0m \u001b[1;32mfor\u001b[0m \u001b[0mitem\u001b[0m \u001b[1;32min\u001b[0m \u001b[0mkey\u001b[0m\u001b[1;33m}\u001b[0m\u001b[1;33m\u001b[0m\u001b[1;33m\u001b[0m\u001b[0m\n",
      "\u001b[1;31mNameError\u001b[0m: name 'items' is not defined"
     ]
    }
   ],
   "source": [
    "encryptfile = 'Datafiles/encryptedMarks.txt'\n",
    "keyfile = 'Datafiles/key.txt'\n",
    "key =dictionaryKeyFile(keyfile)\n",
    "evenkeys = {item for item in key.items() if items[0]%2 == 0}\n",
    "evenkeys\n",
    "evenkeys = {item for item in key}\n",
    "evenkeys\n"
   ]
  },
  {
   "cell_type": "code",
   "execution_count": null,
   "metadata": {},
   "outputs": [],
   "source": []
  },
  {
   "cell_type": "code",
   "execution_count": null,
   "metadata": {},
   "outputs": [],
   "source": []
  },
  {
   "cell_type": "code",
   "execution_count": null,
   "metadata": {},
   "outputs": [],
   "source": []
  },
  {
   "cell_type": "code",
   "execution_count": 4,
   "metadata": {},
   "outputs": [
    {
     "name": "stdout",
     "output_type": "stream",
     "text": [
      "['1', '2', '3']\n"
     ]
    }
   ],
   "source": [
    "s = '123'\n",
    "print(list(s))"
   ]
  },
  {
   "cell_type": "code",
   "execution_count": 26,
   "metadata": {},
   "outputs": [
    {
     "name": "stdout",
     "output_type": "stream",
     "text": [
      "5\n",
      "https://www.hackerearth.com\n",
      "https://www.hackerearth.com\n",
      "https://www.google.com\n",
      "https://www.google.com\n",
      "https://www.wikipedia.org\n",
      "{'https://www.hackerearth.com': 2, 'https://www.google.com': 2, 'https://www.wikipedia.org': 1}\n",
      "2\n",
      "https://www.hackerearth.com\n",
      "https://www.google.com\n",
      "https://www.wikipedia.org\n"
     ]
    }
   ],
   "source": [
    "def checkurl(li):\n",
    "    d = {}\n",
    "    for i in range(0,len(li)):\n",
    "        c = 0\n",
    "        for j in range(0,len(li)):\n",
    "            if li[i] == li[j]:\n",
    "                c += 1\n",
    "            d[li[i]] = c\n",
    "    print(d)\n",
    "    \n",
    "    print(max(d.values()))\n",
    "    \n",
    "    flist = []\n",
    "    for k,v in d.items():\n",
    "        if v not in flist:\n",
    "            flist.append(v)\n",
    "            \n",
    "    slist = sorted(flist,reverse = True)\n",
    "    \n",
    "    for i in range(0,len(slist)):\n",
    "        for k,v in d.items():\n",
    "            if v == int(slist[i]):\n",
    "                print(k)\n",
    "    return\n",
    "        \n",
    "t = int(input())\n",
    "li = []\n",
    "for i in range(t):\n",
    "    s = input()\n",
    "    li.append(s)\n",
    "checkurl(li)\n",
    "#    https://www.wikipedia.org\n",
    "#   https://www.hackerearth.com\n",
    "#   https://www.google.com\n"
   ]
  },
  {
   "cell_type": "markdown",
   "metadata": {},
   "source": [
    "key =dictionarukey"
   ]
  },
  {
   "cell_type": "code",
   "execution_count": null,
   "metadata": {},
   "outputs": [],
   "source": []
  },
  {
   "cell_type": "code",
   "execution_count": null,
   "metadata": {},
   "outputs": [],
   "source": []
  },
  {
   "cell_type": "code",
   "execution_count": null,
   "metadata": {},
   "outputs": [],
   "source": []
  }
 ],
 "metadata": {
  "kernelspec": {
   "display_name": "Python 3",
   "language": "python",
   "name": "python3"
  },
  "language_info": {
   "codemirror_mode": {
    "name": "ipython",
    "version": 3
   },
   "file_extension": ".py",
   "mimetype": "text/x-python",
   "name": "python",
   "nbconvert_exporter": "python",
   "pygments_lexer": "ipython3",
   "version": "3.7.3"
  }
 },
 "nbformat": 4,
 "nbformat_minor": 2
}
