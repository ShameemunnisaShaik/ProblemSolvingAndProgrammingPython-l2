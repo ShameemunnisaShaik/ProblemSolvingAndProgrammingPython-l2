{
 "cells": [
  {
   "cell_type": "code",
   "execution_count": 15,
   "metadata": {},
   "outputs": [
    {
     "name": "stdout",
     "output_type": "stream",
     "text": [
      "3234ff434rg45\n",
      "0 0 0 0 0 0 0 0 0 0 "
     ]
    }
   ],
   "source": [
    "\n",
    "def uniqueData(allnumbers):\n",
    "    unique = []\n",
    "    for n in allnumbers:\n",
    "        if n not in unique:\n",
    "            unique.append(n)\n",
    "    return unique\n",
    "def digitFrequency(s):\n",
    "    allnumbers = []\n",
    "    for l in s:\n",
    "        if l.isdigit():\n",
    "            allnumbers.append(l)\n",
    "    unique = uniqueData(allnumbers)       \n",
    "    for i in range(0, 10):\n",
    "        if i not in unique:\n",
    "            print(0, end = ' ')\n",
    "        else:\n",
    "            count = allnumbers.count(str(i))\n",
    "            print(count,end =' ')\n",
    "        \n",
    "        \n",
    "s = input()\n",
    "\n",
    "digitFrequency(s)"
   ]
  },
  {
   "cell_type": "code",
   "execution_count": null,
   "metadata": {},
   "outputs": [],
   "source": [
    "def digitFrequency(s):\n",
    "    unique = []\n",
    "    for l in s:\n",
    "        if l.isdigit():\n",
    "            print(s.count(l),end='')\n",
    "        else:\n",
    "            print(0,end='')\n",
    "        \n",
    "s = list(map(str,input()))\n",
    "\n",
    "digitFrequency(s)"
   ]
  },
  {
   "cell_type": "code",
   "execution_count": 32,
   "metadata": {},
   "outputs": [
    {
     "name": "stdout",
     "output_type": "stream",
     "text": [
      "4 1 0 2 1 1 1 0 0 0 "
     ]
    }
   ],
   "source": [
    "def digitfrequncy2(s):\n",
    "    for i in range(1,11):\n",
    "        count = s.count(str(i))\n",
    "        print(count,end=' ')\n",
    "digitfrequncy2('4472151116')"
   ]
  },
  {
   "cell_type": "code",
   "execution_count": 35,
   "metadata": {},
   "outputs": [
    {
     "name": "stdout",
     "output_type": "stream",
     "text": [
      "1\n",
      "4\n",
      "4\n"
     ]
    }
   ],
   "source": [
    "tc = int(input())\n",
    "for i in range(0,tc):\n",
    "    n = int(input())\n",
    "    print(n)"
   ]
  },
  {
   "cell_type": "code",
   "execution_count": 46,
   "metadata": {},
   "outputs": [
    {
     "name": "stdout",
     "output_type": "stream",
     "text": [
      "{'a': 2, 'b': 1, 'c': 1, 'd': 1}\n",
      "[('a', 2), ('b', 1), ('c', 1), ('d', 1)]\n"
     ]
    },
    {
     "data": {
      "text/plain": [
       "'b'"
      ]
     },
     "execution_count": 46,
     "metadata": {},
     "output_type": "execute_result"
    }
   ],
   "source": [
    "s = \"aabcd\"\n",
    "k =2\n",
    "each_count = {}\n",
    "for each in s:\n",
    "    each_count[each] = each_count.get(each,0)+1\n",
    "print(each_count)\n",
    "words = list(each_count.items())\n",
    "print(words)\n",
    "uniques = list(set([each[1] for each in words]))\n",
    "uniques.sort(reverse=True)\n",
    "number  = uniques[k-1]\n",
    "myList = list(filter(lambda x:x[1]==number,words))\n",
    "myList.sort()\n",
    "myList[0][0]"
   ]
  },
  {
   "cell_type": "code",
   "execution_count": 39,
   "metadata": {},
   "outputs": [
    {
     "data": {
      "text/plain": [
       "[2, 4, 6, 8]"
      ]
     },
     "execution_count": 39,
     "metadata": {},
     "output_type": "execute_result"
    }
   ],
   "source": [
    "m = [each for each in range(1,10) if each%2==0]\n",
    "m"
   ]
  },
  {
   "cell_type": "code",
   "execution_count": 47,
   "metadata": {},
   "outputs": [
    {
     "data": {
      "text/plain": [
       "[50, 60, 70]"
      ]
     },
     "execution_count": 47,
     "metadata": {},
     "output_type": "execute_result"
    }
   ],
   "source": [
    "marks = [10,50,30,60,70]\n",
    "list(filter(lambda x:x>=50,marks))"
   ]
  },
  {
   "cell_type": "code",
   "execution_count": null,
   "metadata": {},
   "outputs": [
    {
     "name": "stdout",
     "output_type": "stream",
     "text": [
      "2\n",
      "aabbc\n",
      "abc\n",
      "2\n"
     ]
    }
   ],
   "source": [
    "def anagram(a,b):\n",
    "    \n",
    "    c = 0\n",
    "    for i in set(a):\n",
    "        if a.count(i) == b.count(i):\n",
    "            c += a.count(i)\n",
    "        else:\n",
    "            c += min([a.count(i),b.count(i)])\n",
    "    print(len(a) + len(b) - 2 * c)\n",
    "\n",
    "t = int(input())\n",
    "for i in range(t):\n",
    "    a = input()\n",
    "    b = input()\n",
    "    anagram(a,b)"
   ]
  },
  {
   "cell_type": "code",
   "execution_count": null,
   "metadata": {},
   "outputs": [],
   "source": []
  },
  {
   "cell_type": "code",
   "execution_count": 14,
   "metadata": {},
   "outputs": [
    {
     "data": {
      "text/plain": [
       "4"
      ]
     },
     "execution_count": 14,
     "metadata": {},
     "output_type": "execute_result"
    }
   ],
   "source": [
    "# Function to check if two string \n",
    "# abc  cba ->True\n",
    "# aabbcc ccbbaaa ->False\n",
    "def checkAnagrams(s1,s2):\n",
    "    if len(s1)!=len(s2):\n",
    "        return False\n",
    "    if sorted(s1) == sorted(s2):\n",
    "        return True\n",
    "    return False\n",
    "def charDeletionAnagrams(s1,s2):\n",
    "    uncommon = []\n",
    "    for i in s1:\n",
    "        if i not in s2:\n",
    "            uncommon.append(i)\n",
    "    for i in s2:\n",
    "        if i not in s1:\n",
    "            uncommon.append(i)\n",
    "    count = len(uncommon)\n",
    "    \n",
    "    freqs1 = {}\n",
    "    freqs2 = {}\n",
    "    uniqus1 = []\n",
    "    uniqus2 = []\n",
    "    for i in s1:\n",
    "        if i not in uncommon and i not in uniqus1:\n",
    "            freqs1[i] = s1.count(i)\n",
    "            uniqus1.append(i)\n",
    "    for i in s2:\n",
    "        if i not in uncommon and i not in uniqus2:\n",
    "            freqs2[i] = s2.count(i)\n",
    "            uniqus2.append(i)\n",
    "    #Difference in frequncies for common \n",
    "    for key in freqs1.keys():\n",
    "        count += abs(freqs1[key]-freqs2[key])\n",
    "    return count\n",
    "    \n",
    "charDeletionAnagrams('cde','abc')    "
   ]
  },
  {
   "cell_type": "markdown",
   "metadata": {},
   "source": [
    "### Exam Problem 25 june 2019"
   ]
  },
  {
   "cell_type": "code",
   "execution_count": 39,
   "metadata": {},
   "outputs": [
    {
     "data": {
      "text/plain": [
       "'b'"
      ]
     },
     "execution_count": 39,
     "metadata": {},
     "output_type": "execute_result"
    }
   ],
   "source": [
    "#{a:4,g:9,i:6,p:213,c:6}\n",
    "\n",
    "def kLArgestFrequncy(s,k):\n",
    "    #construct the frequncy dictionary for all unique character\n",
    "    freq = {}\n",
    "    for i in s:\n",
    "        if i not in freq.keys():\n",
    "            freq[i] = s.count(i)\n",
    "    #Extract unique frequncies in descending order \n",
    "    values = sorted(freq.values(), reverse = True)\n",
    "    #values = sorted(freq.values())\n",
    "    uniquevalues = list(set(values))\n",
    "    uniquevalues = sorted(uniquevalues,reverse = True)\n",
    "    #identify kth largest frequncy\n",
    "    if k<= len(uniquevalues):\n",
    "        kvalue = uniquevalues[k-1]\n",
    "    else:\n",
    "        return -1\n",
    "    #Get all elements with kth largest frequncy\n",
    "    li = []\n",
    "    \n",
    "    for item in freq.items():\n",
    "        if item[1] ==kvalue:\n",
    "            li.append(item[0])\n",
    "            #Minimum of kth largest frequncy\n",
    "    return min(li)\n",
    "            \n",
    "kLArgestFrequncy('bbaacdcc',3)     "
   ]
  },
  {
   "cell_type": "code",
   "execution_count": 34,
   "metadata": {},
   "outputs": [
    {
     "name": "stdout",
     "output_type": "stream",
     "text": [
      "2\n",
      "dict_items([('a', 2), ('b', 1), ('c', 3), ('d', 1)])\n"
     ]
    },
    {
     "ename": "TypeError",
     "evalue": "'builtin_function_or_method' object is not subscriptable",
     "output_type": "error",
     "traceback": [
      "\u001b[1;31m---------------------------------------------------------------------------\u001b[0m",
      "\u001b[1;31mTypeError\u001b[0m                                 Traceback (most recent call last)",
      "\u001b[1;32m<ipython-input-34-9ef93833f589>\u001b[0m in \u001b[0;36m<module>\u001b[1;34m\u001b[0m\n\u001b[0;32m     15\u001b[0m     \u001b[0mprint\u001b[0m\u001b[1;33m(\u001b[0m\u001b[0mfreq\u001b[0m\u001b[1;33m.\u001b[0m\u001b[0mitems\u001b[0m\u001b[1;33m[\u001b[0m\u001b[1;36m1\u001b[0m\u001b[1;33m]\u001b[0m\u001b[1;33m)\u001b[0m\u001b[1;33m\u001b[0m\u001b[1;33m\u001b[0m\u001b[0m\n\u001b[0;32m     16\u001b[0m     \u001b[0mprint\u001b[0m\u001b[1;33m(\u001b[0m\u001b[0mfreq\u001b[0m\u001b[1;33m)\u001b[0m\u001b[1;33m\u001b[0m\u001b[1;33m\u001b[0m\u001b[0m\n\u001b[1;32m---> 17\u001b[1;33m \u001b[0mkLArgestFrequncy\u001b[0m\u001b[1;33m(\u001b[0m\u001b[1;34m'aabcdcc'\u001b[0m\u001b[1;33m,\u001b[0m\u001b[1;36m2\u001b[0m\u001b[1;33m)\u001b[0m\u001b[1;33m\u001b[0m\u001b[1;33m\u001b[0m\u001b[0m\n\u001b[0m",
      "\u001b[1;32m<ipython-input-34-9ef93833f589>\u001b[0m in \u001b[0;36mkLArgestFrequncy\u001b[1;34m(s, k)\u001b[0m\n\u001b[0;32m     13\u001b[0m     \u001b[0mprint\u001b[0m\u001b[1;33m(\u001b[0m\u001b[0mfreq\u001b[0m\u001b[1;33m.\u001b[0m\u001b[0mitems\u001b[0m\u001b[1;33m(\u001b[0m\u001b[1;33m)\u001b[0m\u001b[1;33m)\u001b[0m\u001b[1;33m\u001b[0m\u001b[1;33m\u001b[0m\u001b[0m\n\u001b[0;32m     14\u001b[0m \u001b[1;33m\u001b[0m\u001b[0m\n\u001b[1;32m---> 15\u001b[1;33m     \u001b[0mprint\u001b[0m\u001b[1;33m(\u001b[0m\u001b[0mfreq\u001b[0m\u001b[1;33m.\u001b[0m\u001b[0mitems\u001b[0m\u001b[1;33m[\u001b[0m\u001b[1;36m1\u001b[0m\u001b[1;33m]\u001b[0m\u001b[1;33m)\u001b[0m\u001b[1;33m\u001b[0m\u001b[1;33m\u001b[0m\u001b[0m\n\u001b[0m\u001b[0;32m     16\u001b[0m     \u001b[0mprint\u001b[0m\u001b[1;33m(\u001b[0m\u001b[0mfreq\u001b[0m\u001b[1;33m)\u001b[0m\u001b[1;33m\u001b[0m\u001b[1;33m\u001b[0m\u001b[0m\n\u001b[0;32m     17\u001b[0m \u001b[0mkLArgestFrequncy\u001b[0m\u001b[1;33m(\u001b[0m\u001b[1;34m'aabcdcc'\u001b[0m\u001b[1;33m,\u001b[0m\u001b[1;36m2\u001b[0m\u001b[1;33m)\u001b[0m\u001b[1;33m\u001b[0m\u001b[1;33m\u001b[0m\u001b[0m\n",
      "\u001b[1;31mTypeError\u001b[0m: 'builtin_function_or_method' object is not subscriptable"
     ]
    }
   ],
   "source": [
    "def kLArgestFrequncy(s,k):\n",
    "    #construct the frequncy dictionary for all unique character\n",
    "    freq = {}\n",
    "    for i in s:\n",
    "        if i not in freq.keys():\n",
    "            freq[i] = s.count(i)\n",
    "    values = sorted(freq.values())\n",
    "    ulist=sorted(set(values),reverse = True)\n",
    "    if k<= len(ulist):\n",
    "        print(ulist[k-1])\n",
    "    else:\n",
    "        return -1\n",
    "    print(freq.items())\n",
    "    \n",
    "    print(freq.items[1])\n",
    "    print(freq)\n",
    "kLArgestFrequncy('aabcdcc',2)  "
   ]
  },
  {
   "cell_type": "code",
   "execution_count": 18,
   "metadata": {},
   "outputs": [],
   "source": [
    "d = {1:7,3:9,6:8}"
   ]
  },
  {
   "cell_type": "code",
   "execution_count": 19,
   "metadata": {},
   "outputs": [
    {
     "data": {
      "text/plain": [
       "{1: 7, 3: 9, 6: 8}"
      ]
     },
     "execution_count": 19,
     "metadata": {},
     "output_type": "execute_result"
    }
   ],
   "source": [
    "d"
   ]
  },
  {
   "cell_type": "code",
   "execution_count": 22,
   "metadata": {},
   "outputs": [
    {
     "data": {
      "text/plain": [
       "[9, 8, 7]"
      ]
     },
     "execution_count": 22,
     "metadata": {},
     "output_type": "execute_result"
    }
   ],
   "source": [
    "sorted(d.values(),reverse = True)"
   ]
  },
  {
   "cell_type": "code",
   "execution_count": 21,
   "metadata": {},
   "outputs": [
    {
     "name": "stdout",
     "output_type": "stream",
     "text": [
      "[7, 8, 9]\n"
     ]
    }
   ],
   "source": [
    "l =list(d.values())\n",
    "l.sort()\n",
    "print(l)"
   ]
  },
  {
   "cell_type": "code",
   "execution_count": 8,
   "metadata": {},
   "outputs": [
    {
     "data": {
      "text/plain": [
       "list"
      ]
     },
     "execution_count": 8,
     "metadata": {},
     "output_type": "execute_result"
    }
   ],
   "source": [
    "list"
   ]
  },
  {
   "cell_type": "code",
   "execution_count": null,
   "metadata": {},
   "outputs": [],
   "source": []
  }
 ],
 "metadata": {
  "kernelspec": {
   "display_name": "Python 3",
   "language": "python",
   "name": "python3"
  },
  "language_info": {
   "codemirror_mode": {
    "name": "ipython",
    "version": 3
   },
   "file_extension": ".py",
   "mimetype": "text/x-python",
   "name": "python",
   "nbconvert_exporter": "python",
   "pygments_lexer": "ipython3",
   "version": "3.7.3"
  }
 },
 "nbformat": 4,
 "nbformat_minor": 2
}
