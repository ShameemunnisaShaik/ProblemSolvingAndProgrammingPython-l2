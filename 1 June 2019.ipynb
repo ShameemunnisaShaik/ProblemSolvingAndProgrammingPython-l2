{
 "cells": [
  {
   "cell_type": "markdown",
   "metadata": {},
   "source": [
    "## Day Objectives\n",
    "Practice on Income Dataset\n",
    "\n",
    "Define functions for the following data points\n",
    "- Average Income of all states from 2005 to 2013\n",
    "- State with highest average income in the last three years\n",
    "- State with lowest average income from 2007 to 2010(inclusive)\n",
    "- Print the list of all states in the same line with average income less than California\n",
    "- Print the names of states based on descending order of income in the year 2009\n",
    "- State with the lowest recorded income from 2005 to 2013\n"
   ]
  },
  {
   "cell_type": "code",
   "execution_count": 84,
   "metadata": {},
   "outputs": [
    {
     "data": {
      "text/html": [
       "<div>\n",
       "<style scoped>\n",
       "    .dataframe tbody tr th:only-of-type {\n",
       "        vertical-align: middle;\n",
       "    }\n",
       "\n",
       "    .dataframe tbody tr th {\n",
       "        vertical-align: top;\n",
       "    }\n",
       "\n",
       "    .dataframe thead th {\n",
       "        text-align: right;\n",
       "    }\n",
       "</style>\n",
       "<table border=\"1\" class=\"dataframe\">\n",
       "  <thead>\n",
       "    <tr style=\"text-align: right;\">\n",
       "      <th></th>\n",
       "      <th>GEOID</th>\n",
       "      <th>State</th>\n",
       "      <th>2005</th>\n",
       "      <th>2006</th>\n",
       "      <th>2007</th>\n",
       "      <th>2008</th>\n",
       "      <th>2009</th>\n",
       "      <th>2010</th>\n",
       "      <th>2011</th>\n",
       "      <th>2012</th>\n",
       "      <th>2013</th>\n",
       "    </tr>\n",
       "  </thead>\n",
       "  <tbody>\n",
       "    <tr>\n",
       "      <th>0</th>\n",
       "      <td>04000US01</td>\n",
       "      <td>Alabama</td>\n",
       "      <td>37150</td>\n",
       "      <td>37952</td>\n",
       "      <td>42212</td>\n",
       "      <td>44476</td>\n",
       "      <td>39980</td>\n",
       "      <td>40933</td>\n",
       "      <td>42590</td>\n",
       "      <td>43464</td>\n",
       "      <td>41381</td>\n",
       "    </tr>\n",
       "    <tr>\n",
       "      <th>1</th>\n",
       "      <td>04000US02</td>\n",
       "      <td>Alaska</td>\n",
       "      <td>55891</td>\n",
       "      <td>56418</td>\n",
       "      <td>62993</td>\n",
       "      <td>63989</td>\n",
       "      <td>61604</td>\n",
       "      <td>57848</td>\n",
       "      <td>57431</td>\n",
       "      <td>63648</td>\n",
       "      <td>61137</td>\n",
       "    </tr>\n",
       "    <tr>\n",
       "      <th>2</th>\n",
       "      <td>04000US04</td>\n",
       "      <td>Arizona</td>\n",
       "      <td>45245</td>\n",
       "      <td>46657</td>\n",
       "      <td>47215</td>\n",
       "      <td>46914</td>\n",
       "      <td>45739</td>\n",
       "      <td>46896</td>\n",
       "      <td>48621</td>\n",
       "      <td>47044</td>\n",
       "      <td>50602</td>\n",
       "    </tr>\n",
       "    <tr>\n",
       "      <th>3</th>\n",
       "      <td>04000US05</td>\n",
       "      <td>Arkansas</td>\n",
       "      <td>36658</td>\n",
       "      <td>37057</td>\n",
       "      <td>40795</td>\n",
       "      <td>39586</td>\n",
       "      <td>36538</td>\n",
       "      <td>38587</td>\n",
       "      <td>41302</td>\n",
       "      <td>39018</td>\n",
       "      <td>39919</td>\n",
       "    </tr>\n",
       "    <tr>\n",
       "      <th>4</th>\n",
       "      <td>04000US06</td>\n",
       "      <td>California</td>\n",
       "      <td>51755</td>\n",
       "      <td>55319</td>\n",
       "      <td>55734</td>\n",
       "      <td>57014</td>\n",
       "      <td>56134</td>\n",
       "      <td>54283</td>\n",
       "      <td>53367</td>\n",
       "      <td>57020</td>\n",
       "      <td>57528</td>\n",
       "    </tr>\n",
       "  </tbody>\n",
       "</table>\n",
       "</div>"
      ],
      "text/plain": [
       "       GEOID       State   2005   2006   2007   2008   2009   2010   2011  \\\n",
       "0  04000US01     Alabama  37150  37952  42212  44476  39980  40933  42590   \n",
       "1  04000US02      Alaska  55891  56418  62993  63989  61604  57848  57431   \n",
       "2  04000US04     Arizona  45245  46657  47215  46914  45739  46896  48621   \n",
       "3  04000US05    Arkansas  36658  37057  40795  39586  36538  38587  41302   \n",
       "4  04000US06  California  51755  55319  55734  57014  56134  54283  53367   \n",
       "\n",
       "    2012   2013  \n",
       "0  43464  41381  \n",
       "1  63648  61137  \n",
       "2  47044  50602  \n",
       "3  39018  39919  \n",
       "4  57020  57528  "
      ]
     },
     "execution_count": 84,
     "metadata": {},
     "output_type": "execute_result"
    }
   ],
   "source": [
    "filepath = 'DataFiles/Income.csv'\n",
    "import pandas as pd\n",
    "def readCSVdata(filepath):\n",
    "    return pd.read_csv(filepath)\n",
    "\n",
    "readCSVdata(filepath)"
   ]
  },
  {
   "cell_type": "code",
   "execution_count": 85,
   "metadata": {},
   "outputs": [
    {
     "name": "stdout",
     "output_type": "stream",
     "text": [
      "GEOID State 2005 2006 2007 2008 2009 2010 2011 2012 2013 "
     ]
    }
   ],
   "source": [
    "incomedf = readCSVdata(filepath)\n",
    "def printDataFrameColumns(df):\n",
    "    columns = df.columns\n",
    "    for col in columns:\n",
    "        print(col,end = ' ')\n",
    "    return\n",
    "printDataFrameColumns(incomedf)\n",
    "    "
   ]
  },
  {
   "cell_type": "code",
   "execution_count": 86,
   "metadata": {},
   "outputs": [
    {
     "name": "stdout",
     "output_type": "stream",
     "text": [
      "0\n",
      "2\n"
     ]
    },
    {
     "data": {
      "text/plain": [
       "37150"
      ]
     },
     "execution_count": 86,
     "metadata": {},
     "output_type": "execute_result"
    }
   ],
   "source": [
    "def getRowIndex(df, rowkey):\n",
    "    for i in range(len(df.values)):\n",
    "        if df.values[i][0] == rowkey or df.values[i][1] == rowkey:\n",
    "            rowindex = i\n",
    "    return rowindex\n",
    "\n",
    "def getColumnIndex(df, columnkey):\n",
    "    for i in range(len(df.columns)):\n",
    "        if df.columns[i] == columnkey:\n",
    "            columnindex = i\n",
    "    return columnindex\n",
    "\n",
    "def valueFromRowColumn(df, rowkey, columnkey):\n",
    "    rowindex = getRowIndex(df, rowkey)\n",
    "    columnindex = getColumnIndex(df, columnkey)\n",
    "    print(rowindex)\n",
    "    print(columnindex)\n",
    "    return df.values[rowindex][columnindex]\n",
    "\n",
    "valueFromRowColumn(incomedf, 'Alabama', '2005')"
   ]
  },
  {
   "cell_type": "markdown",
   "metadata": {},
   "source": [
    "### Average Income of all states from 2005 to 2013"
   ]
  },
  {
   "cell_type": "code",
   "execution_count": 88,
   "metadata": {},
   "outputs": [
    {
     "data": {
      "text/plain": [
       "48525"
      ]
     },
     "execution_count": 88,
     "metadata": {},
     "output_type": "execute_result"
    }
   ],
   "source": [
    "def getRowIndex(df, rowkey):\n",
    "    rowindex = 0\n",
    "    for i in range(len(df.values)):\n",
    "        if df.values[i][0] == rowkey or df.values[i][1] == rowkey:\n",
    "            rowindex = i\n",
    "    return rowindex\n",
    "def getColumnIndex(df, columnkey):\n",
    "    for i in range(len(df.columns)):\n",
    "        if df.columns[i] == columnkey:\n",
    "            columnindex = i\n",
    "    return columnindex\n",
    "def accessDataFrameRow(df,rowkey,columnkey):\n",
    "    sum1 = 0\n",
    "    rowindex = getRowIndex(df, rowkey)\n",
    "    columnindex = getColumnIndex(df, columnkey)\n",
    "    c = 0\n",
    "    for i in range(rowindex,len(df.values)):\n",
    "        for j in range(columnindex,len(df.columns)):\n",
    "            sum1 += int(df.values[i][j])\n",
    "            c += 1 \n",
    "    return sum1//c\n",
    "accessDataFrameRow(incomedf, 'Alabama', '2005')"
   ]
  },
  {
   "cell_type": "markdown",
   "metadata": {},
   "source": [
    "### State with highest average income in the last three years"
   ]
  },
  {
   "cell_type": "code",
   "execution_count": 89,
   "metadata": {},
   "outputs": [
    {
     "data": {
      "text/html": [
       "<div>\n",
       "<style scoped>\n",
       "    .dataframe tbody tr th:only-of-type {\n",
       "        vertical-align: middle;\n",
       "    }\n",
       "\n",
       "    .dataframe tbody tr th {\n",
       "        vertical-align: top;\n",
       "    }\n",
       "\n",
       "    .dataframe thead th {\n",
       "        text-align: right;\n",
       "    }\n",
       "</style>\n",
       "<table border=\"1\" class=\"dataframe\">\n",
       "  <thead>\n",
       "    <tr style=\"text-align: right;\">\n",
       "      <th></th>\n",
       "      <th>GEOID</th>\n",
       "      <th>State</th>\n",
       "      <th>2005</th>\n",
       "      <th>2006</th>\n",
       "      <th>2007</th>\n",
       "      <th>2008</th>\n",
       "      <th>2009</th>\n",
       "      <th>2010</th>\n",
       "      <th>2011</th>\n",
       "      <th>2012</th>\n",
       "      <th>2013</th>\n",
       "    </tr>\n",
       "  </thead>\n",
       "  <tbody>\n",
       "    <tr>\n",
       "      <th>0</th>\n",
       "      <td>04000US01</td>\n",
       "      <td>Alabama</td>\n",
       "      <td>37150</td>\n",
       "      <td>37952</td>\n",
       "      <td>42212</td>\n",
       "      <td>44476</td>\n",
       "      <td>39980</td>\n",
       "      <td>40933</td>\n",
       "      <td>42590</td>\n",
       "      <td>43464</td>\n",
       "      <td>41381</td>\n",
       "    </tr>\n",
       "    <tr>\n",
       "      <th>1</th>\n",
       "      <td>04000US02</td>\n",
       "      <td>Alaska</td>\n",
       "      <td>55891</td>\n",
       "      <td>56418</td>\n",
       "      <td>62993</td>\n",
       "      <td>63989</td>\n",
       "      <td>61604</td>\n",
       "      <td>57848</td>\n",
       "      <td>57431</td>\n",
       "      <td>63648</td>\n",
       "      <td>61137</td>\n",
       "    </tr>\n",
       "    <tr>\n",
       "      <th>2</th>\n",
       "      <td>04000US04</td>\n",
       "      <td>Arizona</td>\n",
       "      <td>45245</td>\n",
       "      <td>46657</td>\n",
       "      <td>47215</td>\n",
       "      <td>46914</td>\n",
       "      <td>45739</td>\n",
       "      <td>46896</td>\n",
       "      <td>48621</td>\n",
       "      <td>47044</td>\n",
       "      <td>50602</td>\n",
       "    </tr>\n",
       "    <tr>\n",
       "      <th>3</th>\n",
       "      <td>04000US05</td>\n",
       "      <td>Arkansas</td>\n",
       "      <td>36658</td>\n",
       "      <td>37057</td>\n",
       "      <td>40795</td>\n",
       "      <td>39586</td>\n",
       "      <td>36538</td>\n",
       "      <td>38587</td>\n",
       "      <td>41302</td>\n",
       "      <td>39018</td>\n",
       "      <td>39919</td>\n",
       "    </tr>\n",
       "    <tr>\n",
       "      <th>4</th>\n",
       "      <td>04000US06</td>\n",
       "      <td>California</td>\n",
       "      <td>51755</td>\n",
       "      <td>55319</td>\n",
       "      <td>55734</td>\n",
       "      <td>57014</td>\n",
       "      <td>56134</td>\n",
       "      <td>54283</td>\n",
       "      <td>53367</td>\n",
       "      <td>57020</td>\n",
       "      <td>57528</td>\n",
       "    </tr>\n",
       "  </tbody>\n",
       "</table>\n",
       "</div>"
      ],
      "text/plain": [
       "       GEOID       State   2005   2006   2007   2008   2009   2010   2011  \\\n",
       "0  04000US01     Alabama  37150  37952  42212  44476  39980  40933  42590   \n",
       "1  04000US02      Alaska  55891  56418  62993  63989  61604  57848  57431   \n",
       "2  04000US04     Arizona  45245  46657  47215  46914  45739  46896  48621   \n",
       "3  04000US05    Arkansas  36658  37057  40795  39586  36538  38587  41302   \n",
       "4  04000US06  California  51755  55319  55734  57014  56134  54283  53367   \n",
       "\n",
       "    2012   2013  \n",
       "0  43464  41381  \n",
       "1  63648  61137  \n",
       "2  47044  50602  \n",
       "3  39018  39919  \n",
       "4  57020  57528  "
      ]
     },
     "execution_count": 89,
     "metadata": {},
     "output_type": "execute_result"
    }
   ],
   "source": [
    "incomedf"
   ]
  },
  {
   "cell_type": "code",
   "execution_count": 81,
   "metadata": {},
   "outputs": [
    {
     "name": "stdout",
     "output_type": "stream",
     "text": [
      "[0, 0, 0]\n",
      "[41381]\n",
      "[41381]\n",
      "[41381]\n",
      "[41381]\n",
      "[41381]\n"
     ]
    }
   ],
   "source": [
    "def last3yearsindexs(df):\n",
    "    years = []\n",
    "    for i in df.columns:\n",
    "        years.append(i)\n",
    "    return years[-3:]\n",
    "   \n",
    "def highestAverageIncomeLast3years(df):\n",
    "    last3years = last3yearsindexs(df)\n",
    "    rindexlist = []\n",
    "    cindexlist = []\n",
    "    sum1 = 0\n",
    "    c = 0\n",
    "    sum = 0\n",
    "    #print(last3years)\n",
    "    for row in df.values:\n",
    "        sum += row[-2]\n",
    "    #print(sum/len(incomedf.values))\n",
    "    #print(sum)\n",
    "    for i in last3years:\n",
    "        #print(i)\n",
    "        ri = getRowIndex(df, i)\n",
    "        rindexlist.append(ri)\n",
    "        ci = getColumnIndex(df, i)\n",
    "        #print(ci)\n",
    "        \n",
    "    print(rindexlist)\n",
    "    for k in range(len(df.values)):\n",
    "        print(df.values[ri][ci:])\n",
    "            \n",
    "        \n",
    "        \n",
    "        \n",
    "       \n",
    "            #print(c)\n",
    "                \n",
    "        \n",
    "highestAverageIncomeLast3years(incomedf)\n",
    "    "
   ]
  },
  {
   "cell_type": "code",
   "execution_count": null,
   "metadata": {},
   "outputs": [],
   "source": [
    " for k in range(ci,len(df.columns)):\n",
    "            print('k',k)\n",
    "            for j in range(ri,len(df.values)):\n",
    "                print(df.values[j][k])\n",
    "                sum1 += int(df.values[j][k])\n",
    "                c += 1 "
   ]
  },
  {
   "cell_type": "code",
   "execution_count": 83,
   "metadata": {},
   "outputs": [
    {
     "name": "stdout",
     "output_type": "stream",
     "text": [
      "4\n",
      "2\n",
      "cal avg 55350\n",
      "[96476, 78291, 68517, 61095, 59946]\n"
     ]
    }
   ],
   "source": [
    "def californiaSumFrameRow(df, r, c):\n",
    "    rowindex = getRowIndex(df, r)\n",
    "    colindex = getColumnIndex(df, c)\n",
    "    print(rowindex)\n",
    "    print(colindex)\n",
    "    sum1 = 0\n",
    "    c = 0\n",
    "    for j in range(rowindex,len(df.values)):\n",
    "        for k in range(colindex,len(df.columns)):\n",
    "            #print(df.values[j][k])\n",
    "            sum1 += int(df.values[j][k])\n",
    "            c += 1\n",
    "        calavg = sum1//c\n",
    "    print('cal avg',calavg)\n",
    "    count = 0\n",
    "    avg = []\n",
    "    for k in range(0,len(df.values)):\n",
    "        for j in range(2,len(df.columns)):\n",
    "            sum1 += int(df.values[k][j])\n",
    "            count += 1\n",
    "        newavg = sum1//count\n",
    "        if newavg not in avg: \n",
    "            avg.append(newavg)\n",
    "    print(avg)\n",
    "    d = {}\n",
    "    for i in range(0, len(df.columns)):\n",
    "        for j range(2, len(df.columns)):\n",
    "            d[li[]]\n",
    "            \n",
    "    \n",
    "    \n",
    "californiaSumFrameRow(incomedf, 'California', '2005')"
   ]
  },
  {
   "cell_type": "code",
   "execution_count": null,
   "metadata": {},
   "outputs": [],
   "source": []
  }
 ],
 "metadata": {
  "kernelspec": {
   "display_name": "Python 3",
   "language": "python",
   "name": "python3"
  },
  "language_info": {
   "codemirror_mode": {
    "name": "ipython",
    "version": 3
   },
   "file_extension": ".py",
   "mimetype": "text/x-python",
   "name": "python",
   "nbconvert_exporter": "python",
   "pygments_lexer": "ipython3",
   "version": "3.7.3"
  }
 },
 "nbformat": 4,
 "nbformat_minor": 2
}
