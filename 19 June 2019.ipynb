{
 "cells": [
  {
   "cell_type": "code",
   "execution_count": null,
   "metadata": {},
   "outputs": [],
   "source": [
    "def anagram(a,b):\n",
    "    \n",
    "    c = 0\n",
    "    for i in set(a):\n",
    "        if a.count(i) == b.count(i):\n",
    "            c += a.count(i)\n",
    "        else:\n",
    "            c += min([a.count(i),b.count(i)])\n",
    "    print(len(a) + len(b) - 2 * c)\n",
    "\n",
    "t = int(input())\n",
    "for i in range(t):\n",
    "    a = input()\n",
    "    b = input()\n",
    "    anagram(a,b)"
   ]
  },
  {
   "cell_type": "markdown",
   "metadata": {},
   "source": [
    "### Seating Arrangementm"
   ]
  },
  {
   "cell_type": "code",
   "execution_count": 5,
   "metadata": {},
   "outputs": [
    {
     "name": "stdout",
     "output_type": "stream",
     "text": [
      "3\n",
      "100\n",
      "105 AS\n",
      "99\n",
      "106 AS\n",
      "78\n",
      "79 WS\n"
     ]
    }
   ],
   "source": [
    "def seatarrangemt(s):\n",
    "    a=s%12\n",
    "    optseatno = 0\n",
    "    seattype = \"\"\n",
    "    if a == 0:\n",
    "        optseatno = abs(s-11)\n",
    "        seattype = \"WS\"\n",
    "    elif a==1:\n",
    "        optseatno = abs(s+11)\n",
    "        seattype = \"WS\"\n",
    "    elif a==2:\n",
    "        optseatno = abs(s+9)\n",
    "        seattype = \"MS\"\n",
    "    elif a==3:\n",
    "        optseatno = abs(s+7)\n",
    "        seattype = \"AS\"\n",
    "    elif a==4:\n",
    "        optseatno = abs(s+5)\n",
    "        seattype = \"AS\"\n",
    "    elif a==5:\n",
    "        optseatno = abs(s+3)\n",
    "        seattype = \"MS\"\n",
    "    elif a==6:\n",
    "        optseatno = abs(s+1)\n",
    "        seattype = \"WS\"\n",
    "    elif a==7:\n",
    "        optseatno = abs(s-1)\n",
    "        seattype = \"WS\"\n",
    "    elif a==8:\n",
    "        optseatno = abs(s-3)\n",
    "        seattype = \"MS\"\n",
    "    elif a==9:\n",
    "        optseatno = abs(s-5)\n",
    "        seattype = \"AS\"\n",
    "    elif a==10:\n",
    "        optseatno = abs(s-7)\n",
    "        seattype = \"AS\"\n",
    "    elif a==11:\n",
    "        optseatno = abs(s-9)\n",
    "        seattype = \"MS\"\n",
    "    print(optseatno,end=' ')\n",
    "    print(seattype)\n",
    "n = int(input())\n",
    "for i in range(n):\n",
    "    s = int(input())\n",
    "    seatarrangemt(s)"
   ]
  },
  {
   "cell_type": "markdown",
   "metadata": {},
   "source": [
    "### 1)Roy wants to change his profile picture on Facebook. Now Facebook has some restriction over the dimension of picture that we can upload.Minimum dimension of the picture can be L x L, where L is the length of the side of square.\n",
    "\n",
    "Now Roy has N photos of various dimensions.\n",
    "Dimension of a photo is denoted as W x H \n",
    "where W - width of the photo and H - Height of the photo\n",
    "\n",
    "When any photo is uploaded following events may occur:\n",
    "\n",
    "- [1] If any of the width or height is less than L, user is prompted to upload another one. Print \"UPLOAD ANOTHER\" in this case.\n",
    "- [2] If width and height, both are large enough and \n",
    "- (a) if the photo is already square then it is accepted. Print \"ACCEPTED\" in this case.\n",
    "- (b) else user is prompted to crop it. Print \"CROP IT\" in this case.\n",
    "\n",
    "(quotes are only for clarification)\n",
    "\n",
    "Given L, N, W and H as input, print appropriate text as output.\n",
    "\n",
    "**Input:**\n",
    "- First line contains L.\n",
    "- Second line contains N, number of photos.\n",
    "- Following N lines each contains two space separated integers W and H.\n",
    "\n",
    "**Output:**\n",
    "Print appropriate text for each photo in a new line.\n",
    "\n",
    "Constraints:\n",
    "1 <= L,W,H <= 10000\n",
    "1 <= N <= 1000"
   ]
  },
  {
   "cell_type": "code",
   "execution_count": null,
   "metadata": {},
   "outputs": [
    {
     "name": "stdout",
     "output_type": "stream",
     "text": [
      "180\n",
      "3\n",
      "640 480\n",
      "CROP IT\n"
     ]
    }
   ],
   "source": [
    "def photos(l,wn):\n",
    "    width = int(wn[0])\n",
    "    height = int(wn[1])\n",
    "    if width<l and height<l:\n",
    "        print(\"UPLOAD ANOTHER\")\n",
    "    elif (l==width and l==height) or (width==height):\n",
    "        print(\"ACCEPTED\")\n",
    "    elif l<=width and l<=height:\n",
    "        print(\"CROP IT\")\n",
    "    else:\n",
    "        print(\"UPLOAD ANOTHER\")\n",
    "    \n",
    "l = int(input())\n",
    "np = int(input())\n",
    "for i in range(1,np+1):\n",
    "    lent = input()\n",
    "    wn = lent.split()\n",
    "    photos(l,wn)\n"
   ]
  },
  {
   "cell_type": "markdown",
   "metadata": {},
   "source": [
    "### Patlu and Motu works in a building construction, they have to put some number of bricks N from one place to another, and started doing their work. They decided , they end up with a fun challenge who will put the last brick.\n",
    "\n",
    "They to follow a simple rule, In the i'th round, Patlu puts i bricks whereas Motu puts ix2 bricks.\n",
    "\n",
    "There are only N bricks, you need to help find the challenge result to find who put the last brick.\n",
    "\n",
    "**Input:**\n",
    "\n",
    "- First line contains an integer N.\n",
    "\n",
    "**Output:**\n",
    "\n",
    "- Output \"Patlu\" (without the quotes) if Patlu puts the last bricks ,\"Motu\"(without the quotes) otherwise.\n",
    "\n",
    "**Constraints:**\n",
    "\n",
    "1 ≤ N ≤ 10000\n",
    "\n",
    "- SAMPLE INPUT \n",
    "- 13\n",
    "- SAMPLE OUTPUT \n",
    "- Motu\n"
   ]
  },
  {
   "cell_type": "code",
   "execution_count": 2,
   "metadata": {},
   "outputs": [
    {
     "name": "stdout",
     "output_type": "stream",
     "text": [
      "2\n",
      "9 6\n",
      "10\n",
      "1 1\n",
      "1 1\n",
      "0 1\n",
      "0 0\n",
      "0 1\n",
      "0 0\n",
      "0 1\n",
      "0 1\n",
      "1 1\n",
      "0 0\n",
      "69\n",
      "1 9\n",
      "10\n",
      "0 1\n",
      "0 0\n",
      "0 0\n",
      "0 1\n",
      "1 0\n",
      "0 1\n",
      "0 1\n",
      "0 0\n",
      "0 1\n",
      "0 0\n",
      "14\n"
     ]
    }
   ],
   "source": [
    "def costOfBaloons(green,purple,n):\n",
    "    sum1 = 0\n",
    "    sum2 = 0\n",
    "    for i in range(n):\n",
    "        p = input().split()\n",
    "        particpants = list(map(int,p))\n",
    "        p1 = particpants[0]\n",
    "        p2 = particpants[1]\n",
    "        if p1==p2==1:\n",
    "            sum1 +=(green+purple)\n",
    "            sum2 +=(green+purple)\n",
    "        elif p1==0 and p2==1:\n",
    "            sum1 += green\n",
    "            sum2 += purple\n",
    "        elif p1==1 and p2==0:\n",
    "                sum1 += purple\n",
    "                sum2 +=green\n",
    "    sum = min(sum1,sum2)\n",
    "    print(sum)\n",
    "        \n",
    "tc = int(input())\n",
    "for i in range(tc):\n",
    "    cost = input().split()\n",
    "    c1 = list(map(int,cost))\n",
    "    green = c1[0]\n",
    "    purple = c1[1]\n",
    "    n = int(input()) \n",
    "    costOfBaloons(green,purple,n)"
   ]
  },
  {
   "cell_type": "code",
   "execution_count": null,
   "metadata": {},
   "outputs": [],
   "source": []
  }
 ],
 "metadata": {
  "kernelspec": {
   "display_name": "Python 3",
   "language": "python",
   "name": "python3"
  },
  "language_info": {
   "codemirror_mode": {
    "name": "ipython",
    "version": 3
   },
   "file_extension": ".py",
   "mimetype": "text/x-python",
   "name": "python",
   "nbconvert_exporter": "python",
   "pygments_lexer": "ipython3",
   "version": "3.7.3"
  }
 },
 "nbformat": 4,
 "nbformat_minor": 2
}
