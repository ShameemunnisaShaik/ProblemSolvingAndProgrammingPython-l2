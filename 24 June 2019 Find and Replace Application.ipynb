{
 "cells": [
  {
   "cell_type": "markdown",
   "metadata": {},
   "source": [
    "# Find and replace\n",
    "    - Count the total no.of occurances of a word\n",
    "    - If word is existing (yes or no)\n",
    "    - Replace all occurance of a word with another word"
   ]
  },
  {
   "cell_type": "code",
   "execution_count": 40,
   "metadata": {},
   "outputs": [
    {
     "name": "stdout",
     "output_type": "stream",
     "text": [
      "['Shamee', 'is', 'an', 'interpreted,', 'high-level,', 'general-purpose', 'programming', 'language.', 'Created', 'by', 'Guido', 'van', 'Rossum', 'and', 'first', 'released', 'in', '1991,', 'Shamee', 'design', 'philosophy', 'emphasizes', 'code', 'readability', 'with', 'its', 'notable', 'use', 'of', 'significant', 'whitespace.', 'Its', 'language', 'constructs', 'and', 'object-oriented', 'approach', 'aim', 'to', 'help', 'programmers', 'write', 'clear,', 'logical', 'code', 'for', 'small', 'and', 'large-scale', 'projects.[27]', 'Shamee', 'is', 'dynamically', 'typed', 'and', 'garbage-collected.', 'It', 'supports', 'multiple', 'programming', 'paradigms,', 'including', 'procedural,', 'object-oriented,', 'and', 'functional', 'programming.', 'Shamee', 'is', 'often', 'described', 'as', 'a', '\"batteries', 'included\"', 'language', 'due', 'to', 'its', 'comprehensive', 'standard', 'library.[28]', 'Shamee', 'was', 'conceived', 'in', 'the', 'late', '1980s', 'as', 'a', 'successor', 'to', 'the', 'ABC', 'language.', 'Shamee', '2.0,', 'released', '2000,', 'introduced', 'features', 'like', 'list', 'comprehensions', 'and', 'a', 'garbage', 'collection', 'system', 'capable', 'of', 'collecting', 'reference', 'cycles.', 'Shamee', '3.0,', 'released', '2008,', 'was', 'a', 'major', 'revision', 'of', 'the', 'language', 'that', 'is', 'not', 'completely', 'backward-compatible,', 'and', 'much', 'Shamee', '2', 'code', 'does', 'not', 'run', 'unmodified', 'on', 'Shamee', '3.', 'Due', 'to', 'concern', 'about', 'the', 'amount', 'of', 'code', 'written', 'for', 'Shamee', '2,', 'support', 'for', 'Shamee', '2.7', '(the', 'last', 'release', 'in', 'the', '2.x', 'series)', 'was', 'extended', 'to', '2020.', 'Language', 'developer', 'Guido', 'van', 'Rossum', 'shouldered', 'sole', 'responsibility', 'for', 'the', 'project', 'until', 'July', '2018', 'but', 'now', 'shares', 'his', 'leadership', 'as', 'a', 'member', 'of', 'a', 'five-person', 'steering', 'council']"
     ]
    }
   ],
   "source": [
    "import re\n",
    "filepath = \"Datafiles/story.txt\"\n",
    "unique = []\n",
    "def readFile(filepath):\n",
    "    with open(filepath, 'r') as f:\n",
    "        filedata = f.read().split()\n",
    "    return filedata\n",
    "print(readFile(filepath),end='')"
   ]
  },
  {
   "cell_type": "code",
   "execution_count": 41,
   "metadata": {},
   "outputs": [
    {
     "name": "stdout",
     "output_type": "stream",
     "text": [
      "Shamee : 11\n",
      "is : 4\n",
      "an : 1\n",
      "interpreted, : 1\n",
      "high-level, : 1\n",
      "general-purpose : 1\n",
      "programming : 2\n",
      "language. : 2\n",
      "Created : 1\n",
      "by : 1\n",
      "Guido : 2\n",
      "van : 2\n",
      "Rossum : 2\n",
      "and : 7\n",
      "first : 1\n",
      "released : 3\n",
      "in : 3\n",
      "1991, : 1\n",
      "design : 1\n",
      "philosophy : 1\n",
      "emphasizes : 1\n",
      "code : 4\n",
      "readability : 1\n",
      "with : 1\n",
      "its : 2\n",
      "notable : 1\n",
      "use : 1\n",
      "of : 5\n",
      "significant : 1\n",
      "whitespace. : 1\n",
      "Its : 1\n",
      "language : 3\n",
      "constructs : 1\n",
      "object-oriented : 1\n",
      "approach : 1\n",
      "aim : 1\n",
      "to : 5\n",
      "help : 1\n",
      "programmers : 1\n",
      "write : 1\n",
      "clear, : 1\n",
      "logical : 1\n",
      "for : 4\n",
      "small : 1\n",
      "large-scale : 1\n",
      "projects.[27] : 1\n",
      "dynamically : 1\n",
      "typed : 1\n",
      "garbage-collected. : 1\n",
      "It : 1\n",
      "supports : 1\n",
      "multiple : 1\n",
      "paradigms, : 1\n",
      "including : 1\n",
      "procedural, : 1\n",
      "object-oriented, : 1\n",
      "functional : 1\n",
      "programming. : 1\n",
      "often : 1\n",
      "described : 1\n",
      "as : 3\n",
      "a : 6\n",
      "\"batteries : 1\n",
      "included\" : 1\n",
      "due : 1\n",
      "comprehensive : 1\n",
      "standard : 1\n",
      "library.[28] : 1\n",
      "was : 3\n",
      "conceived : 1\n",
      "the : 6\n",
      "late : 1\n",
      "1980s : 1\n",
      "successor : 1\n",
      "ABC : 1\n",
      "2.0, : 1\n",
      "2000, : 1\n",
      "introduced : 1\n",
      "features : 1\n",
      "like : 1\n",
      "list : 1\n",
      "comprehensions : 1\n",
      "garbage : 1\n",
      "collection : 1\n",
      "system : 1\n",
      "capable : 1\n",
      "collecting : 1\n",
      "reference : 1\n",
      "cycles. : 1\n",
      "3.0, : 1\n",
      "2008, : 1\n",
      "major : 1\n",
      "revision : 1\n",
      "that : 1\n",
      "not : 2\n",
      "completely : 1\n",
      "backward-compatible, : 1\n",
      "much : 1\n",
      "2 : 1\n",
      "does : 1\n",
      "run : 1\n",
      "unmodified : 1\n",
      "on : 1\n",
      "3. : 1\n",
      "Due : 1\n",
      "concern : 1\n",
      "about : 1\n",
      "amount : 1\n",
      "written : 1\n",
      "2, : 1\n",
      "support : 1\n",
      "2.7 : 1\n",
      "(the : 1\n",
      "last : 1\n",
      "release : 1\n",
      "2.x : 1\n",
      "series) : 1\n",
      "extended : 1\n",
      "2020. : 1\n",
      "Language : 1\n",
      "developer : 1\n",
      "shouldered : 1\n",
      "sole : 1\n",
      "responsibility : 1\n",
      "project : 1\n",
      "until : 1\n",
      "July : 1\n",
      "2018 : 1\n",
      "but : 1\n",
      "now : 1\n",
      "shares : 1\n",
      "his : 1\n",
      "leadership : 1\n",
      "member : 1\n",
      "five-person : 1\n",
      "steering : 1\n",
      "council : 1\n"
     ]
    }
   ],
   "source": [
    "def uniquedata(filepath):\n",
    "    unique = []\n",
    "    filelist = readFile(filepath)\n",
    "    #print(filelist)\n",
    "    for word in filelist:\n",
    "        if word not in unique:\n",
    "            unique.append(word)\n",
    "    for occword in unique:\n",
    "        c = filelist.count(occword)\n",
    "        print(occword,':',c)\n",
    "    return\n",
    "uniquedata(filepath)"
   ]
  },
  {
   "cell_type": "code",
   "execution_count": null,
   "metadata": {},
   "outputs": [],
   "source": [
    "str1 = ' '\n",
    "str2 = ''\n",
    "def findandreplace(filepath,s,r):\n",
    "    filelist = readFile(filepath)\n",
    "    for i in range(len(filelist)):\n",
    "        if filelist[i]==s:\n",
    "            filelist[i]=r\n",
    "    #print(filelist)\n",
    "    str2 = str1.join(filelist)\n",
    "    return str2\n",
    "s = input()\n",
    "r = input()\n",
    "findandreplace(filepath,s,r)"
   ]
  },
  {
   "cell_type": "code",
   "execution_count": 43,
   "metadata": {},
   "outputs": [
    {
     "name": "stdout",
     "output_type": "stream",
     "text": [
      "Python\n",
      "Shamee\n"
     ]
    },
    {
     "data": {
      "text/plain": [
       "''"
      ]
     },
     "execution_count": 43,
     "metadata": {},
     "output_type": "execute_result"
    }
   ],
   "source": [
    "def replacenewdata(filepath,s,r):\n",
    "    str3 = ''\n",
    "    with open(filepath,'w') as f:\n",
    "        str3 = findandreplace(filepath,s,r) \n",
    "    return str3\n",
    "        \n",
    "s = input()\n",
    "r = input()\n",
    "replacenewdata(filepath,s,r)"
   ]
  },
  {
   "cell_type": "code",
   "execution_count": 12,
   "metadata": {},
   "outputs": [
    {
     "data": {
      "text/plain": [
       "123"
      ]
     },
     "execution_count": 12,
     "metadata": {},
     "output_type": "execute_result"
    }
   ],
   "source": [
    "def convert(list1):\n",
    "    #res = int(\"\".join(map(str, list)))\n",
    "    res = int(\"\".join(map(str,list1)))\n",
    "    return res\n",
    "list1 =[1, 2, 3]\n",
    "convert(list1)"
   ]
  },
  {
   "cell_type": "code",
   "execution_count": 30,
   "metadata": {},
   "outputs": [
    {
     "data": {
      "text/plain": [
       "''"
      ]
     },
     "execution_count": 30,
     "metadata": {},
     "output_type": "execute_result"
    }
   ],
   "source": [
    "str2"
   ]
  },
  {
   "cell_type": "code",
   "execution_count": null,
   "metadata": {},
   "outputs": [],
   "source": []
  }
 ],
 "metadata": {
  "kernelspec": {
   "display_name": "Python 3",
   "language": "python",
   "name": "python3"
  },
  "language_info": {
   "codemirror_mode": {
    "name": "ipython",
    "version": 3
   },
   "file_extension": ".py",
   "mimetype": "text/x-python",
   "name": "python",
   "nbconvert_exporter": "python",
   "pygments_lexer": "ipython3",
   "version": "3.7.3"
  }
 },
 "nbformat": 4,
 "nbformat_minor": 2
}
