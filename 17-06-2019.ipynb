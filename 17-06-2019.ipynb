{
 "cells": [
  {
   "cell_type": "markdown",
   "metadata": {},
   "source": [
    "### 1)write a program to determine whether a number N is equal to the sum of its proper positive divisors(excliding the number itself)"
   ]
  },
  {
   "cell_type": "code",
   "execution_count": 8,
   "metadata": {},
   "outputs": [
    {
     "name": "stdout",
     "output_type": "stream",
     "text": [
      "7\n",
      "NO\n"
     ]
    }
   ],
   "source": [
    "def positivedivisors(n):\n",
    "    sum = 0\n",
    "    for i in range(1,n):\n",
    "        if n%i == 0:\n",
    "            sum = sum + i\n",
    "    if sum==n:\n",
    "        print(\"YES\")\n",
    "    else:\n",
    "        print(\"NO\")\n",
    "i = int(input())\n",
    "positivedivisors(i)\n",
    "            \n"
   ]
  },
  {
   "cell_type": "markdown",
   "metadata": {},
   "source": [
    "### 2)you are given a string S of N character ai.Deermine the number of digits and the number of digits and the number of english letters in S."
   ]
  },
  {
   "cell_type": "code",
   "execution_count": 10,
   "metadata": {},
   "outputs": [
    {
     "name": "stdout",
     "output_type": "stream",
     "text": [
      "23#gh56#fgh\n",
      "4\n",
      "5\n"
     ]
    }
   ],
   "source": [
    "def nCharater(s):\n",
    "    n=0\n",
    "    l=0\n",
    "    for i in s:\n",
    "        if i.isdigit():\n",
    "            n += 1\n",
    "        elif i.isalpha():\n",
    "            l += 1\n",
    "    print(n)\n",
    "    print(l)\n",
    "            \n",
    "    \n",
    "s=input()\n",
    "nCharater(s)"
   ]
  },
  {
   "cell_type": "markdown",
   "metadata": {},
   "source": [
    "### 3)you are given a number N.write a program to find a natural number that is smaller than N such that N gives the highest remainder when divided by the number.if there is more one such number,print the smallest one\n"
   ]
  },
  {
   "cell_type": "code",
   "execution_count": 18,
   "metadata": {},
   "outputs": [
    {
     "name": "stdout",
     "output_type": "stream",
     "text": [
      "12\n",
      "7\n"
     ]
    }
   ],
   "source": [
    "def naturalNumber(n):\n",
    "    maxn = 0\n",
    "    rem = 0\n",
    "    rl=0\n",
    "    list1 = []\n",
    "    for i in range(1,n+1):\n",
    "        if i!=n:\n",
    "            rem=n%i\n",
    "            list1.append(rem)\n",
    "            if maxn<max(list1):\n",
    "                maxn=max(list1)\n",
    "                rl=i;\n",
    "    print(rl)\n",
    "i=int(input())\n",
    "naturalNumber(i)"
   ]
  },
  {
   "cell_type": "markdown",
   "metadata": {},
   "source": [
    "### 4)A speciial number is defined as a number which has at least P distinct prime factors.write a program to determine a number N is a special number."
   ]
  },
  {
   "cell_type": "markdown",
   "metadata": {},
   "source": [
    "## Function to determine if a number is special or not\n",
    "# Function to check if number is prime\n",
    "#function to determine number of prime factor \n"
   ]
  },
  {
   "cell_type": "code",
   "execution_count": 5,
   "metadata": {},
   "outputs": [
    {
     "name": "stdout",
     "output_type": "stream",
     "text": [
      "28\n",
      "2\n",
      "YES\n"
     ]
    }
   ],
   "source": [
    "def isprime(i):\n",
    "    for j in range(2,i):\n",
    "        if i%j == 0:\n",
    "            return False\n",
    "    return True\n",
    "    \n",
    "def factores(n,p):\n",
    "    count = 0\n",
    "    for i in range(1,n):\n",
    "        if n%i==0:\n",
    "            if isprime(i):\n",
    "                count = count+1\n",
    "    if p<=count:\n",
    "        print(\"YES\")\n",
    "    else:\n",
    "        print(\"NO\")\n",
    "n = int(input())\n",
    "p = int(input())\n",
    "factores(n,p)\n",
    "\n",
    "\n"
   ]
  },
  {
   "cell_type": "code",
   "execution_count": null,
   "metadata": {},
   "outputs": [],
   "source": []
  }
 ],
 "metadata": {
  "kernelspec": {
   "display_name": "Python 3",
   "language": "python",
   "name": "python3"
  },
  "language_info": {
   "codemirror_mode": {
    "name": "ipython",
    "version": 3
   },
   "file_extension": ".py",
   "mimetype": "text/x-python",
   "name": "python",
   "nbconvert_exporter": "python",
   "pygments_lexer": "ipython3",
   "version": "3.7.3"
  }
 },
 "nbformat": 4,
 "nbformat_minor": 2
}
