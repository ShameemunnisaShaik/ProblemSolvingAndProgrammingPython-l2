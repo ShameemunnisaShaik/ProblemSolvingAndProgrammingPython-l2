{
 "cells": [
  {
   "cell_type": "markdown",
   "metadata": {},
   "source": [
    "# Marks Analysis Application\n",
    "    - Generate marks file for n students \n",
    "    - Input : Marks text file - each line contains marks of one student\n",
    "    - Generete a report with the following information\n",
    "        - Class average\n",
    "        - % of students passed\n",
    "        - % of students failed\n",
    "        - % od students with distinction\n",
    "        \n",
    "        \n",
    "        "
   ]
  },
  {
   "cell_type": "code",
   "execution_count": 104,
   "metadata": {},
   "outputs": [],
   "source": [
    "from random import randint\n",
    "def generateMarks(n, lb, ub):\n",
    "    with open('Datafiles/marks.txt', 'w') as f:\n",
    "        for i in range(0, n):\n",
    "            r = randint(lb, ub)\n",
    "            f.write(str(r) + '\\n')\n",
    "    return\n",
    "generateMarks(100, 0,100 )\n",
    "    "
   ]
  },
  {
   "cell_type": "code",
   "execution_count": 105,
   "metadata": {},
   "outputs": [
    {
     "data": {
      "text/plain": [
       "['55',\n",
       " '55',\n",
       " '36',\n",
       " '1',\n",
       " '91',\n",
       " '86',\n",
       " '30',\n",
       " '59',\n",
       " '11',\n",
       " '19',\n",
       " '68',\n",
       " '57',\n",
       " '73',\n",
       " '75',\n",
       " '75',\n",
       " '19',\n",
       " '80',\n",
       " '47',\n",
       " '30',\n",
       " '97',\n",
       " '31',\n",
       " '99',\n",
       " '33',\n",
       " '64',\n",
       " '64',\n",
       " '31',\n",
       " '77',\n",
       " '82',\n",
       " '25',\n",
       " '91',\n",
       " '45',\n",
       " '72',\n",
       " '73',\n",
       " '32',\n",
       " '36',\n",
       " '96',\n",
       " '90',\n",
       " '43',\n",
       " '62',\n",
       " '37',\n",
       " '62',\n",
       " '70',\n",
       " '56',\n",
       " '2',\n",
       " '96',\n",
       " '19',\n",
       " '59',\n",
       " '53',\n",
       " '44',\n",
       " '0',\n",
       " '36',\n",
       " '91',\n",
       " '7',\n",
       " '15',\n",
       " '52',\n",
       " '63',\n",
       " '40',\n",
       " '81',\n",
       " '35',\n",
       " '21',\n",
       " '48',\n",
       " '71',\n",
       " '67',\n",
       " '84',\n",
       " '34',\n",
       " '33',\n",
       " '81',\n",
       " '36',\n",
       " '74',\n",
       " '47',\n",
       " '71',\n",
       " '30',\n",
       " '1',\n",
       " '6',\n",
       " '60',\n",
       " '59',\n",
       " '94',\n",
       " '34',\n",
       " '53',\n",
       " '15',\n",
       " '7',\n",
       " '10',\n",
       " '91',\n",
       " '84',\n",
       " '27',\n",
       " '29',\n",
       " '25',\n",
       " '18',\n",
       " '100',\n",
       " '39',\n",
       " '70',\n",
       " '58',\n",
       " '15',\n",
       " '100',\n",
       " '15',\n",
       " '45',\n",
       " '32',\n",
       " '19',\n",
       " '84',\n",
       " '61']"
      ]
     },
     "execution_count": 105,
     "metadata": {},
     "output_type": "execute_result"
    }
   ],
   "source": [
    "filepath = \"Datafiles/marks.txt\"\n",
    "def marksread(filepath):\n",
    "    with open(filepath,'r') as f:\n",
    "        filedata = f.read().split()\n",
    "    return filedata\n",
    "marksread(filepath)    "
   ]
  },
  {
   "cell_type": "code",
   "execution_count": 106,
   "metadata": {},
   "outputs": [
    {
     "data": {
      "text/plain": [
       "56.00000000000001"
      ]
     },
     "execution_count": 106,
     "metadata": {},
     "output_type": "execute_result"
    }
   ],
   "source": [
    "def passpercent(filepath):\n",
    "    filelist = list(map(int,marksread(filepath)))\n",
    "    add = 0\n",
    "    c = 0\n",
    "    for i in filelist:\n",
    "        if i>=45:\n",
    "            c += 1\n",
    "            add += i\n",
    "    return (c/len(filelist))*100\n",
    "passpercent(filepath)   "
   ]
  },
  {
   "cell_type": "code",
   "execution_count": 107,
   "metadata": {},
   "outputs": [
    {
     "data": {
      "text/plain": [
       "41.0"
      ]
     },
     "execution_count": 107,
     "metadata": {},
     "output_type": "execute_result"
    }
   ],
   "source": [
    "def failpercent(filepath):\n",
    "    filelist = list(map(int,marksread(filepath)))\n",
    "    add = 0\n",
    "    c = 0\n",
    "    for i in filelist:\n",
    "        if i<40:\n",
    "            c += 1\n",
    "            add += i\n",
    "    return (c/len(filelist))*100\n",
    "failpercent(filepath)   "
   ]
  },
  {
   "cell_type": "code",
   "execution_count": 108,
   "metadata": {},
   "outputs": [
    {
     "data": {
      "text/plain": [
       "23.0"
      ]
     },
     "execution_count": 108,
     "metadata": {},
     "output_type": "execute_result"
    }
   ],
   "source": [
    "def distpercent(filepath):\n",
    "    filelist = list(map(int,marksread(filepath)))\n",
    "    add = 0\n",
    "    c = 0\n",
    "    for i in filelist:\n",
    "        if i>=75:\n",
    "            c += 1\n",
    "            add += i\n",
    "    return (c/len(filelist))*100\n",
    "distpercent(filepath)   "
   ]
  },
  {
   "cell_type": "code",
   "execution_count": 109,
   "metadata": {},
   "outputs": [
    {
     "data": {
      "text/plain": [
       "2"
      ]
     },
     "execution_count": 109,
     "metadata": {},
     "output_type": "execute_result"
    }
   ],
   "source": [
    "def highestMarkfrequncy(filepath):\n",
    "    filelist = list(map(int,marksread(filepath)))\n",
    "    maxl = []\n",
    "    c = 0\n",
    "    maxMark = max(filelist)\n",
    "    for i in filelist:\n",
    "        if maxMark == i:\n",
    "            c += 1\n",
    "    return c\n",
    "        \n",
    "highestMarkfrequncy(filepath)   "
   ]
  },
  {
   "cell_type": "code",
   "execution_count": 110,
   "metadata": {},
   "outputs": [
    {
     "data": {
      "text/plain": [
       "2"
      ]
     },
     "execution_count": 110,
     "metadata": {},
     "output_type": "execute_result"
    }
   ],
   "source": [
    "def lowestMarkfrequncy(filepath):\n",
    "    filelist = list(map(int,marksread(filepath)))\n",
    "    maxl = []\n",
    "    c = 0\n",
    "    minMark = min(filelist)\n",
    "    for i in filelist:\n",
    "        if minMark == i:\n",
    "            c += 1\n",
    "    return c\n",
    "        \n",
    "highestMarkfrequncy(filepath)  \n"
   ]
  },
  {
   "cell_type": "code",
   "execution_count": 114,
   "metadata": {},
   "outputs": [],
   "source": [
    "filewritepath = \"Datafiles\\marksanalysisreport.txt\"\n",
    "def writemarkanalysisreport(filewritepath):\n",
    "    with open(filewritepath,'w') as f:\n",
    "        f.write(str(passpercent(filepath)))\n",
    "        f.write(str(failpercent(filepath)))\n",
    "        f.write(str(distpercent(filepath)))\n",
    "        f.write(str(highestMarkfrequncy(filepath)))\n",
    "        f.write(str(lowestMarkfrequncy(filepath)))\n",
    "writemarkanalysisreport(filewritepath)"
   ]
  },
  {
   "cell_type": "code",
   "execution_count": null,
   "metadata": {},
   "outputs": [],
   "source": [
    "passpercent =\n",
    "    faildpercent =\n",
    "    distpercent =\n",
    "    highfre =\n",
    "    lowfre ="
   ]
  }
 ],
 "metadata": {
  "kernelspec": {
   "display_name": "Python 3",
   "language": "python",
   "name": "python3"
  },
  "language_info": {
   "codemirror_mode": {
    "name": "ipython",
    "version": 3
   },
   "file_extension": ".py",
   "mimetype": "text/x-python",
   "name": "python",
   "nbconvert_exporter": "python",
   "pygments_lexer": "ipython3",
   "version": "3.7.3"
  }
 },
 "nbformat": 4,
 "nbformat_minor": 2
}
