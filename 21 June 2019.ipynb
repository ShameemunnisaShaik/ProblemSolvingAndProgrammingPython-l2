{
 "cells": [
  {
   "cell_type": "code",
   "execution_count": null,
   "metadata": {},
   "outputs": [],
   "source": [
    "Add Contact\n",
    "\n",
    "Search contact\n",
    "Delete contact\n",
    "Update Contact\n",
    "Display contact\n"
   ]
  },
  {
   "cell_type": "markdown",
   "metadata": {},
   "source": [
    "### 1.Add Contact"
   ]
  },
  {
   "cell_type": "code",
   "execution_count": 27,
   "metadata": {},
   "outputs": [
    {
     "name": "stdout",
     "output_type": "stream",
     "text": [
      "True\n",
      "shameemunnisa already exists\n"
     ]
    }
   ],
   "source": [
    "#from Packages import validators as v\n",
    "from Packages.validators import phonenumbervalidater as pnv,emailValidater as env\n",
    "\n",
    "def addContact(name,phone,email):\n",
    "    #store data as name,phone,email in the contacts file\n",
    "    \n",
    "    filename = 'Datafiles/contacts.txt'\n",
    "    if not checkContactExists(name):\n",
    "        if pnv(phone) and env(email):\n",
    "            with open(filename,'a') as f:\n",
    "                line = name + ',' + phone + ',' + email + '\\n'\n",
    "                f.write(line)\n",
    "            print(name,'added to contacts')\n",
    "        else:\n",
    "            print(\"Invalid Phone number or Email\")\n",
    "            return\n",
    "    else:\n",
    "        print(name,'already exists')\n",
    "        return\n",
    "    \n",
    "import re\n",
    "def checkContactExists(name):\n",
    "    filename = 'Datafiles/contacts.txt'\n",
    "    with open(filename, 'r') as f:\n",
    "        filedata = f.read()\n",
    "        pattern = name + ','\n",
    "    return re.search(name,filedata)\n",
    "\n",
    "if checkContactExists('shamee'):\n",
    "    print(True)\n",
    "else:\n",
    "    print(False)\n",
    "addContact('shameemunnisa','8074839694','shamee@gmail.com')    "
   ]
  },
  {
   "cell_type": "code",
   "execution_count": 29,
   "metadata": {},
   "outputs": [
    {
     "data": {
      "text/plain": [
       "'shamee,7888338899,newmail@gmail.com\\nshameem,7893437498,shamee@gmail.com\\nshameemunnisa,8938437498,shamee@gmail.com\\nshameemunnisa,8074839694,shamee@gmail.com\\n'"
      ]
     },
     "execution_count": 29,
     "metadata": {},
     "output_type": "execute_result"
    }
   ],
   "source": [
    "filename = 'Datafiles/contacts.txt'\n",
    "def csvToList(filename):\n",
    "    with open(filename,'r') as f:\n",
    "        li = []\n",
    "        with open(filename, 'r') as f:\n",
    "            for line in f:\n",
    "                li.append(line.split(','))\n",
    "        return li\n",
    "\n",
    "def listtoFile(li):\n",
    "    s = ''\n",
    "    for i in li:\n",
    "        s+=','.join(i)\n",
    "    return s\n",
    "li=csvToList(filename)\n",
    "listtoFile(li)"
   ]
  },
  {
   "cell_type": "code",
   "execution_count": 30,
   "metadata": {},
   "outputs": [
    {
     "data": {
      "text/plain": [
       "[['shamee', '7888338899', 'newmail@gmail.com\\n'],\n",
       " ['shameem', '7893437498', 'shamee@gmail.com\\n'],\n",
       " ['shameemunnisa', '8938437498', 'shamee@gmail.com\\n'],\n",
       " ['shameemunnisa', '8074839694', 'shamee@gmail.com\\n']]"
      ]
     },
     "execution_count": 30,
     "metadata": {},
     "output_type": "execute_result"
    }
   ],
   "source": [
    "li"
   ]
  },
  {
   "cell_type": "markdown",
   "metadata": {},
   "source": [
    "def searchForContact(name):\n",
    "    f1 = csvToList(filename)\n",
    "    for line in f1:\n",
    "        flag = 0\n",
    "        if name in line[0]:\n",
    "            flag = 1\n",
    "            print(\",\".join(line))q\n",
    "    return \n",
    "searchForContact(\"shamee\")"
   ]
  },
  {
   "cell_type": "code",
   "execution_count": 32,
   "metadata": {},
   "outputs": [
    {
     "ename": "SyntaxError",
     "evalue": "invalid syntax (<ipython-input-32-e161e4d86336>, line 28)",
     "output_type": "error",
     "traceback": [
      "\u001b[1;36m  File \u001b[1;32m\"<ipython-input-32-e161e4d86336>\"\u001b[1;36m, line \u001b[1;32m28\u001b[0m\n\u001b[1;33m    retirn nlist\u001b[0m\n\u001b[1;37m               ^\u001b[0m\n\u001b[1;31mSyntaxError\u001b[0m\u001b[1;31m:\u001b[0m invalid syntax\n"
     ]
    }
   ],
   "source": [
    "filename = 'Datafiles/contacts.txt'\n",
    "def csvToList(filename):\n",
    "    with open(filename,'r') as f:\n",
    "        li = []\n",
    "        with open(filename, 'r') as f:\n",
    "            for line in f:\n",
    "                li.append(line.split(','))\n",
    "        return li\n",
    "\n",
    "def listtoFile(li):\n",
    "    s = ''\n",
    "    for i in li:\n",
    "        s+=','.join(i)\n",
    "    return s\n",
    "#li=csvToList(filename)\n",
    "#listtoFile(li)\n",
    "def updateContact(name,phone,email):\n",
    "    #store data as name,phone,email in the contacts file\n",
    "    newl = []\n",
    "    \n",
    "    filename = 'Datafiles/contacts.txt'\n",
    "    if checkContactExists(name):\n",
    "        if pnv(phone) and env(email):\n",
    "            with open(filename,'a') as f:\n",
    "                nlist=f.read.split()\n",
    "                for word in nlist:\n",
    "                    newl.append(word)\n",
    "            retirn nlist\n",
    "print(updateContact('shamee',6737487454,'shamee432@gmail.com'))\n",
    "\n",
    "            #print(name,'edited')\n",
    "        #else:\n",
    "         #   print(\"Invalid Phone number or Email\")\n",
    "          #  return\n",
    "    #else:\n",
    "     #   print(name,'doesnot exists')\n",
    "      #  return"
   ]
  },
  {
   "cell_type": "code",
   "execution_count": null,
   "metadata": {},
   "outputs": [],
   "source": []
  }
 ],
 "metadata": {
  "kernelspec": {
   "display_name": "Python 3",
   "language": "python",
   "name": "python3"
  },
  "language_info": {
   "codemirror_mode": {
    "name": "ipython",
    "version": 3
   },
   "file_extension": ".py",
   "mimetype": "text/x-python",
   "name": "python",
   "nbconvert_exporter": "python",
   "pygments_lexer": "ipython3",
   "version": "3.7.3"
  }
 },
 "nbformat": 4,
 "nbformat_minor": 2
}
