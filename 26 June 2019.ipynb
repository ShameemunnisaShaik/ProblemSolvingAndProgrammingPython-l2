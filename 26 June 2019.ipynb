{
 "cells": [
  {
   "cell_type": "code",
   "execution_count": null,
   "metadata": {},
   "outputs": [],
   "source": [
    "fifthLeast(li)\n",
    "kLargest(li)\n",
    "ksmallest(li)"
   ]
  },
  {
   "cell_type": "code",
   "execution_count": 12,
   "metadata": {},
   "outputs": [
    {
     "name": "stdout",
     "output_type": "stream",
     "text": [
      "[9, 8, 6, 5, 3, 2, 1]\n"
     ]
    },
    {
     "data": {
      "text/plain": [
       "8"
      ]
     },
     "execution_count": 12,
     "metadata": {},
     "output_type": "execute_result"
    }
   ],
   "source": [
    "def SecondLargest(li):\n",
    "    #convert the list into  unique list\n",
    "    unique = []\n",
    "    for n in li:\n",
    "        if n not in unique:\n",
    "            unique.append(n)\n",
    "    unique = sorted(unique, reverse = True)\n",
    "    print(unique)\n",
    "    return unique[1]\n",
    "SecondLargest([1,2,5,6,3,8,9,1])"
   ]
  },
  {
   "cell_type": "code",
   "execution_count": 11,
   "metadata": {},
   "outputs": [
    {
     "name": "stdout",
     "output_type": "stream",
     "text": [
      "[1, 2, 3, 5, 6, 8, 9]\n"
     ]
    },
    {
     "data": {
      "text/plain": [
       "6"
      ]
     },
     "execution_count": 11,
     "metadata": {},
     "output_type": "execute_result"
    }
   ],
   "source": [
    "def FifthLeast(li):\n",
    "    #convert the list into  unique list\n",
    "    unique = []\n",
    "    for n in li:\n",
    "        if n not in unique:\n",
    "            unique.append(n)\n",
    "    unique = sorted(unique)\n",
    "    print(unique)\n",
    "    return unique[4]\n",
    "FifthLeast([1,2,5,6,3,8,9,1])"
   ]
  },
  {
   "cell_type": "code",
   "execution_count": 53,
   "metadata": {},
   "outputs": [
    {
     "name": "stdout",
     "output_type": "stream",
     "text": [
      "5\n",
      "[9, 8, 7, 6, 5, 3, 2, 1]\n"
     ]
    },
    {
     "data": {
      "text/plain": [
       "5"
      ]
     },
     "execution_count": 53,
     "metadata": {},
     "output_type": "execute_result"
    }
   ],
   "source": [
    "def klargest(li,k):\n",
    "    #convert the list into  unique list\n",
    "    unique = []\n",
    "    for n in li:\n",
    "        if n not in unique:\n",
    "            unique.append(n)\n",
    "    unique = sorted(unique)\n",
    "    unique.reverse()\n",
    "    print(unique)\n",
    "#     for i in range(0,len(unique)):\n",
    "#         if k ==i:\n",
    "    if len(unique) > (k-1):\n",
    "        return unique[k-1]\n",
    "        \n",
    "    return -1\n",
    "k = int(input())\n",
    "klargest([1,2,5,6,3,7,8,9,1],k)"
   ]
  },
  {
   "cell_type": "code",
   "execution_count": 5,
   "metadata": {},
   "outputs": [
    {
     "name": "stdout",
     "output_type": "stream",
     "text": [
      "3\n",
      "[3, 9]\n"
     ]
    },
    {
     "data": {
      "text/plain": [
       "-1"
      ]
     },
     "execution_count": 5,
     "metadata": {},
     "output_type": "execute_result"
    }
   ],
   "source": [
    "def ksmallest(li,k):\n",
    "    #convert the list into  unique list\n",
    "    unique = []\n",
    "    for n in li:\n",
    "        if n not in unique:\n",
    "            unique.append(n)\n",
    "            \n",
    "    #Sort the unique list in asending order\n",
    "    unique = sorted(unique)\n",
    "    print(unique)\n",
    "    if len(unique) >=k:\n",
    "        return unique[k-1]\n",
    "    return -1\n",
    "k = int(input())\n",
    "ksmallest([3,3,3,9],k)"
   ]
  },
  {
   "cell_type": "code",
   "execution_count": 2,
   "metadata": {},
   "outputs": [
    {
     "data": {
      "text/plain": [
       "[1, 4, 5, 6, 8, 9]"
      ]
     },
     "execution_count": 2,
     "metadata": {},
     "output_type": "execute_result"
    }
   ],
   "source": [
    "a = range(1, 10)\n",
    "[x for x in a if x not in [2, 3, 7]]"
   ]
  },
  {
   "cell_type": "code",
   "execution_count": 5,
   "metadata": {},
   "outputs": [
    {
     "data": {
      "text/plain": [
       "[1, 2, 3, 4, 5, 6, 7, 8]"
      ]
     },
     "execution_count": 5,
     "metadata": {},
     "output_type": "execute_result"
    }
   ],
   "source": [
    "[y for y in a if y not in [9,10]]"
   ]
  },
  {
   "cell_type": "code",
   "execution_count": 13,
   "metadata": {},
   "outputs": [
    {
     "ename": "ValueError",
     "evalue": "max() arg is an empty sequence",
     "output_type": "error",
     "traceback": [
      "\u001b[1;31m---------------------------------------------------------------------------\u001b[0m",
      "\u001b[1;31mValueError\u001b[0m                                Traceback (most recent call last)",
      "\u001b[1;32m<ipython-input-13-fcf24a35c4df>\u001b[0m in \u001b[0;36m<module>\u001b[1;34m\u001b[0m\n\u001b[0;32m     16\u001b[0m     \u001b[0mprint\u001b[0m\u001b[1;33m(\u001b[0m\u001b[0mfreq\u001b[0m\u001b[1;33m)\u001b[0m\u001b[1;33m\u001b[0m\u001b[1;33m\u001b[0m\u001b[0m\n\u001b[0;32m     17\u001b[0m \u001b[1;33m\u001b[0m\u001b[0m\n\u001b[1;32m---> 18\u001b[1;33m \u001b[0mhighestFrequncyElement\u001b[0m\u001b[1;33m(\u001b[0m\u001b[1;33m[\u001b[0m\u001b[1;36m1\u001b[0m\u001b[1;33m,\u001b[0m\u001b[1;36m2\u001b[0m\u001b[1;33m,\u001b[0m\u001b[1;36m3\u001b[0m\u001b[1;33m,\u001b[0m\u001b[1;36m9\u001b[0m\u001b[1;33m,\u001b[0m\u001b[1;36m8\u001b[0m\u001b[1;33m,\u001b[0m\u001b[1;36m7\u001b[0m\u001b[1;33m,\u001b[0m\u001b[1;36m3\u001b[0m\u001b[1;33m,\u001b[0m\u001b[1;36m4\u001b[0m\u001b[1;33m,\u001b[0m\u001b[1;36m2\u001b[0m\u001b[1;33m,\u001b[0m\u001b[1;36m1\u001b[0m\u001b[1;33m]\u001b[0m\u001b[1;33m)\u001b[0m\u001b[1;33m\u001b[0m\u001b[1;33m\u001b[0m\u001b[0m\n\u001b[0m\u001b[0;32m     19\u001b[0m \u001b[1;33m\u001b[0m\u001b[0m\n\u001b[0;32m     20\u001b[0m \u001b[1;33m\u001b[0m\u001b[0m\n",
      "\u001b[1;32m<ipython-input-13-fcf24a35c4df>\u001b[0m in \u001b[0;36mhighestFrequncyElement\u001b[1;34m(li)\u001b[0m\n\u001b[0;32m     12\u001b[0m         \u001b[0mc\u001b[0m \u001b[1;33m=\u001b[0m \u001b[0mli\u001b[0m\u001b[1;33m.\u001b[0m\u001b[0mcount\u001b[0m\u001b[1;33m(\u001b[0m\u001b[0mi\u001b[0m\u001b[1;33m)\u001b[0m\u001b[1;33m\u001b[0m\u001b[1;33m\u001b[0m\u001b[0m\n\u001b[0;32m     13\u001b[0m         \u001b[1;32mif\u001b[0m \u001b[0mc\u001b[0m \u001b[1;32mnot\u001b[0m \u001b[1;32min\u001b[0m \u001b[0mfreq\u001b[0m\u001b[1;33m:\u001b[0m\u001b[1;33m\u001b[0m\u001b[1;33m\u001b[0m\u001b[0m\n\u001b[1;32m---> 14\u001b[1;33m             \u001b[1;32mif\u001b[0m \u001b[0mc\u001b[0m\u001b[1;33m>\u001b[0m\u001b[0mmax\u001b[0m\u001b[1;33m(\u001b[0m\u001b[0mfreq\u001b[0m\u001b[1;33m)\u001b[0m\u001b[1;33m:\u001b[0m\u001b[1;33m\u001b[0m\u001b[1;33m\u001b[0m\u001b[0m\n\u001b[0m\u001b[0;32m     15\u001b[0m                 \u001b[0mfreq\u001b[0m\u001b[1;33m.\u001b[0m\u001b[0mappend\u001b[0m\u001b[1;33m(\u001b[0m\u001b[0mi\u001b[0m\u001b[1;33m)\u001b[0m\u001b[1;33m\u001b[0m\u001b[1;33m\u001b[0m\u001b[0m\n\u001b[0;32m     16\u001b[0m     \u001b[0mprint\u001b[0m\u001b[1;33m(\u001b[0m\u001b[0mfreq\u001b[0m\u001b[1;33m)\u001b[0m\u001b[1;33m\u001b[0m\u001b[1;33m\u001b[0m\u001b[0m\n",
      "\u001b[1;31mValueError\u001b[0m: max() arg is an empty sequence"
     ]
    }
   ],
   "source": [
    "#Function to identify the element with highest freqency\n",
    "#return the highest frequncy\n",
    "#highestFrequncy([1,2,3,9,8,7,3,4,2,1])\n",
    "\n",
    "def highestFrequncyElement(li):\n",
    "    unique = []\n",
    "    freq = []\n",
    "    for i in li:\n",
    "        if i not in unique:\n",
    "            unique.append(i)\n",
    "    for i in unique:\n",
    "        c = li.count(i)\n",
    "        if c>max(freq):\n",
    "                freq.append(i)\n",
    "    print(freq)\n",
    "    \n",
    "highestFrequncyElement([1,2,3,9,8,7,3,4,2,1])\n",
    "\n",
    "        \n",
    "    "
   ]
  },
  {
   "cell_type": "code",
   "execution_count": 21,
   "metadata": {},
   "outputs": [
    {
     "name": "stdout",
     "output_type": "stream",
     "text": [
      "3\n",
      "[2, 1, 3, 4, 5, 6, 7, 2, 1, 3, 4, 6]\n",
      "freq dic: {2: 2, 1: 2, 3: 2, 4: 2, 5: 1, 6: 2, 7: 1}\n",
      "max freq list: [2, 1, 3, 4, 6]\n",
      "max freq list sorted: [1, 2, 3, 4, 6]\n",
      "kth largest element 3\n"
     ]
    }
   ],
   "source": [
    "def kthhighestFrequncyElement(li,k):\n",
    "    print(li)\n",
    "    uniqued = {}\n",
    "    for i in range(0,len(li)):\n",
    "        c = 0\n",
    "        for j in range(0,len(li)):\n",
    "            if li[i] == li[j]:\n",
    "                c += 1\n",
    "            uniqued[li[i]] = c\n",
    "    print('freq dic:',uniqued)\n",
    "    \n",
    "    \n",
    "    m = max(uniqued.values())\n",
    "    freqlist = []\n",
    "    for k,v in uniqued.items():\n",
    "        if v == m:\n",
    "            freqlist.append(k)\n",
    "    print(\"max freq list:\",freqlist)\n",
    "    \n",
    "    \n",
    "    freqlist.sort()\n",
    "    print(\"max freq list sorted:\",freqlist)\n",
    "    \n",
    "    #1st largest element\n",
    "    #print(freqlist[0])\n",
    "    \n",
    "    #kth largest element\n",
    "    print('kth largest element',freqlist[len(freqlist)-kth])\n",
    "    \n",
    "kth = int(input())\n",
    "kthhighestFrequncyElement([a,b,c,a,b,c,a,b,c,d,a,d],k)\n",
    "\n"
   ]
  },
  {
   "cell_type": "code",
   "execution_count": null,
   "metadata": {},
   "outputs": [],
   "source": [
    "2,1,3,4,5,6,7,2,1,3,4,6"
   ]
  },
  {
   "cell_type": "code",
   "execution_count": null,
   "metadata": {},
   "outputs": [],
   "source": [
    "#Function to identify second highest frequncy \n",
    "#There are many such elements,return the smallest\n",
    "#[1,2,3,2,1,4,4]"
   ]
  },
  {
   "cell_type": "code",
   "execution_count": 28,
   "metadata": {},
   "outputs": [
    {
     "name": "stdout",
     "output_type": "stream",
     "text": [
      "3\n",
      "[2, 1, 8, 7, 4, 3, 5, 3, 8, 8, 4, 1, 2, 2, 1]\n",
      "unique dic {2: 3, 1: 3, 8: 3, 7: 1, 4: 2, 3: 2, 5: 1}\n",
      "[3, 1, 2]\n",
      "[1, 2, 3]\n",
      "1\n",
      "[7, 5]\n"
     ]
    },
    {
     "data": {
      "text/plain": [
       "5"
      ]
     },
     "execution_count": 28,
     "metadata": {},
     "output_type": "execute_result"
    }
   ],
   "source": [
    "def kthLargestFrequncyElement(li,ele):\n",
    "    print(li)\n",
    "    ud = {}\n",
    "#     for i in range(0,len(li)):\n",
    "#         c = 0\n",
    "#         for j in range(0,len(li)):\n",
    "#             if li[i] == li[j]:\n",
    "#                 c += 1\n",
    "#             ud[li[i]] = c\n",
    "#     print(\"unique dic\",ud)\n",
    "    \n",
    "    for i in li:\n",
    "        if i not in ud:\n",
    "            ud[i] = 1\n",
    "        else:\n",
    "            ud[i] += 1 \n",
    "    print(\"unique dic\",ud)\n",
    "    \n",
    "    flist = []\n",
    "    for k,v in ud.items():\n",
    "        if v not in flist:\n",
    "            flist.append(v)\n",
    "    print(flist)\n",
    "    \n",
    "    sflist = sorted(flist)\n",
    "    print(sflist)\n",
    "    \n",
    "    n = sflist[len(sflist)-ele]\n",
    "    print(n)\n",
    "    if len(sflist) >= ele:\n",
    "        newlist = []\n",
    "        for i,j in ud.items():\n",
    "            if j==n:\n",
    "                newlist.append(i)\n",
    "        print(newlist)\n",
    "        l = sorted(newlist)\n",
    "        return l[0]\n",
    "    return -1\n",
    "\n",
    "ele = int(input())   \n",
    "kthLargestFrequncyElement([2,1,8,7,4,3,5,3,8,8,4,1,2,2,1],ele)\n"
   ]
  },
  {
   "cell_type": "code",
   "execution_count": 29,
   "metadata": {},
   "outputs": [
    {
     "name": "stdout",
     "output_type": "stream",
     "text": [
      "1\n",
      "[2, 1, 8, 7, 4, 3, 5, 3, 8, 8, 4, 1, 2, 2, 1]\n",
      "unique dic {2: 3, 1: 3, 8: 3, 7: 1, 4: 2, 3: 2, 5: 1}\n",
      "[3, 1, 2]\n",
      "[1, 2, 3]\n",
      "3\n",
      "[2, 1, 8]\n"
     ]
    },
    {
     "data": {
      "text/plain": [
       "1"
      ]
     },
     "execution_count": 29,
     "metadata": {},
     "output_type": "execute_result"
    }
   ],
   "source": [
    "def kthSmallestFrequncyElement(li,ele):\n",
    "    print(li)\n",
    "    ud = {}\n",
    "#     for i in range(0,len(li)):\n",
    "#         c = 0\n",
    "#         for j in range(0,len(li)):\n",
    "#             if li[i] == li[j]:\n",
    "#                 c += 1\n",
    "#             ud[li[i]] = c\n",
    "#     print(\"unique dic\",ud)\n",
    "    \n",
    "    for i in li:\n",
    "        if i not in ud:\n",
    "            ud[i] = 1\n",
    "        else:\n",
    "            ud[i] += 1 \n",
    "    print(\"unique dic\",ud)\n",
    "    \n",
    "    flist = []\n",
    "    for k,v in ud.items():\n",
    "        if v not in flist:\n",
    "            flist.append(v)\n",
    "    print(flist)\n",
    "    \n",
    "    sflist = sorted(flist)\n",
    "    print(sflist)\n",
    "    \n",
    "    n = sflist[len(sflist)-ele]\n",
    "    print(n)\n",
    "    if len(sflist) >= ele:\n",
    "        newlist = []\n",
    "        for i,j in ud.items():\n",
    "            if j==n:\n",
    "                newlist.append(i)\n",
    "        print(newlist)\n",
    "        l = sorted(newlist)\n",
    "        return l[0]\n",
    "    return -1\n",
    "\n",
    "ele = int(input())   \n",
    "kthSmallestFrequncyElement([2,1,8,7,4,3,5,3,8,8,4,1,2,2,1],ele)\n"
   ]
  },
  {
   "cell_type": "code",
   "execution_count": 8,
   "metadata": {},
   "outputs": [
    {
     "name": "stdout",
     "output_type": "stream",
     "text": [
      "[1, 3, 4, 3, 2, 1]\n",
      "[1, 4, 3, 2, 1]\n"
     ]
    }
   ],
   "source": [
    "li = [[1,3,4,3,2,1],[1,4,3,2,1]]\n",
    "print(li[0])\n",
    "print(li[1])"
   ]
  },
  {
   "cell_type": "code",
   "execution_count": 4,
   "metadata": {},
   "outputs": [
    {
     "name": "stdout",
     "output_type": "stream",
     "text": [
      "[1, 3, 4, 3, 2, 1, 1, 4, 3, 2, 1]\n"
     ]
    }
   ],
   "source": [
    "li1 = []\n",
    "for i in range(0,len(li)):\n",
    "    for j in range(0,len(li[i])):\n",
    "        #if i not in li1:\n",
    "        li1.append(li[i][j])\n",
    "print(li1)"
   ]
  },
  {
   "cell_type": "code",
   "execution_count": 26,
   "metadata": {},
   "outputs": [
    {
     "name": "stdout",
     "output_type": "stream",
     "text": [
      "3\n",
      "['Python', 'is', 'an', 'interpreted,', 'high-level,', 'general-purpose', 'programming', 'language.', 'Created', 'by', 'Guido', 'van', 'Rossum', 'and', 'first', 'released', 'in', '1991,', 'Python', 'design', 'philosophy', 'emphasizes', 'code', 'readability', 'with', 'its', 'notable', 'use', 'of', 'significant', 'whitespace.', 'Its', 'language', 'constructs', 'and', 'object-oriented', 'approach', 'aim', 'to', 'help', 'programmers', 'write', 'clear,', 'logical', 'code', 'for', 'small', 'and', 'large-scale', 'projects.']\n",
      "unique dic {'Python': 2, 'is': 1, 'an': 1, 'interpreted,': 1, 'high-level,': 1, 'general-purpose': 1, 'programming': 1, 'language.': 1, 'Created': 1, 'by': 1, 'Guido': 1, 'van': 1, 'Rossum': 1, 'and': 3, 'first': 1, 'released': 1, 'in': 1, '1991,': 1, 'design': 1, 'philosophy': 1, 'emphasizes': 1, 'code': 2, 'readability': 1, 'with': 1, 'its': 1, 'notable': 1, 'use': 1, 'of': 1, 'significant': 1, 'whitespace.': 1, 'Its': 1, 'language': 1, 'constructs': 1, 'object-oriented': 1, 'approach': 1, 'aim': 1, 'to': 1, 'help': 1, 'programmers': 1, 'write': 1, 'clear,': 1, 'logical': 1, 'for': 1, 'small': 1, 'large-scale': 1, 'projects.': 1}\n",
      "[2, 1, 3]\n",
      "[1, 2, 3]\n",
      "1\n",
      "['is', 'an', 'interpreted,', 'high-level,', 'general-purpose', 'programming', 'language.', 'Created', 'by', 'Guido', 'van', 'Rossum', 'first', 'released', 'in', '1991,', 'design', 'philosophy', 'emphasizes', 'readability', 'with', 'its', 'notable', 'use', 'of', 'significant', 'whitespace.', 'Its', 'language', 'constructs', 'object-oriented', 'approach', 'aim', 'to', 'help', 'programmers', 'write', 'clear,', 'logical', 'for', 'small', 'large-scale', 'projects.']\n"
     ]
    },
    {
     "data": {
      "text/plain": [
       "'1991,'"
      ]
     },
     "execution_count": 26,
     "metadata": {},
     "output_type": "execute_result"
    }
   ],
   "source": [
    "filepath = 'Datafiles/story.txt'\n",
    "def StringListHighestFrequncyElement(filepath,ele):\n",
    "    with open(filepath, 'r') as f:\n",
    "        li=f.readline().split()\n",
    "        \n",
    "    print(li)\n",
    "    ud = {}\n",
    "#     for i in range(0,len(li)):\n",
    "#         c = 0\n",
    "#         for j in range(0,len(li)):\n",
    "#             if li[i] == li[j]:\n",
    "#                 c += 1\n",
    "#             ud[li[i]] = c\n",
    "#     print(\"unique dic\",ud)\n",
    "    \n",
    "    for i in li:\n",
    "        if i not in ud:\n",
    "            ud[i] = 1\n",
    "        else:\n",
    "            ud[i] += 1 \n",
    "    print(\"unique dic\",ud)\n",
    "    \n",
    "    flist = []\n",
    "    for k,v in ud.items():\n",
    "        if v not in flist:\n",
    "            flist.append(v)\n",
    "    print(flist)\n",
    "    \n",
    "    sflist = sorted(flist)\n",
    "    print(sflist)\n",
    "    \n",
    "    n = sflist[len(sflist)-ele]\n",
    "    print(n)\n",
    "    if len(sflist) >= ele:\n",
    "        newlist = []\n",
    "        for i,j in ud.items():\n",
    "            if j==n:\n",
    "                newlist.append(i)\n",
    "        print(newlist)\n",
    "        l = sorted(newlist)\n",
    "        return l[0]\n",
    "    return -1\n",
    "ele = int(input()) \n",
    "secondSmallestFrequncyElement(filepath,ele)"
   ]
  },
  {
   "cell_type": "code",
   "execution_count": 41,
   "metadata": {},
   "outputs": [
    {
     "name": "stdout",
     "output_type": "stream",
     "text": [
      "*   *\n",
      "*   *\n",
      "*****\n",
      "*   *\n",
      "*   *\n",
      "*****\n",
      "*   *\n",
      "*   *\n",
      "*****\n",
      "*   *\n",
      "*   *\n",
      "*****\n",
      "*   *\n",
      "*   *\n"
     ]
    }
   ],
   "source": [
    "for i in range(0,4):\n",
    "    print('*   *')\n",
    "    print('*   *')\n",
    "    print('*****')\n",
    "print('*   *')\n",
    "print('*   *')"
   ]
  },
  {
   "cell_type": "code",
   "execution_count": null,
   "metadata": {},
   "outputs": [],
   "source": []
  },
  {
   "cell_type": "code",
   "execution_count": null,
   "metadata": {},
   "outputs": [],
   "source": []
  },
  {
   "cell_type": "code",
   "execution_count": null,
   "metadata": {},
   "outputs": [],
   "source": []
  },
  {
   "cell_type": "code",
   "execution_count": null,
   "metadata": {},
   "outputs": [],
   "source": []
  }
 ],
 "metadata": {
  "kernelspec": {
   "display_name": "Python 3",
   "language": "python",
   "name": "python3"
  },
  "language_info": {
   "codemirror_mode": {
    "name": "ipython",
    "version": 3
   },
   "file_extension": ".py",
   "mimetype": "text/x-python",
   "name": "python",
   "nbconvert_exporter": "python",
   "pygments_lexer": "ipython3",
   "version": "3.7.3"
  }
 },
 "nbformat": 4,
 "nbformat_minor": 2
}
