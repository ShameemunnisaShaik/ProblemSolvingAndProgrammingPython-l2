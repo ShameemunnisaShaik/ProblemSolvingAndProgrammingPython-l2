{
 "cells": [
  {
   "cell_type": "markdown",
   "metadata": {},
   "source": [
    "# Date:20 June 2019\n",
    "**Regular Expressions**\n",
    "- Constructing regular Expression for various use cases\n",
    "- Regular Expressions Module and related in python\n",
    "- Improving the contacts application with name and phone number validation\n"
   ]
  },
  {
   "cell_type": "markdown",
   "metadata": {},
   "source": [
    "### **File Handling**"
   ]
  },
  {
   "cell_type": "markdown",
   "metadata": {},
   "source": [
    "### **Basics of Regular Expressions**\n",
    "\n",
    "- Pattern Matching\n",
    "- Symbolic Notation of pattern\n",
    "   - **Pattern** : Format which repeats(ex:same sequnce of events as repeats)\n",
    "   - Pattern(RE) - represents the set of all strings matches that pattern\n",
    "- [0-9]         -> for any digit(it represents any number from 0 to 9)\n",
    "- [a-z]         -> for any lower case alphabet \n",
    "\n",
    "- $ represents end of the string \n",
    "\n",
    "- ^ represents start of the string\n",
    "\n",
    "- ^[0-9]{1}$    -> it allows only single digit numbers\n",
    "\n",
    "- ^[0-9]{2}$   -> it allows only double digit numbers\n",
    "\n",
    "- ^[0-9]{2}$    -> it allows only three digit numbers\n",
    "\n",
    "- [09]*0$      -> all multipiles of 10\n",
    "\n",
    "**example:**\n",
    "- [2468] or [8642] or [6824] -> All Single digit multiples of 2\n",
    "\n",
    "\n",
    "\n",
    "   "
   ]
  },
  {
   "cell_type": "markdown",
   "metadata": {},
   "source": [
    "- All multiples of 5\n",
    "- all 10 digit numbers\n",
    "- Validating Phone number(India)(start) with 9876 followed by \n",
    "- Email validation(username@domain.extension)"
   ]
  },
  {
   "cell_type": "code",
   "execution_count": 6,
   "metadata": {},
   "outputs": [
    {
     "name": "stdout",
     "output_type": "stream",
     "text": [
      "['0', '5']\n"
     ]
    }
   ],
   "source": [
    "import re\n",
    "p = re.compile('[0|5]') \n",
    "print(p.findall(\"105\")) \n"
   ]
  },
  {
   "cell_type": "code",
   "execution_count": 4,
   "metadata": {},
   "outputs": [],
   "source": [
    "import re\n",
    "exchangeRate = 165.42 / 127.25\n",
    "numString = re.match('(\\d+.\\d\\d)GBP', '127.25GBP').group(1)\n",
    "num = float(numString)\n",
    "numConverted = num * exchangeRate\n",
    "numConvertedFormatted = \"%.2f\" % numConverted"
   ]
  },
  {
   "cell_type": "markdown",
   "metadata": {},
   "source": [
    "#### Multiples of 5"
   ]
  },
  {
   "cell_type": "code",
   "execution_count": null,
   "metadata": {},
   "outputs": [],
   "source": [
    "^[1-9][0-9]*[05]$    #this is multiples 2 or more digits of 5 but other than 5\n",
    "\n",
    "^([1-9][0-9]*[05])|(^[5])$   #if you include one digit i.e, 5 also "
   ]
  },
  {
   "cell_type": "markdown",
   "metadata": {},
   "source": [
    "#### all 10 digit numbers"
   ]
  },
  {
   "cell_type": "code",
   "execution_count": null,
   "metadata": {},
   "outputs": [],
   "source": [
    "^[1-9][0-9]{9}$"
   ]
  },
  {
   "cell_type": "markdown",
   "metadata": {},
   "source": [
    "#### print"
   ]
  },
  {
   "cell_type": "code",
   "execution_count": null,
   "metadata": {},
   "outputs": [],
   "source": [
    "^[p][r][i][n][t]    or (print)"
   ]
  },
  {
   "cell_type": "markdown",
   "metadata": {},
   "source": [
    "#### exact print only"
   ]
  },
  {
   "cell_type": "code",
   "execution_count": null,
   "metadata": {},
   "outputs": [],
   "source": [
    "^[p][r][i][n][t]$"
   ]
  },
  {
   "cell_type": "markdown",
   "metadata": {},
   "source": [
    "#### start with 6-9 AND continue 0-9 with lenth of 9 so total length is 10"
   ]
  },
  {
   "cell_type": "code",
   "execution_count": null,
   "metadata": {},
   "outputs": [],
   "source": [
    "^[6-9][0-9]{9}$"
   ]
  },
  {
   "cell_type": "markdown",
   "metadata": {},
   "source": [
    "-o/p:\n",
    "- 9871343704\n",
    "- 6743434345\n",
    "- 7456565634"
   ]
  },
  {
   "cell_type": "markdown",
   "metadata": {},
   "source": [
    "#### start with 6-9 AND continue 0-9 with length of 9 so total length is 10 || start with 0 and continue 0-9 with length of 9 so total length is 11"
   ]
  },
  {
   "cell_type": "code",
   "execution_count": null,
   "metadata": {},
   "outputs": [],
   "source": [
    "^[6-9][0-9]{9}$|^[0][6-9][0-9]{9}$"
   ]
  },
  {
   "cell_type": "markdown",
   "metadata": {},
   "source": [
    "- 7456565634\n",
    "- 09434034340"
   ]
  },
  {
   "cell_type": "markdown",
   "metadata": {},
   "source": [
    "#### start with 6-9 AND continue 0-9 with length of 9 so total length is 10 || start with 0 and continue 0-9 with length of 9 so total length is 11 || start with +91 and 6-9 and continue 0-9 and also end with 0  with length 9 total length is 11"
   ]
  },
  {
   "cell_type": "code",
   "execution_count": null,
   "metadata": {},
   "outputs": [],
   "source": [
    "^[6-9][0-9]{9}$|^[0][6-9][0-9]{9}|^[+][9][1][6-9][0-9]{9}$"
   ]
  },
  {
   "cell_type": "markdown",
   "metadata": {},
   "source": [
    "- 9871343704\n",
    "- 6743434345\n",
    "- 7456565634\n",
    "- 09434034340\n",
    "- +918456754569"
   ]
  },
  {
   "cell_type": "markdown",
   "metadata": {},
   "source": [
    "### Email Validation\n",
    "\n",
    "   shameemunnisa521@apssdc.in \n",
    "   \n",
    "- 3 ruls we have followed when ever create a email_id\n",
    "   - user name\n",
    "       - need to fix min and max number of characters i.e,length of user name\n",
    "           - length of username : [6,15]\n",
    "       - No Special character other than -.\n",
    "       - should not bigin and end with _.\n",
    "       - character set : all digits and lower case alphabets\n",
    "       \n",
    "       - **Answer:** ^[0-9az][0-9a-z_.]{4,13}[0-9a-z]$\n",
    "   - domain\n",
    "       - Length of domain : [3,18]\n",
    "       - No special characters\n",
    "       - Character set :set all digits and lower case alphabet\n",
    "       - **Anwser**: [0-9a-z][@][0-9a-z]{3,18}\n",
    "   - extention\n",
    "       - length of extention : [2,4]\n",
    "       - No special characters\n",
    "       - character set : alphabets\n",
    "       - **answer**: [a-z]{2,4}"
   ]
  },
  {
   "cell_type": "code",
   "execution_count": null,
   "metadata": {},
   "outputs": [],
   "source": [
    "^[0-9a-z][0-9a-z_.]{4,13}[0-9a-z][@][0-9a-z]{3,18}[.][a-z]{2,4}$"
   ]
  },
  {
   "cell_type": "code",
   "execution_count": null,
   "metadata": {},
   "outputs": [],
   "source": [
    "shameemunnisa@apssdc.in\n",
    "shameemunnisa_h@info.com"
   ]
  },
  {
   "cell_type": "code",
   "execution_count": null,
   "metadata": {},
   "outputs": [],
   "source": [
    "^[0-9a-z][0-9a-z_.]{4,13}[0-9a-z][@][0-9a-z]{3,18}[.][a-z]{2,4}$|^[0-9a-z][0-9a-z_.]{4,13}[0-9a-z][@][0-9a-z]{3,18}[.][a-z]{2,4}[.][a-z]{2,3}$"
   ]
  },
  {
   "cell_type": "markdown",
   "metadata": {},
   "source": [
    "- shameemunnisa@apssdc.in\n",
    "- shameemunnisa_h@info.com\n",
    "- shamee1324_g@gmail.com\n",
    "- shamee1324_g@gmail.com.in\n",
    "- shamee1324_g@gmail.co.in"
   ]
  },
  {
   "cell_type": "markdown",
   "metadata": {},
   "source": [
    "### how to give any string of any length starting with 'a' and ending with 'z'\n",
    "\n",
    "\n",
    "- here . represents length\n",
    "-    .     ->1\n",
    "     ..    ->2\n",
    "     ...   ->3\n",
    "     ..... ->5\n"
   ]
  },
  {
   "cell_type": "markdown",
   "metadata": {},
   "source": [
    "#### Any String which have length of that start with 'a' and ends with 'z' in bitween we have any thing"
   ]
  },
  {
   "cell_type": "code",
   "execution_count": null,
   "metadata": {},
   "outputs": [],
   "source": [
    "^[a]...[z]$"
   ]
  },
  {
   "cell_type": "markdown",
   "metadata": {},
   "source": [
    "- abcdz\n",
    "- a&64z\n",
    "- a76tz\n"
   ]
  },
  {
   "cell_type": "code",
   "execution_count": null,
   "metadata": {},
   "outputs": [],
   "source": [
    "^[a].*[z]$"
   ]
  },
  {
   "cell_type": "markdown",
   "metadata": {},
   "source": [
    "- abcdz\n",
    "- a&64z\n",
    "- a76tz\n",
    "- a7t4ovy3ih4z\n",
    "- a8764vty4z"
   ]
  },
  {
   "cell_type": "markdown",
   "metadata": {},
   "source": [
    "### Function to validate a phone number"
   ]
  },
  {
   "cell_type": "code",
   "execution_count": 3,
   "metadata": {},
   "outputs": [
    {
     "data": {
      "text/plain": [
       "True"
      ]
     },
     "execution_count": 3,
     "metadata": {},
     "output_type": "execute_result"
    }
   ],
   "source": [
    "import re\n",
    "\n",
    "def phonenumbervalidater(num):\n",
    "    pattern = '^[6-9][0-9]{9}$|^[0][6-9][0-9]{9}|^[+][9][1][6-9][0-9]{9}$'\n",
    "    if re.match(pattern,str(num)):\n",
    "        return True\n",
    "    else:\n",
    "        return False\n",
    "phonenumbervalidater(8686925122)\n",
    "    "
   ]
  },
  {
   "cell_type": "code",
   "execution_count": 4,
   "metadata": {},
   "outputs": [
    {
     "data": {
      "text/plain": [
       "True"
      ]
     },
     "execution_count": 4,
     "metadata": {},
     "output_type": "execute_result"
    }
   ],
   "source": [
    "import re\n",
    "\n",
    "def emailvalidater(email):\n",
    "    pattern = '^[0-9a-z][0-9a-z_.]{4,13}[0-9a-z][@][0-9a-z]{3,18}[.][a-z]{2,4}$'\n",
    "    if re.match(pattern,str(email)):\n",
    "        return True\n",
    "    else:\n",
    "        return False\n",
    "emailvalidater(\"shameemu@gmail.com\")"
   ]
  },
  {
   "cell_type": "code",
   "execution_count": 5,
   "metadata": {},
   "outputs": [
    {
     "name": "stdout",
     "output_type": "stream",
     "text": [
      "Phone number is invalid\n"
     ]
    }
   ],
   "source": [
    "contacts = {}\n",
    "def addcontacts(name,phone):\n",
    "    #verify that the contact doesnot alredy exists\n",
    "    if name not in contacts and phonenumbervalidater(phone):\n",
    "        contacts[name] = phone,\n",
    "        print(\"Contact added\"%name)\n",
    "    if not phonenumbervalidater(phone):\n",
    "        print(\"Phone number is invalid\")\n",
    "    return\n",
    "addcontacts(\"name1\",1234567098)\n"
   ]
  },
  {
   "cell_type": "code",
   "execution_count": 8,
   "metadata": {},
   "outputs": [
    {
     "data": {
      "text/plain": [
       "{'name2': 764643853475, 'name3': 7374535}"
      ]
     },
     "execution_count": 8,
     "metadata": {},
     "output_type": "execute_result"
    }
   ],
   "source": [
    "contacts"
   ]
  },
  {
   "cell_type": "code",
   "execution_count": 18,
   "metadata": {},
   "outputs": [
    {
     "name": "stdout",
     "output_type": "stream",
     "text": [
      "name3 : 7374535\n"
     ]
    }
   ],
   "source": [
    "def searchContacts(name):\n",
    "    if name in contacts:\n",
    "        print(name,\":\",contacts[name])\n",
    "    else:\n",
    "        print(\"%s does not exists\"%name)\n",
    "    return\n",
    "searchContacts(\"name3\")"
   ]
  },
  {
   "cell_type": "code",
   "execution_count": 7,
   "metadata": {},
   "outputs": [
    {
     "name": "stdout",
     "output_type": "stream",
     "text": [
      "2 contacts added successfully\n"
     ]
    }
   ],
   "source": [
    "def importcontacts(newContacts):\n",
    "    contacts.update(newContacts)\n",
    "    print(len(newContacts.keys()),\"contacts added successfully\")\n",
    "    return\n",
    "newContacts = {\"name2\":764643853475,\"name3\":7374535}\n",
    "importcontacts(newContacts)"
   ]
  },
  {
   "cell_type": "code",
   "execution_count": null,
   "metadata": {},
   "outputs": [],
   "source": []
  },
  {
   "cell_type": "code",
   "execution_count": null,
   "metadata": {},
   "outputs": [],
   "source": []
  },
  {
   "cell_type": "code",
   "execution_count": null,
   "metadata": {},
   "outputs": [],
   "source": []
  }
 ],
 "metadata": {
  "kernelspec": {
   "display_name": "Python 3",
   "language": "python",
   "name": "python3"
  },
  "language_info": {
   "codemirror_mode": {
    "name": "ipython",
    "version": 3
   },
   "file_extension": ".py",
   "mimetype": "text/x-python",
   "name": "python",
   "nbconvert_exporter": "python",
   "pygments_lexer": "ipython3",
   "version": "3.7.3"
  }
 },
 "nbformat": 4,
 "nbformat_minor": 2
}
