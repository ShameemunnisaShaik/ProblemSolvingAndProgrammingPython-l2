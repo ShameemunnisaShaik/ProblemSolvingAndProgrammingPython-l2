{
 "cells": [
  {
   "cell_type": "markdown",
   "metadata": {},
   "source": [
    "### Date : 22 June 2019\n",
    "**Day Objectives**\n",
    " - File Handling\n",
    "    - Basic File data processing\n",
    "       - Accessing and Modefiying File data\n",
    "    - Character count\n",
    "    - Line count\n",
    "    - File size\n",
    "    - Word count\n",
    "    - Unique word Count\n",
    "    \n",
    "    "
   ]
  },
  {
   "cell_type": "markdown",
   "metadata": {},
   "source": [
    "- Read File   - File Should exist **(Read mode)**\n",
    "- Write file  - Existing file **(append mode)** or automatically new file **(write mode)** will created\n"
   ]
  },
  {
   "cell_type": "code",
   "execution_count": 5,
   "metadata": {},
   "outputs": [
    {
     "name": "stdout",
     "output_type": "stream",
     "text": [
      "new data\n",
      "Line\n",
      "data new\n",
      "Line\n",
      "youLine2\n",
      "Line3\n",
      "Line2\n",
      "Line3\n"
     ]
    }
   ],
   "source": [
    "def readfile(filepath):\n",
    "    with open(filepath, 'r') as f:\n",
    "        filedata = f.read()  # reads entire data file data into a string\n",
    "    return filedata\n",
    "filepath = \"Datafiles/data.txt\"\n",
    "print(readfile(filepath))\n",
    "   "
   ]
  },
  {
   "cell_type": "code",
   "execution_count": 14,
   "metadata": {},
   "outputs": [
    {
     "name": "stdout",
     "output_type": "stream",
     "text": [
      "new data\n",
      "Line\n",
      "data new\n",
      "Line\n",
      "youLine2\n",
      "Line3\n",
      "Line2\n",
      "Line3\n"
     ]
    }
   ],
   "source": [
    "#This function to read entire data into a list odf lines\n",
    "#each element in the list is one line in the file - Line processing\n",
    "def readfile(filepath):\n",
    "    with open(filepath, 'r') as f:\n",
    "        filedata = f.read()  # reads entire data file data into a string\n",
    "    return filedata\n",
    "filepath = \"Datafiles/data.txt\"\n",
    "print(readfile(filepath))\n",
    "   "
   ]
  },
  {
   "cell_type": "code",
   "execution_count": null,
   "metadata": {},
   "outputs": [],
   "source": []
  },
  {
   "cell_type": "code",
   "execution_count": 7,
   "metadata": {},
   "outputs": [
    {
     "name": "stdout",
     "output_type": "stream",
     "text": [
      "54\n"
     ]
    }
   ],
   "source": [
    "def CharacterCount(filepath):\n",
    "    count = 0\n",
    "    with open(filepath,'r') as f:\n",
    "        filedata = f.read()\n",
    "        for i in filedata:\n",
    "            for j in i:\n",
    "                count +=1\n",
    "    return count\n",
    "filepath = \"Datafiles/data.txt\"\n",
    "print(CharacterCount(filepath))"
   ]
  },
  {
   "cell_type": "code",
   "execution_count": 8,
   "metadata": {},
   "outputs": [
    {
     "name": "stdout",
     "output_type": "stream",
     "text": [
      "0\n"
     ]
    }
   ],
   "source": [
    "def Linecount(filepath):\n",
    "    lcount = 0\n",
    "    with open(filepath,'r') as f:\n",
    "        filedata = f.read()\n",
    "        for i in f:\n",
    "            lcount += 1\n",
    "    return lcount\n",
    "filepath = \"Datafiles/data.txt\"\n",
    "print(Linecount(filepath))"
   ]
  },
  {
   "cell_type": "code",
   "execution_count": 9,
   "metadata": {},
   "outputs": [
    {
     "name": "stdout",
     "output_type": "stream",
     "text": [
      "10\n"
     ]
    }
   ],
   "source": [
    "filepath = \"Datafiles/data.txt\"\n",
    "def wordCount(filepath):\n",
    "    with open(filepath,'r') as f:\n",
    "        s=len(f.read().split())\n",
    "    return s\n",
    "print(wordCount(filepath))\n",
    "            "
   ]
  },
  {
   "cell_type": "code",
   "execution_count": 10,
   "metadata": {},
   "outputs": [
    {
     "name": "stdout",
     "output_type": "stream",
     "text": [
      "57 bytes\n"
     ]
    }
   ],
   "source": [
    "import os\n",
    "def file_size(f):\n",
    "    b =os.path.getsize(f)\n",
    "    if b<1000:\n",
    "        print(b,\"bytes\")\n",
    "    else:\n",
    "        a=b//1000\n",
    "        print(a,\"KB\")\n",
    "    return\n",
    "file_size(\"Datafiles/data.txt\")\n",
    "    "
   ]
  },
  {
   "cell_type": "code",
   "execution_count": 11,
   "metadata": {},
   "outputs": [
    {
     "data": {
      "text/plain": [
       "['new', 'data', 'Line', 'youLine2', 'Line3', 'Line2']"
      ]
     },
     "execution_count": 11,
     "metadata": {},
     "output_type": "execute_result"
    }
   ],
   "source": [
    "def uniquewords(filepath):\n",
    "    nlist = []\n",
    "    with open(filepath,'r') as f:\n",
    "        filedata = f.read().split()\n",
    "        for word in filedata:\n",
    "            if word not in nlist:\n",
    "                nlist.append(str(word))\n",
    "        return nlist\n",
    "        \n",
    "uniquewords(\"Datafiles/data.txt\")\n"
   ]
  },
  {
   "cell_type": "code",
   "execution_count": 12,
   "metadata": {},
   "outputs": [
    {
     "data": {
      "text/plain": [
       "6"
      ]
     },
     "execution_count": 12,
     "metadata": {},
     "output_type": "execute_result"
    }
   ],
   "source": [
    "def uniquewords(filepath):\n",
    "    nlist = []\n",
    "    with open(filepath,'r') as f:\n",
    "        words = f.read().split()\n",
    "        unique=set(words)\n",
    "        return len(unique)\n",
    "uniquewords(\"Datafiles/data.txt\")        "
   ]
  },
  {
   "cell_type": "code",
   "execution_count": 2,
   "metadata": {},
   "outputs": [
    {
     "name": "stdout",
     "output_type": "stream",
     "text": [
      "['new data', 'Line', 'data new', 'Line', 'youLine2', 'Line3', 'Line2', 'Line3']\n"
     ]
    }
   ],
   "source": [
    "def readFileintoList(filepath):\n",
    "    lcount = 0\n",
    "    with open(filepath,'r') as f:\n",
    "        filedata = f.read()\n",
    "        lines = filedata.split('\\n')\n",
    "    return lines\n",
    "filepath = \"Datafiles/data.txt\"\n",
    "print(Linecount(filepath))"
   ]
  },
  {
   "cell_type": "code",
   "execution_count": 16,
   "metadata": {},
   "outputs": [
    {
     "name": "stdout",
     "output_type": "stream",
     "text": [
      "54\n"
     ]
    }
   ],
   "source": [
    "def countLineFile(filepath):\n",
    "    lcount = len(readfile(filepath))\n",
    "    return lcount\n",
    "filepath = \"Datafiles/data.txt\"\n",
    "print(countLineFile(filepath))"
   ]
  },
  {
   "cell_type": "code",
   "execution_count": 19,
   "metadata": {},
   "outputs": [
    {
     "data": {
      "text/plain": [
       "8"
      ]
     },
     "execution_count": 19,
     "metadata": {},
     "output_type": "execute_result"
    }
   ],
   "source": [
    "import re\n",
    "def noOfWords(filepath):\n",
    "    pattern = '[\\n]'\n",
    "    filedata = readfile(filepath)\n",
    "    count = len(re.split(pattern,filedata))\n",
    "    return count\n",
    "noOfWords(filepath)\n",
    "    "
   ]
  },
  {
   "cell_type": "code",
   "execution_count": 33,
   "metadata": {},
   "outputs": [
    {
     "data": {
      "text/plain": [
       "6"
      ]
     },
     "execution_count": 33,
     "metadata": {},
     "output_type": "execute_result"
    }
   ],
   "source": [
    "def uniqueWordCount(filepath):\n",
    "    with open(filepath,'r') as f:\n",
    "        filedata=f.read().split()\n",
    "        for i in filedata:\n",
    "            if i not in unique:\n",
    "                unique.append(i)\n",
    "        \n",
    "    return len(unique)\n",
    "uniqueWordCount(filepath)\n",
    "    "
   ]
  },
  {
   "cell_type": "code",
   "execution_count": 50,
   "metadata": {},
   "outputs": [
    {
     "name": "stdout",
     "output_type": "stream",
     "text": [
      "Data : 3\n",
      "in : 3\n",
      "Line : 3\n",
      "1 : 1\n",
      "2 : 1\n",
      "3 : 1\n"
     ]
    }
   ],
   "source": [
    "def uniqueWordCount(filepath):\n",
    "    c =0\n",
    "    unique = []\n",
    "    with open(filepath,'r') as f:\n",
    "        filedata=f.read().split()\n",
    "        for i in filedata:\n",
    "            k = i\n",
    "            if k not in unique:\n",
    "                unique.append(k)\n",
    "                for j in filedata:\n",
    "                    if k==j:\n",
    "                        c = c+1\n",
    "                print(k,':',c)\n",
    "                c = 0\n",
    "    return \n",
    "uniqueWordCount(filepath)    "
   ]
  },
  {
   "cell_type": "code",
   "execution_count": 61,
   "metadata": {},
   "outputs": [
    {
     "name": "stdout",
     "output_type": "stream",
     "text": [
      "Data : 3\n",
      "in : 3\n",
      "Line : 3\n",
      "1 : 1\n",
      "2 : 1\n",
      "3 : 1\n"
     ]
    }
   ],
   "source": [
    "def uniqueWordCount(filepath):\n",
    "    c =0\n",
    "    unique = []\n",
    "    li = []\n",
    "    ui = []\n",
    "    with open(filepath,'r') as f:\n",
    "        filedata=f.read().split()\n",
    "        for i in filedata:\n",
    "            if i not in unique:\n",
    "                unique.append(i)\n",
    "        for k in unique:\n",
    "            c=0\n",
    "            for j in range(0,len(filedata)):\n",
    "                if k ==  filedata[j]:\n",
    "                    c += 1\n",
    "            print(k,':',c)\n",
    "    return \n",
    "uniqueWordCount(filepath)    "
   ]
  },
  {
   "cell_type": "code",
   "execution_count": 28,
   "metadata": {},
   "outputs": [
    {
     "name": "stdout",
     "output_type": "stream",
     "text": [
      "234213434234\n",
      "4\n"
     ]
    }
   ],
   "source": [
    "#function to get unique elements in a list\n",
    "#[1,2,3,3,2,1] ->[1,2,3]\n",
    "\n",
    "def uniqueElementsCount(list1):\n",
    "    uniquelist = []\n",
    "    for i in list1:\n",
    "        if i not in uniquelist:\n",
    "            uniquelist.append(i)\n",
    "    return len(uniquelist)\n",
    "        \n",
    "i = input()\n",
    "j = list(map(int,i))\n",
    "print(uniqueElementsCount(j))\n"
   ]
  },
  {
   "cell_type": "code",
   "execution_count": null,
   "metadata": {},
   "outputs": [],
   "source": []
  }
 ],
 "metadata": {
  "kernelspec": {
   "display_name": "Python 3",
   "language": "python",
   "name": "python3"
  },
  "language_info": {
   "codemirror_mode": {
    "name": "ipython",
    "version": 3
   },
   "file_extension": ".py",
   "mimetype": "text/x-python",
   "name": "python",
   "nbconvert_exporter": "python",
   "pygments_lexer": "ipython3",
   "version": "3.7.3"
  }
 },
 "nbformat": 4,
 "nbformat_minor": 2
}
